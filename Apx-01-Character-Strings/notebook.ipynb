{
 "cells": [
  {
   "cell_type": "markdown",
   "metadata": {},
   "source": [
    "# Character Strings In Python\n",
    "\n",
    "---"
   ]
  },
  {
   "cell_type": "markdown",
   "metadata": {},
   "source": [
    "**Table of Contents**<a id='toc0_'></a>    \n",
    "- [String In Python](#toc1_)    \n",
    "- [Searching For Substrings](#toc2_)    \n",
    "- [Constructing Related Strings](#toc3_)    \n",
    "- [Testing Boolean Conditions](#toc4_)    \n",
    "- [Splitting And Joining Strings](#toc5_)    \n",
    "- [String Formatting](#toc6_)    \n",
    "\n",
    "<!-- vscode-jupyter-toc-config\n",
    "\tnumbering=false\n",
    "\tanchor=true\n",
    "\tflat=false\n",
    "\tminLevel=2\n",
    "\tmaxLevel=6\n",
    "\t/vscode-jupyter-toc-config -->\n",
    "<!-- THIS CELL WILL BE REPLACED ON TOC UPDATE. DO NOT WRITE YOUR TEXT IN THIS CELL -->"
   ]
  },
  {
   "attachments": {},
   "cell_type": "markdown",
   "metadata": {},
   "source": [
    "---"
   ]
  },
  {
   "cell_type": "markdown",
   "metadata": {},
   "source": [
    "## <a id='toc1_'></a>String In Python [&#8593;](#toc0_)"
   ]
  },
  {
   "attachments": {},
   "cell_type": "markdown",
   "metadata": {},
   "source": [
    "- Sequence of characters that come from some alphabet\n",
    "- Using the built-in `str` class\n",
    "- Based on *Unicode Character Set*\n",
    "  - 16-bit character encoding\n",
    "  - Extension of the 7-bit ASCII Character Set (Latin Alphabet, Numeral, and Symbols)\n",
    "- Particularly important in most programming applications\n",
    "  - Text is often used for input and output"
   ]
  },
  {
   "cell_type": "markdown",
   "metadata": {},
   "source": [
    "## <a id='toc2_'></a>Searching For Substrings [&#8593;](#toc0_)"
   ]
  },
  {
   "attachments": {},
   "cell_type": "markdown",
   "metadata": {},
   "source": [
    "Syntax|Description\n",
    ":-|:-\n",
    "`SUB in st`|Determine if a given pattern `SUB` occurs as a substring of string `st`\n",
    "`st.count(SUB[, start, end])`|Return the number of non-overlapping occurrences of `SUB`\n",
    "`st.find(SUB[, start, end])`|Return the index starting the *leftmost* occurrence of `SUB`; else `-1`\n",
    "`st.index(SUB[, start, end])`|Same as `st.find()` but raise `ValueError` if not found\n",
    "`st.rfind(SUB[, start, end])`|Return the index starting the *rightmost* occurrence of pattern; else `-1`\n",
    "`st.rindex(SUB[, start, end])`|Same as `st.rfind()`, but raise `ValueError` if not found"
   ]
  },
  {
   "cell_type": "code",
   "execution_count": 1,
   "metadata": {},
   "outputs": [
    {
     "name": "stdout",
     "output_type": "stream",
     "text": [
      "GREETING = \"Hello my friend! How are you doing this morning, my friend?\"; SUB = \"friend\"\n",
      "----------------------------------------------------------------------------------------\n",
      "\"friend\" in GREETING: True\n",
      "GREETING.count(SUB): 2\n",
      "GREETING.find(SUB): 9\n",
      "GREETING.index(SUB): 9\n",
      "GREETING.rfind(SUB): 52\n",
      "GREETING.rindex(SUB): 52\n"
     ]
    }
   ],
   "source": [
    "# Using substring search methods for strings\n",
    "# ------------------------------------------\n",
    "\n",
    "GREETING: str = \"Hello my friend! How are you doing this morning, my friend?\"\n",
    "SUB: str = \"friend\"\n",
    "header: str = f\"GREETING = \\\"{GREETING}\\\"; SUB = \\\"{SUB}\\\"\\n\"\n",
    "header += f\"{'-' * (len(header) - 1)}\"\n",
    "print(f\"{header}\")\n",
    "\n",
    "print(f\"\\\"{SUB}\\\" in GREETING: {SUB in GREETING}\")\n",
    "print(f\"GREETING.count(SUB): {GREETING.count(SUB)}\")\n",
    "print(f\"GREETING.find(SUB): {GREETING.find(SUB)}\")\n",
    "print(f\"GREETING.index(SUB): {GREETING.index(SUB)}\")\n",
    "print(f\"GREETING.rfind(SUB): {GREETING.rfind(SUB)}\")\n",
    "print(f\"GREETING.rindex(SUB): {GREETING.rindex(SUB)}\")"
   ]
  },
  {
   "cell_type": "markdown",
   "metadata": {},
   "source": [
    "## <a id='toc3_'></a>Constructing Related Strings [&#8593;](#toc0_)"
   ]
  },
  {
   "attachments": {},
   "cell_type": "markdown",
   "metadata": {},
   "source": [
    "- Strings in Python are *immutable*\n",
    "  - A given string cannot be modified in any way\n",
    "  - Methods only return a newly constructed string that is closely related to an existing one"
   ]
  },
  {
   "attachments": {},
   "cell_type": "markdown",
   "metadata": {},
   "source": [
    "Syntax|Description\n",
    ":-|:-\n",
    "`st.replace(old, new)`|Return a copy of `st` with all occurrences of `old` replaced by `new`\n",
    "`st.capitalize()`|Return a copy of `st` with its first character having uppercase\n",
    "`st.title()`|Return a copy of `st` with the first character of each word having uppercase\n",
    "`st.upper()`|Return a copy of `st` with all alphabetic characters in uppercase\n",
    "`st.lower()`|Return a copy of `st` with all alphabetic characters in lowercase\n",
    "`st.center(width)`|Return a copy of `st`, padded to `width`, centered among *spaces*\n",
    "`st.ljust(width)`|Return a copy of `st`, padded to `width` with trailing *spaces*\n",
    "`st.rjust(width)`|Return a copy of `st`, padded to `width` with leading *spaces*\n",
    "`st.zfill(width)`|Return a copy of `st`, padded to `width` with leading *zeros*\n",
    "`st.strip()`|Return a copy of `st`, with leading and trailing whitespace removed\n",
    "`st.lstrip()`|Return a copy of `st`, with leading whitespace removed\n",
    "`st.rstrip()`|Return a copy of `st`, with trailing whitespace removed\n",
    "\n",
    "- Several of these methods accept optional parameters"
   ]
  },
  {
   "cell_type": "code",
   "execution_count": 2,
   "metadata": {},
   "outputs": [
    {
     "name": "stdout",
     "output_type": "stream",
     "text": [
      "ST =    a brand new day   \n",
      "--------------------------\n",
      "ST.replace(\"day\", \"night\"):    a brand new night   \n",
      "ST.capitalize():    a brand new day   \n",
      "ST.title():    A Brand New Day   \n",
      "ST.upper():    A BRAND NEW DAY   \n",
      "ST.lower():    a brand new day   \n",
      "ST.center(50, '-'): --------------   a brand new day   ---------------\n",
      "ST.ljust(50, '-'):    a brand new day   -----------------------------\n",
      "ST.rjust(50, '-'): -----------------------------   a brand new day   \n",
      "ST.zfill(50): 00000000000000000000000000000   a brand new day   \n",
      "ST.strip(): a brand new day\n",
      "ST.lstrip(): a brand new day   \n",
      "ST.rstrip():    a brand new day\n"
     ]
    }
   ],
   "source": [
    "# Constructing related strings\n",
    "# ----------------------------\n",
    "\n",
    "ST: str = \"   a brand new day   \"\n",
    "header = f\"ST = {ST}\\n\"\n",
    "header += f\"{'-' * (len(header) - 1)}\"\n",
    "print(f\"{header}\")\n",
    "\n",
    "print(f\"ST.replace(\\\"day\\\", \\\"night\\\"): {ST.replace('day', 'night')}\")\n",
    "print(f\"ST.capitalize(): {ST.capitalize()}\")\n",
    "print(f\"ST.title(): {ST.title()}\")\n",
    "print(f\"ST.upper(): {ST.upper()}\")\n",
    "print(f\"ST.lower(): {ST.lower()}\")\n",
    "print(f\"ST.center(50, '-'): {ST.center(50, '-')}\")\n",
    "print(f\"ST.ljust(50, '-'): {ST.ljust(50, '-')}\")\n",
    "print(f\"ST.rjust(50, '-'): {ST.rjust(50, '-')}\")\n",
    "print(f\"ST.zfill(50): {ST.zfill(50)}\")\n",
    "print(f\"ST.strip(): {ST.strip()}\")\n",
    "print(f\"ST.lstrip(): {ST.lstrip()}\")\n",
    "print(f\"ST.rstrip(): {ST.rstrip()}\")"
   ]
  },
  {
   "cell_type": "markdown",
   "metadata": {},
   "source": [
    "## <a id='toc4_'></a>Testing Boolean Conditions [&#8593;](#toc0_)"
   ]
  },
  {
   "attachments": {},
   "cell_type": "markdown",
   "metadata": {},
   "source": [
    "Syntax|Description\n",
    ":-|:-\n",
    "`st.startswith(pattern)`|Return `True` if `pattern` is a *prefix* of string `st`\n",
    "`st.endswith(pattern)`|Return `True` if `pattern` is a *suffix* of string `st`\n",
    "`st.isspace()`|Return `True` if all characters of nonempty string are whitespace\n",
    "`st.isalpha()`|Return `True` if all characters of nonempty string are alphabetic\n",
    "`st.islower()`|Return `True` if there are one or more alphabetic characters, all of which are lowercased\n",
    "`st.isupper()`|Return `True` if there are one or more alphabetic characters, all of which are uppercased\n",
    "`st.isdigit()`|Return `True` if all characters of nonempty string are in `0–9`\n",
    "`st.isdecimal()`|Return `True` if all characters of nonempty string represent digits `0–9`, including Unicode equivalents\n",
    "`st.isnumeric()`|Return `True` if all characters of nonempty string are numeric Unicode characters (e.g., `0–9`, equivalents, fraction characters)\n",
    "`st.isalnum()`|Return `True` if all characters of nonempty string are either alphabetic or numeric (as per above definitions)"
   ]
  },
  {
   "cell_type": "code",
   "execution_count": 3,
   "metadata": {},
   "outputs": [
    {
     "name": "stdout",
     "output_type": "stream",
     "text": [
      "passage = and thus, it has been so since then...\n",
      "------------------------------------------------\n",
      "passage.startswith('And'): False\n",
      "passage.endswith('.'): True\n",
      "passage.isspace(): False\n",
      "passage.isalpha(): False\n",
      "passage.islower(): True\n",
      "passage.isupper(): False\n",
      "\n",
      "passage = and thus it has been so since then\n",
      "--------------------------------------------\n",
      "passage.isdigit(): False\n",
      "passage.isdecimal(): False\n",
      "passage.isnumeric(): False\n",
      "passage.isalnum(): False\n"
     ]
    }
   ],
   "source": [
    "# Testing boolean conditions\n",
    "# --------------------------\n",
    "\n",
    "passage: str = \"and thus, it has been so since then...\"\n",
    "header = f\"passage = {passage}\\n\"\n",
    "header += f\"{'-' * (len(header) - 1)}\"\n",
    "print(f\"{header}\")\n",
    "\n",
    "print(f\"passage.startswith('And'): {passage.startswith('And')}\")\n",
    "print(f\"passage.endswith('.'): {passage.endswith('.')}\")\n",
    "print(f\"passage.isspace(): {passage.isspace()}\")\n",
    "print(f\"passage.isalpha(): {passage.isalpha()}\")\n",
    "print(f\"passage.islower(): {passage.islower()}\")\n",
    "print(f\"passage.isupper(): {passage.isupper()}\")\n",
    "print()\n",
    "\n",
    "passage = passage.replace(\".\", \"\").replace(\",\", \"\")\n",
    "header = f\"passage = {passage}\\n\"\n",
    "header += f\"{'-' * (len(header) - 1)}\"\n",
    "print(f\"{header}\")\n",
    "\n",
    "print(f\"passage.isdigit(): {passage.isdigit()}\")\n",
    "print(f\"passage.isdecimal(): {passage.isdecimal()}\")\n",
    "print(f\"passage.isnumeric(): {passage.isnumeric()}\")\n",
    "print(f\"passage.isalnum(): {passage.isalnum()}\")\n"
   ]
  },
  {
   "cell_type": "markdown",
   "metadata": {},
   "source": [
    "## <a id='toc5_'></a>Splitting And Joining Strings [&#8593;](#toc0_)"
   ]
  },
  {
   "attachments": {},
   "cell_type": "markdown",
   "metadata": {},
   "source": [
    "- *Splitting* - Take an existing string and determine a decomposition based upon a given separating pattern\n",
    "- *Joining* - Compose a sequence of strings together using a delimiter to separate each pair"
   ]
  },
  {
   "attachments": {},
   "cell_type": "markdown",
   "metadata": {},
   "source": [
    "Syntax|Description\n",
    ":-|:-\n",
    "`sep.join(strings)`|Return the composition of the given sequence of strings, inserting `sep` as delimiter between each pair. Used to assemble a string from a series of pieces\n",
    "`st.splitlines()`|Return a list of substrings of `st`, as delimited by newlines\n",
    "`st.split(sep, count)`|Return a list of substrings of `st`, as delimited by the first count occurrences of `sep`. If `count` is not specified, split on all occurrences. If `sep` is not specified, use whitespace as delimiter\n",
    "`st.rsplit(sep, count)`|Similar to `st.split()` but using the rightmost occurrences of `sep`\n",
    "`st.partition(sep)`|Return `(head, sep, tail)` such that `st = head + sep + tail`, using leftmost occurrence of `sep`, if any; else return `(st, , )`\n",
    "`st.rpartition(sep)`|Return `(head, sep, tail)` such that `st = head + sep + tail`, using rightmost occurrence of `sep`, if any; else return `( , , st)`"
   ]
  },
  {
   "cell_type": "code",
   "execution_count": 4,
   "metadata": {},
   "outputs": [
    {
     "name": "stdout",
     "output_type": "stream",
     "text": [
      "', '.join(kwlist):\n",
      "False, None, True, and, as, assert, async, await, break, class, continue, def, del, elif, else, except, finally, for, from, global, if, import, in, is, lambda, nonlocal, not, or, pass, raise, return, try, while, with, yield\n",
      "\n",
      "PARAGRAPH.splitlines():\n",
      "['Good morning!', 'Today, we will discuss about the weather.', 'Thank you!']\n",
      "\n",
      "PARAGRAPH.split():\n",
      "['Good', 'morning!', 'Today,', 'we', 'will', 'discuss', 'about', 'the', 'weather.', 'Thank', 'you!']\n",
      "\n",
      "PARAGRAPH.rsplit():\n",
      "['Good', 'morning!', 'Today,', 'we', 'will', 'discuss', 'about', 'the', 'weather.', 'Thank', 'you!']\n",
      "\n",
      "PARAGRAPH.partition('\\n'):\n",
      "('Good morning!', '\\n', 'Today, we will discuss about the weather.\\nThank you!')\n",
      "\n",
      "PARAGRAPH.rpartition('\\n'):\n",
      "('Good morning!\\nToday, we will discuss about the weather.', '\\n', 'Thank you!')\n"
     ]
    }
   ],
   "source": [
    "# Splitting and joining strings\n",
    "# -----------------------------\n",
    "\n",
    "from keyword import kwlist\n",
    "from typing import Tuple\n",
    "\n",
    "print(f\"', '.join(kwlist):\\n{', '.join(kwlist)}\")\n",
    "print()\n",
    "\n",
    "PARAGRAPH: str = \"Good morning!\\nToday, we will discuss about the weather.\\nThank you!\"\n",
    "print(f\"PARAGRAPH.splitlines():\\n{PARAGRAPH.splitlines()}\")\n",
    "print()\n",
    "print(f\"PARAGRAPH.split():\\n{PARAGRAPH.split()}\")\n",
    "print()\n",
    "print(f\"PARAGRAPH.rsplit():\\n{PARAGRAPH.rsplit()}\")\n",
    "print()\n",
    "\n",
    "parts: Tuple[str, str, str] = PARAGRAPH.partition(\"\\n\")\n",
    "print(f\"PARAGRAPH.partition('\\\\n'):\\n{parts}\")\n",
    "print()\n",
    "\n",
    "parts = PARAGRAPH.rpartition(\"\\n\")\n",
    "print(f\"PARAGRAPH.rpartition('\\\\n'):\\n{parts}\")\n"
   ]
  },
  {
   "cell_type": "markdown",
   "metadata": {},
   "source": [
    "## <a id='toc6_'></a>String Formatting [&#8593;](#toc0_)"
   ]
  },
  {
   "attachments": {},
   "cell_type": "markdown",
   "metadata": {},
   "source": [
    "- Strings in Python can be formatted using `f`-string of the `.format()` method\n",
    "- The pairs of curly braces in the formatting string are the placeholders for fields that will be substituted into the result\n",
    "- Allow use of annotations to pad an argument to a particular width, using a choice of fill character and justification mode\n",
    "  - By default, space is used as a fill character\n",
    "  - An implied `<` character dictates left-justification\n",
    "  - An explicit `>` character dictates right-justification\n",
    "  - An explicit `^` character dictates center-justification"
   ]
  },
  {
   "cell_type": "code",
   "execution_count": 5,
   "metadata": {},
   "outputs": [
    {
     "name": "stdout",
     "output_type": "stream",
     "text": [
      "***************hello\n",
      "-------hello--------\n"
     ]
    }
   ],
   "source": [
    "# String Formatting: Center the string (^) and pad with -\n",
    "# -------------------------------------------------------\n",
    "\n",
    "VAL: str = \"hello\"\n",
    "\n",
    "print(\"{:*>20}\".format(VAL))\n",
    "print(f\"{VAL:-^20}\")"
   ]
  },
  {
   "attachments": {},
   "cell_type": "markdown",
   "metadata": {},
   "source": [
    "- A number will be padded with zeros rather than spaces if its width description is prefaced with a\n",
    "zero"
   ]
  },
  {
   "cell_type": "code",
   "execution_count": 6,
   "metadata": {},
   "outputs": [
    {
     "name": "stdout",
     "output_type": "stream",
     "text": [
      "2023/03/15\n"
     ]
    }
   ],
   "source": [
    "# String Formatting: Pad numbers with 0\n",
    "# -------------------------------------\n",
    "\n",
    "YEAR: int = 2023\n",
    "MONTH: int = 3\n",
    "DAY: int = 15\n",
    "\n",
    "print(f\"{YEAR}/{MONTH:02}/{DAY:02}\")"
   ]
  },
  {
   "attachments": {},
   "cell_type": "markdown",
   "metadata": {},
   "source": [
    "- Integers can be converted to *binary*, *octal*, or *hexadecimal* by respectively adding the character `b`, `o`, or `x` as a *suffix* to the annotation"
   ]
  },
  {
   "cell_type": "code",
   "execution_count": 7,
   "metadata": {},
   "outputs": [
    {
     "name": "stdout",
     "output_type": "stream",
     "text": [
      "MY_INT: 1965\n",
      "MY_INT in binary: 11110101101\n",
      "MY_INT in octal: 3655\n",
      "MY_INT in hexadecimal: 7ad\n"
     ]
    }
   ],
   "source": [
    "# String Formatting: Converting integers to bin, octal, or hex\n",
    "# ------------------------------------------------------------\n",
    "\n",
    "MY_INT: int = 1965\n",
    "\n",
    "print(f\"MY_INT: {MY_INT}\")\n",
    "print(f\"MY_INT in binary: {MY_INT:b}\")\n",
    "print(f\"MY_INT in octal: {MY_INT:o}\")\n",
    "print(f\"MY_INT in hexadecimal: {MY_INT:x}\")"
   ]
  },
  {
   "attachments": {},
   "cell_type": "markdown",
   "metadata": {},
   "source": [
    "- Displayed precision of a floating-point number is specified with a decimal point and the subsequent number of desired digits\n",
    "- Suffix `f` for floating-point representation or `e` for scientific notation"
   ]
  },
  {
   "cell_type": "code",
   "execution_count": 8,
   "metadata": {},
   "outputs": [
    {
     "name": "stdout",
     "output_type": "stream",
     "text": [
      "MY_FLOAT: 3.142\n",
      "MY_FLOAT in scientific notation: 3.142e+00\n"
     ]
    }
   ],
   "source": [
    "# String Formatting: Formatting Floating-Points\n",
    "# ---------------------------------------------\n",
    "\n",
    "MY_FLOAT: float = 3.1415\n",
    "\n",
    "print(f\"MY_FLOAT: {MY_FLOAT:.3f}\")\n",
    "print(f\"MY_FLOAT in scientific notation: {MY_FLOAT:.3e}\")"
   ]
  }
 ],
 "metadata": {
  "kernelspec": {
   "display_name": "venv",
   "language": "python",
   "name": "python3"
  },
  "language_info": {
   "codemirror_mode": {
    "name": "ipython",
    "version": 3
   },
   "file_extension": ".py",
   "mimetype": "text/x-python",
   "name": "python",
   "nbconvert_exporter": "python",
   "pygments_lexer": "ipython3",
   "version": "3.11.2"
  },
  "orig_nbformat": 4
 },
 "nbformat": 4,
 "nbformat_minor": 2
}
