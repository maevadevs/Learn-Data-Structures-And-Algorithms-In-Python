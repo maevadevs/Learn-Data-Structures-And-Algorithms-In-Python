{
 "cells": [
  {
   "attachments": {},
   "cell_type": "markdown",
   "metadata": {},
   "source": [
    "# Object-Oriented Programming\n"
   ]
  },
  {
   "attachments": {},
   "cell_type": "markdown",
   "metadata": {},
   "source": [
    "---\n"
   ]
  },
  {
   "attachments": {},
   "cell_type": "markdown",
   "metadata": {},
   "source": [
    "**Table of contents**<a id='toc0_'></a>\n",
    "\n",
    "-   [Object-Oriented Design Goals](#toc1_)\n",
    "    -   [Robustness](#toc1_1_)\n",
    "    -   [Adaptability](#toc1_2_)\n",
    "    -   [Reusability](#toc1_3_)\n",
    "-   [Object-Oriented Design Principles](#toc2_)\n",
    "    -   [Modularity](#toc2_1_)\n",
    "    -   [Abstraction](#toc2_2_)\n",
    "    -   [Encapsulation](#toc2_3_)\n",
    "    -   [Design Patterns](#toc2_4_)\n",
    "-   [Software Development](#toc3_)\n",
    "    -   [Design](#toc3_1_)\n",
    "        -   [Class-Responsibility-Collaborator (CRC) Cards](#toc3_1_1_)\n",
    "        -   [Unified Modeling Languages (UML)](#toc3_1_2_)\n",
    "        -   [Class Diagram](#toc3_1_3_)\n",
    "    -   [Pseudo-Code](#toc3_2_)\n",
    "    -   [Coding Style](#toc3_3_)\n",
    "    -   [Documentations](#toc3_4_)\n",
    "    -   [Testing and Debugging](#toc3_5_)\n",
    "        -   [Testing](#toc3_5_1_)\n",
    "        -   [Debugging](#toc3_5_2_)\n",
    "-   [Class Definitions](#toc4_)\n",
    "    -   [Example: `CreditCard` Class](#toc4_1_)\n",
    "        -   [The `self` Identifier](#toc4_1_1_)\n",
    "        -   [The `__init__()` Constructor](#toc4_1_2_)\n",
    "        -   [Encapsulation](#toc4_1_3_)\n",
    "        -   [Additional Methods](#toc4_1_4_)\n",
    "        -   [Error Checking](#toc4_1_5_)\n",
    "        -   [Testing Class](#toc4_1_6_)\n",
    "    -   [Operator Overloading and Special Methods](#toc4_2_)\n",
    "        -   [Non-Operator Overload](#toc4_2_1_)\n",
    "        -   [Implied Methods](#toc4_2_2_)\n",
    "    -   [Example: Multidimensional `Vector` Class](#toc4_3_)\n",
    "    -   [Iterators](#toc4_4_)\n",
    "    -   [Example: `Range` Class](#toc4_5_)\n",
    "-   [Inheritance](#toc5_)\n",
    "    -   [Python's Exception Hierarchy](#toc5_1_)\n",
    "    -   [Extending The `CreditCard` Class](#toc5_2_)\n",
    "        -   [`protected` Members](#toc5_2_1_)\n",
    "    -   [Hierarchy of Numeric Progression](#toc5_3_)\n",
    "        -   [Arithmetic Progression](#toc5_3_1_)\n",
    "        -   [Geometric Progression](#toc5_3_2_)\n",
    "        -   [Fibonacci Progression](#toc5_3_3_)\n",
    "        -   [Testing The Progressions](#toc5_3_4_)\n",
    "    -   [Abstract Base Class (ABC)](#toc5_4_)\n",
    "-   [Namespaces and Object-Orientation](#toc6_)\n",
    "    -   [Instance and Class Namespaces](#toc6_1_)\n",
    "        -   [How Entries Are Established in a Namespace](#toc6_1_1_)\n",
    "        -   [Class Data Members](#toc6_1_2_)\n",
    "        -   [Nested Classes](#toc6_1_3_)\n",
    "        -   [Dictionaries and `__slots__` Declaration](#toc6_1_4_)\n",
    "    -   [Name Resolution and Dynamic Dispatch](#toc6_2_)\n",
    "-   [Shallow And Deep Copying](#toc7_)\n",
    "    -   [Shallow Copy](#toc7_1_)\n",
    "    -   [Deep Copy](#toc7_2_)\n",
    "    -   [`copy` Module](#toc7_3_)\n",
    "\n",
    "<!-- vscode-jupyter-toc-config\n",
    "\tnumbering=false\n",
    "\tanchor=true\n",
    "\tflat=false\n",
    "\tminLevel=2\n",
    "\tmaxLevel=6\n",
    "\t/vscode-jupyter-toc-config -->\n",
    "<!-- THIS CELL WILL BE REPLACED ON TOC UPDATE. DO NOT WRITE YOUR TEXT IN THIS CELL -->\n"
   ]
  },
  {
   "attachments": {},
   "cell_type": "markdown",
   "metadata": {},
   "source": [
    "---\n"
   ]
  },
  {
   "attachments": {},
   "cell_type": "markdown",
   "metadata": {},
   "source": [
    "-   **Objects** - Instance of a Class\n",
    "-   **Class**\n",
    "    -   Concise and consistent view of object instances\n",
    "    -   Specify _Instance Variables_ (_Data Members_) and _Methods_ (_Member Functions_)\n"
   ]
  },
  {
   "attachments": {},
   "cell_type": "markdown",
   "metadata": {},
   "source": [
    "## <a id='toc1_'></a>Object-Oriented Design Goals [&#8593;](#toc0_)\n"
   ]
  },
  {
   "attachments": {},
   "cell_type": "markdown",
   "metadata": {},
   "source": [
    "-   Robustness\n",
    "-   Adaptability\n",
    "-   Reusability\n"
   ]
  },
  {
   "attachments": {},
   "cell_type": "markdown",
   "metadata": {},
   "source": [
    "### <a id='toc1_1_'></a>Robustness [&#8593;](#toc0_)\n"
   ]
  },
  {
   "attachments": {},
   "cell_type": "markdown",
   "metadata": {},
   "source": [
    "-   Software should be _Correct_ and _Robust_\n",
    "    -   Produce the right output for all anticipated inputs\n",
    "    -   Handle unexpected inputs that are not explicitly defined\n",
    "    -   In life-critical application, non-robust software can be deadly\n"
   ]
  },
  {
   "attachments": {},
   "cell_type": "markdown",
   "metadata": {},
   "source": [
    "### <a id='toc1_2_'></a>Adaptability [&#8593;](#toc0_)\n"
   ]
  },
  {
   "attachments": {},
   "cell_type": "markdown",
   "metadata": {},
   "source": [
    "-   _Evolvability_\n",
    "    -   Need to evolve overtime\n",
    "    -   Respond to changing conditions in the environment\n",
    "-   _Portability_\n",
    "    -   Software should run with minima changes on different platforms and OS\n",
    "-   Python itself evolves overtime and is portable across systems\n"
   ]
  },
  {
   "attachments": {},
   "cell_type": "markdown",
   "metadata": {},
   "source": [
    "### <a id='toc1_3_'></a>Reusability [&#8593;](#toc0_)\n"
   ]
  },
  {
   "attachments": {},
   "cell_type": "markdown",
   "metadata": {},
   "source": [
    "-   The same code should be reusable as component in various applications\n",
    "-   It can offset cost\n",
    "-   However, reusability is never promised\n",
    "-   It should be handled with care\n"
   ]
  },
  {
   "attachments": {},
   "cell_type": "markdown",
   "metadata": {},
   "source": [
    "## <a id='toc2_'></a>Object-Oriented Design Principles [&#8593;](#toc0_)\n"
   ]
  },
  {
   "attachments": {},
   "cell_type": "markdown",
   "metadata": {},
   "source": [
    "-   Modularity\n",
    "-   Abstraction\n",
    "-   Encapsulation\n"
   ]
  },
  {
   "attachments": {},
   "cell_type": "markdown",
   "metadata": {},
   "source": [
    "### <a id='toc2_1_'></a>Modularity [&#8593;](#toc0_)\n"
   ]
  },
  {
   "attachments": {},
   "cell_type": "markdown",
   "metadata": {},
   "source": [
    "-   Software consists of multiple parts that must interact correctly\n",
    "-   _Modularity_\n",
    "    -   Organizing principle\n",
    "    -   **Different components of a software system are divided into separate functional units**\n",
    "    -   Bring clarity of thought\n",
    "    -   **Provides a natural way of organizing functions into distinct manageable units**\n",
    "    -   Provides a powerful organizing framework that brings clarity to an implementation\n",
    "-   **Python already has _Modules_ backed in the language**\n",
    "    -   Collection of closely related functions and classes\n",
    "    -   Defined together in a single source code file\n",
    "-   Support the OOD Goals\n",
    "    -   Increase _Robustness_\n",
    "        -   Easier to test and debug separate components\n",
    "        -   Bugs can be traced to separate components and fixed in isolation\n",
    "    -   Enables _Reusability_\n",
    "        -   Modules can be reused when related need arises\n"
   ]
  },
  {
   "attachments": {},
   "cell_type": "markdown",
   "metadata": {},
   "source": [
    "### <a id='toc2_2_'></a>Abstraction [&#8593;](#toc0_)\n"
   ]
  },
  {
   "attachments": {},
   "cell_type": "markdown",
   "metadata": {},
   "source": [
    "-   Distill a complicated system down to its most fundamental parts\n",
    "-   Gives rise to _Abstract Data Types (ADT)_\n",
    "    -   Mathematical model of a data structure\n",
    "    -   Specifies:\n",
    "        -   _Data Type_ - The type of data stored\n",
    "        -   _Methods_ - The operations supported on the data\n",
    "        -   _Parameters_ - The types of parameters of the operations\n",
    "-   Specify the _What_ but not the _How_\n",
    "-   _Public Interface_ - Collective set of behaviors supported by an ADT\n",
    "-   **Python typically handles abstraction with _Duck Typing_**\n",
    "    -   No compile-time checking of data types\n",
    "    -   No formal requirement for declarations of abstract base classes\n",
    "    -   Just ssume that an object supports a set of known behaviors\n",
    "    -   The interpreter raises a runtime error if those assumptions fail\n",
    "    -   **However, we can use `mypy` as type-checker**\n",
    "-   **Python also handles abstraction using _Abstract Base Class_**\n",
    "    -   With the `abc` module\n",
    "    -   ABC cannot be instantiated\n",
    "    -   Defines common methods that _Concrete Classes_ must have\n",
    "-   _Concrete Class_\n",
    "    -   One or more concrete classes inherit from the abstract base class\n",
    "    -   Also provides implementations for those methods declared by the ABC\n",
    "-   Python's `abc` Module\n",
    "    -   Provide formal support for ABC\n"
   ]
  },
  {
   "attachments": {},
   "cell_type": "markdown",
   "metadata": {},
   "source": [
    "### <a id='toc2_3_'></a>Encapsulation [&#8593;](#toc0_)\n"
   ]
  },
  {
   "attachments": {},
   "cell_type": "markdown",
   "metadata": {},
   "source": [
    "-   Components should not reveal the internal details of their implementations\n",
    "-   Gives programmer freedom to implement the details of a component\n",
    "    -   No concern that other programmers will be writing code that depends on those internals\n",
    "    -   But must maintain the public interface for the component\n",
    "    -   Other programmers will be writing code that depends on that interface\n",
    "-   Result in _Robustness_ and _Adaptability_\n",
    "    -   Implementation details can change without adversely affecting other parts\n",
    "    -   Making it easier to fix bugs\n",
    "    -   Making it easier to add new functionality with only local changes\n",
    "-   **However, Python only implements loose support for encapsulation**\n",
    "    -   Names starting with `_` are _Non-Public_\n",
    "    -   Names starting with `__` are _Private_\n",
    "    -   But this is not enforced by the runtime, just conventions\n",
    "    -   Only reinforced by the omission of those members from automatic documentation\n"
   ]
  },
  {
   "attachments": {},
   "cell_type": "markdown",
   "metadata": {},
   "source": [
    "### <a id='toc2_4_'></a>Design Patterns [&#8593;](#toc0_)\n"
   ]
  },
  {
   "attachments": {},
   "cell_type": "markdown",
   "metadata": {},
   "source": [
    "-   Variety of organizational concepts and methodologies For designing OO software\n",
    "-   Describes a solution to a _typical_ software design problem\n",
    "    -   General template for a solution that can be applied in different situations\n",
    "    -   Describes the main elements of a solution in an abstract way\n",
    "    -   Can be specialized for a specific problem at hand\n",
    "-   Consists of:\n",
    "    -   _Name_ - Identifies the pattern\n",
    "    -   _Context_ - Describes the scenarios for which this pattern can be applied\n",
    "    -   _Template_ - Describes how the pattern is applied\n",
    "    -   _Result_ - Describes and analyzes what the pattern produces\n",
    "-   Fall into two groups:\n",
    "    -   Patterns for solving _Algorithm Design_ problems\n",
    "    -   Patterns for solving _Software Engineering_ problems\n"
   ]
  },
  {
   "attachments": {},
   "cell_type": "markdown",
   "metadata": {},
   "source": [
    "| Category                   | Pattern                                                                                                                                                       |\n",
    "| :------------------------- | :------------------------------------------------------------------------------------------------------------------------------------------------------------ |\n",
    "| **_Algorithm Design_**     | - Recursion<br>- Amortization<br>- Divide-and-Conquer<br>- Prune-and-Search/Decrease-and-Conquer<br>- Brute Force<br>- Dynamic Programming<br>- Greedy Method |\n",
    "| **_Software Engineering_** | - Iterator<br>- Adapter<br>- Position<br>- Composition<br>- Template Method<br>- Locator<br>- Factory Method                                                  |\n"
   ]
  },
  {
   "attachments": {},
   "cell_type": "markdown",
   "metadata": {},
   "source": [
    "## <a id='toc3_'></a>Software Development [&#8593;](#toc0_)\n"
   ]
  },
  {
   "attachments": {},
   "cell_type": "markdown",
   "metadata": {},
   "source": [
    "-   3 major steps\n",
    "    -   Design\n",
    "    -   Implementation\n",
    "    -   Testing and Debugging\n"
   ]
  },
  {
   "attachments": {},
   "cell_type": "markdown",
   "metadata": {},
   "source": [
    "### <a id='toc3_1_'></a>Design [&#8593;](#toc0_)\n"
   ]
  },
  {
   "attachments": {},
   "cell_type": "markdown",
   "metadata": {},
   "source": [
    "-   The most important phase in the process of developing software\n",
    "-   **Decide how to divide the workings of our program into classes**\n",
    "    -   How these classes will interact\n",
    "    -   What data each will store\n",
    "    -   What actions each will perform\n",
    "-   **Main challenges that programmers face: _Deciding what classes to define_**\n",
    "    -   **Responsibilities**\n",
    "        -   Divide the work into different _Actors_\n",
    "        -   Each with a different responsibility\n",
    "        -   Describe responsibilities using action verbs\n",
    "        -   _Actors will become Classes_\n",
    "    -   **Independence**\n",
    "        -   Each class should be as independent from other classes as possible\n",
    "        -   Subdivide responsibilities between classes\n",
    "        -   Each class has autonomy over some aspect of the program\n",
    "        -   Give data to the class that has jurisdiction over the actions that require access to this data\n",
    "    -   **Behaviors**\n",
    "        -   Define the behaviors for each class\n",
    "        -   Consequences of each class action should be understood by other classes that interact with it\n",
    "        -   _Behaviors will define the Methods that this class performs_\n",
    "        -   _The set of behaviors for a class are the interface to the class_\n",
    "            -   The means for other pieces of code to interact with objects from the class\n"
   ]
  },
  {
   "attachments": {},
   "cell_type": "markdown",
   "metadata": {},
   "source": [
    "#### <a id='toc3_1_1_'></a>Class-Responsibility-Collaborator (CRC) Cards [&#8593;](#toc0_)\n"
   ]
  },
  {
   "attachments": {},
   "cell_type": "markdown",
   "metadata": {},
   "source": [
    "-   Common tool for developing an initial high-level design\n",
    "-   Simple index cards that subdivide the work required of a program\n",
    "-   To have each card represent a component\n",
    "-   Components ultimately become classes in the program\n",
    "-   Write the name of each component on the top of an index card\n",
    "    -   Left-hand side: _Responsibilities_\n",
    "    -   Right-hand side: _Collaborators_ (Other components to interact with)\n",
    "-   Iterates through an action/actor cycle\n",
    "    -   First, identify an _action/responsibility_\n",
    "    -   Then, determine an _actor/actor_ that is best suited to perform that action\n",
    "    -   Design is complete when we have assigned all actions to actors\n",
    "-   Each component should have a small set of responsibilities and collaborators\n",
    "    -   Enforcing this rule helps keep the individual classes manageable\n"
   ]
  },
  {
   "attachments": {},
   "cell_type": "markdown",
   "metadata": {},
   "source": [
    "#### <a id='toc3_1_2_'></a>Unified Modeling Languages (UML) [&#8593;](#toc0_)\n"
   ]
  },
  {
   "attachments": {},
   "cell_type": "markdown",
   "metadata": {},
   "source": [
    "-   Standard approach to explain and document the design\n",
    "-   Diagrams to express the organization of a program\n",
    "-   Standard visual notation to express object-oriented software designs\n",
    "-   Can be generated using software\n"
   ]
  },
  {
   "attachments": {},
   "cell_type": "markdown",
   "metadata": {},
   "source": [
    "#### <a id='toc3_1_3_'></a>Class Diagram [&#8593;](#toc0_)\n"
   ]
  },
  {
   "attachments": {},
   "cell_type": "markdown",
   "metadata": {},
   "source": [
    "-   One type of UML figure\n",
    "-   Specifically show the elements of a class\n",
    "    -   Name\n",
    "    -   Instance Variables\n",
    "    -   Methods\n"
   ]
  },
  {
   "attachments": {},
   "cell_type": "markdown",
   "metadata": {},
   "source": [
    "<img src=\"./images/class-diagram-example.png\" width=50%>\n"
   ]
  },
  {
   "attachments": {},
   "cell_type": "markdown",
   "metadata": {},
   "source": [
    "### <a id='toc3_2_'></a>Pseudo-Code [&#8593;](#toc0_)\n"
   ]
  },
  {
   "attachments": {},
   "cell_type": "markdown",
   "metadata": {},
   "source": [
    "-   Intermediate step before the implementation of a design\n",
    "-   Describe algorithms in a way that is intended for human eyes only\n",
    "-   Not a computer program but is more structured than usual prose\n",
    "-   Mixture of natural language and high-level programming constructs\n",
    "-   Describe the main ideas behind a generic implementation of a data structure or algorithm\n",
    "-   Can communicate high-level ideas without low-level implementation details\n",
    "    -   However, we should not gloss over important steps\n",
    "    -   Finding the right balance is important\n"
   ]
  },
  {
   "attachments": {},
   "cell_type": "markdown",
   "metadata": {},
   "source": [
    "### <a id='toc3_3_'></a>Coding Style [&#8593;](#toc0_)\n"
   ]
  },
  {
   "attachments": {},
   "cell_type": "markdown",
   "metadata": {},
   "source": [
    "-   Programs should be made easy to read and understand\n",
    "-   Develop a style that communicates the important aspects of a program’s design\n",
    "-   Conventions for coding style tend to vary between different programming communities\n",
    "-   Python Community uses [PEP8](https://peps.python.org/pep-0008/) for Python and [PEP7](https://peps.python.org/pep-0007/) for C\n",
    "-   Some adoptions for consider:\n",
    "    -   Use 4 spaces for code block indentations\n",
    "    -   Avoid tabs as they differ across systems\n",
    "    -   Use meaningful names for identifiers\n",
    "    -   Classes should be singular nouns in `PascalCase`\n",
    "    -   Functions should be in `lower_snake_case`\n",
    "    -   Variable identifiers should be in `lower_snake_case`\n",
    "    -   Constant identifiers should be in `HIGHER_SNAKE_CASE`\n",
    "    -   Non-Public members should begin with `_`\n",
    "    -   Private members should begin with `__`\n",
    "    -   Use comments for explaining some steps\n"
   ]
  },
  {
   "attachments": {},
   "cell_type": "markdown",
   "metadata": {},
   "source": [
    "### <a id='toc3_4_'></a>Documentations [&#8593;](#toc0_)\n"
   ]
  },
  {
   "attachments": {},
   "cell_type": "markdown",
   "metadata": {},
   "source": [
    "-   Python provides support for embedding formal documentation in source code\n",
    "-   Using _docstring_\n",
    "    -   Any string literal that appears as the first statement\n",
    "    -   Can be within the body of a module, class, or function\n",
    "    -   Should be delimited within triple quotes `\"\"\"` or `'''`\n",
    "    -   Should at least have one description line\n",
    "    -   Stored as a field of the module, function, or class\n",
    "        -   Can be retrieved with `help()`\n",
    "        -   [pydoc](https://docs.python.org/3/library/pydoc.html) can be used to generate the documentation\n"
   ]
  },
  {
   "cell_type": "code",
   "execution_count": 1,
   "metadata": {},
   "outputs": [],
   "source": [
    "def scale_short(data: list[int], factor: int) -> None:\n",
    "    \"\"\"Multiply all entries of numeric data list by the given factor.\"\"\"\n",
    "\n",
    "    # data is a list of integer that is passed by reference\n",
    "    for j in range(len(data)):\n",
    "        data[j] *= factor\n"
   ]
  },
  {
   "attachments": {},
   "cell_type": "markdown",
   "metadata": {},
   "source": [
    "-   More detailed docstrings should begin with a single line that summarizes the purpose\n",
    "-   Followed by a blank line, and then further details\n"
   ]
  },
  {
   "cell_type": "code",
   "execution_count": 2,
   "metadata": {},
   "outputs": [],
   "source": [
    "def scale_complete(data: list[int], factor: int) -> None:\n",
    "    \"\"\"Multiply all entries of numeric data list by the given factor.\n",
    "\n",
    "    Args:\n",
    "        - `data` (`list[int]`): The list of integers to scale\n",
    "        - `factor` (`int`): The multiplicative factor by which we want to scale the data\n",
    "\n",
    "    Returns: `None`\n",
    "\n",
    "    Raises: `None`\n",
    "\n",
    "    This is a very simple implementation of a scaling function for demo-purposes.\n",
    "    In a real-world scenario, we may want to add much more additional features to this function.\n",
    "\n",
    "    As the function is currently written, it will accept any *Sequence*-type of integer for the `data`, such as a string of integers.\n",
    "\n",
    "    `data` is a list of integer that is passed to the function by reference.\n",
    "    Thus, we apply the transformation on this object directly and there is nothing to return from the function.\n",
    "\n",
    "    Note that we are currently not doing any error-checking on this function. If we did, the *Raises* section would have some value.\n",
    "    \"\"\"\n",
    "\n",
    "    # `data` is a list of integer that is passed by reference\n",
    "    # Thus, we don't need to return anything\n",
    "    for j in range(len(data)):\n",
    "        data[j] *= factor\n"
   ]
  },
  {
   "attachments": {},
   "cell_type": "markdown",
   "metadata": {},
   "source": [
    "-   [PEP257: Guidelines for authoring Docstring](http://www.python.org/dev/peps/pep-0257/)\n",
    "    -   IDE can also have extensions for generating\n",
    "    -   Example: [AutoDocstring for VSCode](https://marketplace.visualstudio.com/items?itemName=njpwerner.autodocstring)\n"
   ]
  },
  {
   "attachments": {},
   "cell_type": "markdown",
   "metadata": {},
   "source": [
    "### <a id='toc3_5_'></a>Testing and Debugging [&#8593;](#toc0_)\n"
   ]
  },
  {
   "attachments": {},
   "cell_type": "markdown",
   "metadata": {},
   "source": [
    "-   _Testing_ - Process of experimentally checking the correctness of a program\n",
    "-   _Debugging_ - Process of tracking the execution of a program and discovering its errors\n"
   ]
  },
  {
   "attachments": {},
   "cell_type": "markdown",
   "metadata": {},
   "source": [
    "#### <a id='toc3_5_1_'></a>Testing [&#8593;](#toc0_)\n"
   ]
  },
  {
   "attachments": {},
   "cell_type": "markdown",
   "metadata": {},
   "source": [
    "-   A careful testing plan is an essential part of writing a program\n",
    "-   Aim at executing the program on a representative subset of inputs\n",
    "-   _Method Coverage_ - Make sure that every method of a class is tested at least once\n",
    "-   _Statement Coverage_ - Each statement in the program should be executed at least once\n",
    "-   Programs often fail on special cases of the input\n",
    "    -   Carefully identify and test those cases\n",
    "-   Consider special conditions for the structures used by the program\n",
    "-   Use handcrafted test suites\n",
    "-   Run the program on a large collection of randomly generated inputs\n"
   ]
  },
  {
   "attachments": {},
   "cell_type": "markdown",
   "metadata": {},
   "source": [
    "-   2 main testing strategies:\n",
    "    -   **Top-down / Stubbing**\n",
    "        -   From the top to the bottom of the program hierarchy\n",
    "        -   Typically used in conjunction with _Stubbing_\n",
    "        -   _Stubbing_ - Boot-strapping technique that replaces a lower-level component with a _Stub_\n",
    "        -   _Stub_ - A replacement for the component that simulates the functionality of the original\n",
    "    -   **Bottom-Up / Unit Testing**\n",
    "        -   Proceeds from lower-level components to higher-level components\n",
    "        -   Bottom-level components do not invoke other components and are tested first\n",
    "        -   The functionality of a component is tested in isolation\n",
    "        -   Lower-level components would have already been thoroughly tested before Higher-level components are tested\n"
   ]
  },
  {
   "attachments": {},
   "cell_type": "markdown",
   "metadata": {},
   "source": [
    "-   **In Python, when functions or classes are defined in a module, testing for that module can be embedded in the same file**\n",
    "    -   It is common to put tests in such a construct\n",
    "    -   Test the functionality of the functions and classes defined in that module\n"
   ]
  },
  {
   "attachments": {},
   "cell_type": "markdown",
   "metadata": {},
   "source": [
    "```py\n",
    "if name == __main__ :\n",
    "    # perform tests...\n",
    "```\n"
   ]
  },
  {
   "attachments": {},
   "cell_type": "markdown",
   "metadata": {},
   "source": [
    "-   More robust support for automation of unit testing is provided by `unittest`\n",
    "    -   Allows grouping of individual test cases into larger test suites\n",
    "    -   Provides support for executing those suites\n",
    "    -   Provides support for reporting or analyzing the results\n",
    "-   _Regression Testing_\n",
    "    -   All previous tests are re-executed\n",
    "    -   Ensure that changes to the software do not introduce new bugs\n",
    "    -   Important to run when the software grows larger\n"
   ]
  },
  {
   "attachments": {},
   "cell_type": "markdown",
   "metadata": {},
   "source": [
    "#### <a id='toc3_5_2_'></a>Debugging [&#8593;](#toc0_)\n"
   ]
  },
  {
   "attachments": {},
   "cell_type": "markdown",
   "metadata": {},
   "source": [
    "-   Simplest debugging technique: Using `print` statements\n",
    "    -   Track the values of variables during the execution of the program\n",
    "    -   Eventually needs to be removed from the code\n",
    "-   **A better approach is to run the program within a debugger**\n",
    "    -   Using _Breakpoints_\n",
    "    -   When the program is executed within the debugger, it stops at each breakpoint\n",
    "    -   While the program is stopped, the current value of variables can be inspected\n",
    "    -   Python includes the `pdb` module for debugging\n",
    "    -   IDEs also integrated their own debuggers\n"
   ]
  },
  {
   "attachments": {},
   "cell_type": "markdown",
   "metadata": {},
   "source": [
    "## <a id='toc4_'></a>Class Definitions [&#8593;](#toc0_)\n"
   ]
  },
  {
   "attachments": {},
   "cell_type": "markdown",
   "metadata": {},
   "source": [
    "-   Class - Primary means for abstraction in object-oriented programming\n",
    "    -   Blueprint for object instances\n",
    "    -   In Python, everything is an instance of a class\n",
    "    -   _Methods_ - A set of behaviors in the form of member functions\n",
    "    -   _Attributes_ - State information for each instance (_Fields_, _Instance Variables_, or _Data Members_)\n"
   ]
  },
  {
   "attachments": {},
   "cell_type": "markdown",
   "metadata": {},
   "source": [
    "### <a id='toc4_1_'></a>Example: `CreditCard` Class [&#8593;](#toc0_)\n"
   ]
  },
  {
   "cell_type": "code",
   "execution_count": 3,
   "metadata": {},
   "outputs": [],
   "source": [
    "class CreditCard:\n",
    "    \"\"\"A consumer credit card class\"\"\"\n",
    "\n",
    "    def __init__(\n",
    "        self,\n",
    "        customer: str,\n",
    "        bank: str,\n",
    "        account: str,\n",
    "        limit: float,\n",
    "        starting_balance: float = 0,\n",
    "    ) -> None:\n",
    "        \"\"\"Create a new credit card instance with zero initial balance (default).\n",
    "\n",
    "        Args:\n",
    "            - `customer` (`string`): The name of the customer\n",
    "            - `bank` (`string`): The name of the bank\n",
    "            - `account` (`string`): The account identifier\n",
    "            - `limit` (`float`): The credit limit\n",
    "            - `starting_balance` (`float`): The starting balance of the account\n",
    "\n",
    "        Returns:\n",
    "            - `None`\n",
    "        \"\"\"\n",
    "        self._customer: str = customer\n",
    "        self._bank: str = bank\n",
    "        self._account: str = account\n",
    "        self._limit: float = limit\n",
    "        self._balance: float = starting_balance\n",
    "\n",
    "    def get_customer(self) -> str:\n",
    "        \"\"\"Return the name of the customer on the credit card.\n",
    "\n",
    "        Args:\n",
    "            - `None`\n",
    "\n",
    "        Returns:\n",
    "            - `str`: The name of the customer on the credit card\n",
    "        \"\"\"\n",
    "        return self._customer\n",
    "\n",
    "    def get_bank(self) -> str:\n",
    "        \"\"\"Return the name of the bank on the credit card.\n",
    "\n",
    "        Args:\n",
    "            - `None`\n",
    "\n",
    "        Returns:\n",
    "            - `str`: The name of the bank on the credit card\n",
    "        \"\"\"\n",
    "        return self._bank\n",
    "\n",
    "    def get_account(self) -> str:\n",
    "        \"\"\"Return the account identifier of the card as a string.\n",
    "\n",
    "        Args:\n",
    "            - `None`\n",
    "\n",
    "        Returns:\n",
    "            - `str`: The account identifier on the card\n",
    "        \"\"\"\n",
    "        return self._account\n",
    "\n",
    "    def get_limit(self) -> float:\n",
    "        \"\"\"Return the current limit of the credit card.\n",
    "\n",
    "        Args:\n",
    "            - `None`\n",
    "\n",
    "        Returns:\n",
    "            - `float`: The current limit of the credit card.\n",
    "        \"\"\"\n",
    "        return self._limit\n",
    "\n",
    "    def get_balance(self) -> float:\n",
    "        \"\"\"Return the current balance of the credit card.\n",
    "\n",
    "        Args:\n",
    "            - `None`\n",
    "\n",
    "        Returns:\n",
    "            - `float`: The current balance of the credit card.\n",
    "        \"\"\"\n",
    "        return self._balance\n",
    "\n",
    "    def charge(self, price: float) -> bool:\n",
    "        \"\"\"Charge given price to the card, assuming sufficient credit limit.\n",
    "\n",
    "        Args:\n",
    "            - `price` (`float`): The price of the item being charged to the credit card.\n",
    "\n",
    "        Returns:\n",
    "            - `bool`: `True` if charge was processed. `False` if charge was denied.\n",
    "        \"\"\"\n",
    "        # if charge would exceed limit, cannot accept charge\n",
    "        if price + self._balance > self._limit:\n",
    "            return False\n",
    "        else:\n",
    "            self._balance += price\n",
    "            return True\n",
    "\n",
    "    def make_payment(self, amount: float) -> None:\n",
    "        \"\"\"Process customer payment that reduces balance.\n",
    "\n",
    "        Args:\n",
    "            - `amount` (`float`): The amount that the customer is paying\n",
    "\n",
    "        Returns:\n",
    "            - `None`\n",
    "        \"\"\"\n",
    "        self._balance -= amount\n"
   ]
  },
  {
   "attachments": {},
   "cell_type": "markdown",
   "metadata": {},
   "source": [
    "#### <a id='toc4_1_1_'></a>The `self` Identifier [&#8593;](#toc0_)\n"
   ]
  },
  {
   "attachments": {},
   "cell_type": "markdown",
   "metadata": {},
   "source": [
    "-   Each instance stores its own instance variables to reflect its current state\n",
    "-   **`self` identifies the instance object upon which a method is invoked**\n",
    "-   The interpretter automatically binds the instance upon which the method is invoked to\n",
    "    the `self` parameter\n",
    "-   However, we always need to pass it as the first parameters in Method definitions\n"
   ]
  },
  {
   "attachments": {},
   "cell_type": "markdown",
   "metadata": {},
   "source": [
    "#### <a id='toc4_1_2_'></a>The `__init__()` Constructor [&#8593;](#toc0_)\n"
   ]
  },
  {
   "attachments": {},
   "cell_type": "markdown",
   "metadata": {},
   "source": [
    "-   Internally, calling the class as function result in a call to the specially named\n",
    "    method `__init__` that serves as the constructor of the class\n",
    "    -   **Establish the state of a newly created object with appropriate instance variables**\n"
   ]
  },
  {
   "cell_type": "code",
   "execution_count": 4,
   "metadata": {},
   "outputs": [
    {
     "name": "stdout",
     "output_type": "stream",
     "text": [
      "CC1 Customer: John Doe\n",
      "CC1 Balance: 0\n",
      "CC2 Customer: Mary Bell\n",
      "CC2 Balance: 100\n"
     ]
    }
   ],
   "source": [
    "# Calling the class constructor to create a new instance of CreditCard\n",
    "cc1: CreditCard = CreditCard(\"John Doe\", \"1st Bank\", \"5391 0375 9387 5309\", 1000)\n",
    "cc2: CreditCard = CreditCard(\n",
    "    customer=\"Mary Bell\",\n",
    "    bank=\"Chase\",\n",
    "    account=\"0987 6543 2109 8765\",\n",
    "    limit=500,\n",
    "    starting_balance=100,\n",
    ")\n",
    "\n",
    "print(f\"CC1 Customer: {cc1.get_customer()}\")\n",
    "print(f\"CC1 Balance: {cc1.get_balance()}\")\n",
    "\n",
    "print(f\"CC2 Customer: {cc2.get_customer()}\")\n",
    "print(f\"CC2 Balance: {cc2.get_balance()}\")\n"
   ]
  },
  {
   "attachments": {},
   "cell_type": "markdown",
   "metadata": {},
   "source": [
    "#### <a id='toc4_1_3_'></a>Encapsulation [&#8593;](#toc0_)\n"
   ]
  },
  {
   "attachments": {},
   "cell_type": "markdown",
   "metadata": {},
   "source": [
    "-   A single leading underscore `_` implies that it is intended as _nonpublic_\n",
    "-   _As a general rule, we treat all data members as nonpublic_\n",
    "    -   Only set to public when it is to be used as an interface\n",
    "    -   Enforce a consistent state for all instances\n",
    "    -   We can provide accessors to provide read-only access to a trait\n",
    "    -   Can also provide update methods if changes are needed\n",
    "-   Allows greater flexibility to redesign the way a class works\n"
   ]
  },
  {
   "attachments": {},
   "cell_type": "markdown",
   "metadata": {},
   "source": [
    "#### <a id='toc4_1_4_'></a>Additional Methods [&#8593;](#toc0_)\n"
   ]
  },
  {
   "attachments": {},
   "cell_type": "markdown",
   "metadata": {},
   "source": [
    "-   Classes can have multiple additional methods to perform behaviors\n"
   ]
  },
  {
   "attachments": {},
   "cell_type": "markdown",
   "metadata": {},
   "source": [
    "#### <a id='toc4_1_5_'></a>Error Checking [&#8593;](#toc0_)\n"
   ]
  },
  {
   "attachments": {},
   "cell_type": "markdown",
   "metadata": {},
   "source": [
    "-   We should explicitly check the types of the parameters to methods and constructors\n",
    "-   We might use more rigorous techniques to raise exceptions\n",
    "-   We also need to check for logical errors\n"
   ]
  },
  {
   "attachments": {},
   "cell_type": "markdown",
   "metadata": {},
   "source": [
    "#### <a id='toc4_1_6_'></a>Testing Class [&#8593;](#toc0_)\n"
   ]
  },
  {
   "attachments": {},
   "cell_type": "markdown",
   "metadata": {},
   "source": [
    "-   Tests should be enclosed within a conditional of `name == \"__main__\"`\n",
    "    -   Allow embedding in the source code with the class definition\n",
    "-   The following tests provide _Method Coverage_ but not _Statement Coverage_\n",
    "    -   This is not an advenced form of testing\n",
    "    -   Better testing can be achieved with the `unittest` module\n"
   ]
  },
  {
   "cell_type": "code",
   "execution_count": 5,
   "metadata": {},
   "outputs": [
    {
     "name": "stdout",
     "output_type": "stream",
     "text": [
      "Customer = John Bowman\n",
      "Bank = California Savings\n",
      "Account = 5391 0375 9387 5309\n",
      "Limit = 2500\n",
      "Balance = 136\n",
      "New balance = 36\n",
      "\n",
      "Customer = John Bowman\n",
      "Bank = California Federal\n",
      "Account = 3485 0399 3395 1954\n",
      "Limit = 3500\n",
      "Balance = 272\n",
      "New balance = 172\n",
      "New balance = 72\n",
      "\n",
      "Customer = John Bowman\n",
      "Bank = California Finance\n",
      "Account = 5391 0375 9387 5309\n",
      "Limit = 5000\n",
      "Balance = 408\n",
      "New balance = 308\n",
      "New balance = 208\n",
      "New balance = 108\n",
      "New balance = 8\n",
      "\n"
     ]
    }
   ],
   "source": [
    "if __name__ == \"__main__\":\n",
    "    # Variables\n",
    "    wallet: list[CreditCard] = []\n",
    "\n",
    "    # Append credit cards to the wallet\n",
    "    wallet.append(\n",
    "        CreditCard(\"John Bowman\", \"California Savings\", \"5391 0375 9387 5309\", 2500)\n",
    "    )\n",
    "    wallet.append(\n",
    "        CreditCard(\"John Bowman\", \"California Federal\", \"3485 0399 3395 1954\", 3500)\n",
    "    )\n",
    "    wallet.append(\n",
    "        CreditCard(\"John Bowman\", \"California Finance\", \"5391 0375 9387 5309\", 5000)\n",
    "    )\n",
    "\n",
    "    # Test charge\n",
    "    for val in range(1, 17):\n",
    "        wallet[0].charge(val)\n",
    "        wallet[1].charge(2 * val)\n",
    "        wallet[2].charge(3 * val)\n",
    "\n",
    "    # Test methods on all credit cards\n",
    "    for c in range(3):\n",
    "        print(\"Customer =\", wallet[c].get_customer())\n",
    "        print(\"Bank =\", wallet[c].get_bank())\n",
    "        print(\"Account =\", wallet[c].get_account())\n",
    "        print(\"Limit =\", wallet[c].get_limit())\n",
    "        print(\"Balance =\", wallet[c].get_balance())\n",
    "\n",
    "        while wallet[c].get_balance() > 100:\n",
    "            wallet[c].make_payment(100)\n",
    "            print(\"New balance =\", wallet[c].get_balance())\n",
    "\n",
    "        print()\n"
   ]
  },
  {
   "attachments": {},
   "cell_type": "markdown",
   "metadata": {},
   "source": [
    "### <a id='toc4_2_'></a>Operator Overloading and Special Methods [&#8593;](#toc0_)\n"
   ]
  },
  {
   "attachments": {},
   "cell_type": "markdown",
   "metadata": {},
   "source": [
    "-   _Operator Overloading_\n",
    "    -   By default, the `+` operator is undefined for a new class\n",
    "    -   However, the author of a class may provide a definition\n",
    "    -   This is done by implementing a specially named method\n",
    "-   **When a binary operator is applied to two instances of different types, Python gives deference to the class of the left operand**\n",
    "    -   **However, if that class does not implement such a behavior, Python checks the class definition for the right-hand operand for the `r` version of that method**\n",
    "    -   E.g. `__mul__` -> `__rmul__`\n",
    "    -   E.g. `__add__` -> `__radd__`\n",
    "    -   Also allows support for non-commutative operations\n"
   ]
  },
  {
   "attachments": {},
   "cell_type": "markdown",
   "metadata": {},
   "source": [
    "#### <a id='toc4_2_1_'></a>Non-Operator Overload [&#8593;](#toc0_)\n"
   ]
  },
  {
   "attachments": {},
   "cell_type": "markdown",
   "metadata": {},
   "source": [
    "-   Python relies on specially named methods to control the behavior of various other functionality\n",
    "    -   E.g. The string constructor calls a specially named method `__str__()`\n",
    "    -   It must return an appropriate string representation\n",
    "-   **Several other top-level functions rely on calling specially named methods**\n",
    "\n",
    "| Common Syntax        | Special Method Form                        |\n",
    "| :------------------- | :----------------------------------------- |\n",
    "| `a + b`              | `a.__add__(b)` ; `b.__radd__(a)`           |\n",
    "| `a − b`              | `a.__sub__(b)` ; `b.__rsub__(a)`           |\n",
    "| `a * b`              | `a.__mul__(b)` ; `b.__rmul__(a)`           |\n",
    "| `a / b`              | `a.__truediv__(b)` ; `b.__rtruediv__(a)`   |\n",
    "| `a // b`             | `a.__floordiv__(b)` ; `b.__rfloordiv__(a)` |\n",
    "| `a % b`              | `a.__mod__(b)` ; `b.__rmod__(a)`           |\n",
    "| `a ** b`             | `a.__pow__(b)` ; `b.__rpow__(a)`           |\n",
    "| `a << b`             | `a.__lshift__(b)` ; `b.__rlshift__(a)`     |\n",
    "| `a >> b`             | `a.__rshift__(b)` ; `b.__rrshift__(a)`     |\n",
    "| `a & b`              | `a.__and__(b)` ; `b.__rand__(a)`           |\n",
    "| `a ˆ b`              | `a.__xor__(b)` ; `b.__rxor__(a)`           |\n",
    "| `a\\| b`              | `a.__or__(b)` ; `b.__ror__(a)`             |\n",
    "| `a += b`             | `a.__iadd__(b)`                            |\n",
    "| `a −= b`             | `a.__isub__(b)`                            |\n",
    "| `a = b`              | `a.__imul__(b)`                            |\n",
    "| . . .                | . . .                                      |\n",
    "| `+a`                 | `a.__pos__()`                              |\n",
    "| `−a`                 | `a.__neg__()`                              |\n",
    "| `~a`                 | `a.__invert__()`                           |\n",
    "| `abs(a)`             | `a.__abs__()`                              |\n",
    "| `a < b`              | `a.__lt__(b)`                              |\n",
    "| `a <= b`             | `a.__le__(b)`                              |\n",
    "| `a > b`              | `a.__gt__(b)`                              |\n",
    "| `a >= b`             | `a.__ge__(b)`                              |\n",
    "| `a == b`             | `a.__eq__(b)`                              |\n",
    "| `a != b`             | `a.__ne__(b)`                              |\n",
    "| `v in a`             | `a.__contains__(v)`                        |\n",
    "| `a[k]`               | `a.__getitem__(k)`                         |\n",
    "| `a[k] = v`           | `a.__setitem__(k,v)`                       |\n",
    "| `del a[k]`           | `a.__delitem__(k)`                         |\n",
    "| `a(arg1, arg2, ...)` | `a.__call__(arg1, arg2, ...)`              |\n",
    "| `len(a)`             | `a.__len__()`                              |\n",
    "| `hash(a)`            | `a.__hash__()`                             |\n",
    "| `iter(a)`            | `a.__iter__()`                             |\n",
    "| `next(a)`            | `a.__next__()`                             |\n",
    "| `bool(a)`            | `a.__bool__()`                             |\n",
    "| `float(a)`           | `a.__float__()`                            |\n",
    "| `int(a)`             | `a.__int__()`                              |\n",
    "| `repr(a)`            | `a.__repr__()`                             |\n",
    "| `reversed(a)`        | `a.__reversed__()`                         |\n",
    "| `str(a)`             | `a.__str__()`                              |\n"
   ]
  },
  {
   "attachments": {},
   "cell_type": "markdown",
   "metadata": {},
   "source": [
    "#### <a id='toc4_2_2_'></a>Implied Methods [&#8593;](#toc0_)\n"
   ]
  },
  {
   "attachments": {},
   "cell_type": "markdown",
   "metadata": {},
   "source": [
    "-   **If a particular special method is not implemented in a user-define class, the standard syntax that relies upon that method will raise an exception**\n",
    "    -   However, there are some operators that have default definitions provided by Python in the absence of special methods\n",
    "    -   There are some operators whose definitions are derived from others\n",
    "    -   `__bool__`: Every object other than `None` is evaluated as `True`\n",
    "    -   **If a container class provides implementations for both `__len__` and `__getitem__`, a default iteration is provided automatically**\n",
    "    -   Once an iterator is defined, default functionality of `__contains__` is provided\n",
    "    -   If no implementation is given for `__eq__` , the syntax `a == b` is legal with semantics of `a is b`\n",
    "-   However, some natural implications are not automatically provided by Python\n",
    "    -   `__eq__` does not imply `!=`\n",
    "    -   `__lt__` imply `__gt__` but `__lt__` and `__eq__` does not imply `<=`\n"
   ]
  },
  {
   "attachments": {},
   "cell_type": "markdown",
   "metadata": {},
   "source": [
    "### <a id='toc4_3_'></a>Example: Multidimensional `Vector` Class [&#8593;](#toc0_)\n"
   ]
  },
  {
   "attachments": {},
   "cell_type": "markdown",
   "metadata": {},
   "source": [
    "-   Representing the coordinates of a Vector in a multidimensional space\n",
    "-   Provides better abstraction for the notion of geometric vector\n",
    "-   Internally relies on an instance of a list\n"
   ]
  },
  {
   "cell_type": "code",
   "execution_count": 6,
   "metadata": {},
   "outputs": [],
   "source": [
    "class Vector:\n",
    "    \"\"\"Represent a vector in a multidimensional space.\"\"\"\n",
    "\n",
    "    def __init__(self, d: int) -> None:\n",
    "        \"\"\"Create a d-dimensional vector of zeros.\n",
    "\n",
    "        Args:\n",
    "            - `d` (`int`): The dimension of the vector\n",
    "        \"\"\"\n",
    "        self._coords: list[int] = [0] * d\n",
    "\n",
    "    def __len__(self) -> int:\n",
    "        \"\"\"Return the dimension of the vector.\n",
    "\n",
    "        Returns:\n",
    "            - `int`: The length of the vector\n",
    "        \"\"\"\n",
    "        return len(self._coords)\n",
    "\n",
    "    def __getitem__(self, j: int) -> int:\n",
    "        \"\"\"Return the jth coordinate of vector.\n",
    "\n",
    "        Args:\n",
    "            - `j` (`int`): The rank of the coordinate to find\n",
    "\n",
    "        Returns:\n",
    "            - `int`: The coordinate of the vector\n",
    "        \"\"\"\n",
    "        return self._coords[j]\n",
    "\n",
    "    def __setitem__(self, j: int, val: int) -> None:\n",
    "        \"\"\"Set the jth coordinate of vector to a given value.\n",
    "\n",
    "        Args:\n",
    "            - `j` (`int`): The rank of the coordinate to set\n",
    "            - `val` (`int`): The value to set\n",
    "        \"\"\"\n",
    "        self._coords[j] = val\n",
    "\n",
    "    def __add__(self, other: \"Vector\") -> \"Vector\":\n",
    "        \"\"\"Return the sum of two vectors.\n",
    "\n",
    "        Args:\n",
    "            - `other` (`Vector`): The other vector to add to the current instance\n",
    "\n",
    "        Returns:\n",
    "            - `Vector`: A new vector that is the sum of the 2 vector parameters\n",
    "\n",
    "        Assuming the two operands are vectors with the same length, this method creates\n",
    "        a new vector and sets the coordinates of the new vector to be equal to the respective\n",
    "        sum of the operands' elements.\n",
    "        \"\"\"\n",
    "        if len(self) != len(other):  # relies on len method\n",
    "            raise ValueError(\"Dimensions must agree\")\n",
    "\n",
    "        result: Vector = Vector(len(self))  # start with vector of zeros\n",
    "        for j in range(len(self)):\n",
    "            result[j] = self[j] + other[j]\n",
    "\n",
    "        return result\n",
    "\n",
    "    def __eq__(self, other: object) -> bool:\n",
    "        \"\"\"Return True if the vector has the same coordinates as the other vector.\n",
    "\n",
    "        Args:\n",
    "            - `other` (`object`): The other object to check the equality to the current Vector instance\n",
    "\n",
    "        Raises:\n",
    "            -  `NotImplementedError`: Raised when `other` is not a vector object.\n",
    "\n",
    "        Returns:\n",
    "            - `bool`: Whether the current instance and the other object are equal\n",
    "        \"\"\"\n",
    "        if not isinstance(other, Vector):\n",
    "            raise NotImplementedError(\"This functionality is not supported\")\n",
    "\n",
    "        return self._coords == other._coords\n",
    "\n",
    "    def __ne__(self, other: object) -> bool:\n",
    "        \"\"\"Return True if vector differs from other.\n",
    "\n",
    "        Args:\n",
    "            - `other` (`object`): The other object to check the non-equality to the current Vector instance\n",
    "\n",
    "        Raises:\n",
    "            -  `NotImplementedError`: Raised when `other` is not a vector object.\n",
    "\n",
    "        Returns:\n",
    "            - `bool`: Whether the current instance and the other object are not equal\n",
    "        \"\"\"\n",
    "        if not isinstance(other, Vector):\n",
    "            raise NotImplementedError(\"This functionality is not supported\")\n",
    "\n",
    "        return not self == other  # rely on existing eq definition\n",
    "\n",
    "    def __str__(self) -> str:\n",
    "        \"\"\"Produce string representation of vector.\n",
    "\n",
    "        Returns:\n",
    "            - `str`: The string representation of the vector\n",
    "        \"\"\"\n",
    "        return f\"<{str(self._coords)[1:-1]}>\"  # adapt list representation\n"
   ]
  },
  {
   "cell_type": "code",
   "execution_count": 7,
   "metadata": {},
   "outputs": [
    {
     "name": "stdout",
     "output_type": "stream",
     "text": [
      "45\n"
     ]
    }
   ],
   "source": [
    "# Testing a vector\n",
    "v: Vector = Vector(5)  # construct five-dimensional <0, 0, 0, 0, 0>\n",
    "v[1] = 23  # <0, 23, 0, 0, 0> (based on use of __setitem__)\n",
    "v[-1] = 45  # <0, 23, 0, 0, 45> (also via __setitem__)\n",
    "print(v[4])  # print 45 (via __getitem__)\n"
   ]
  },
  {
   "cell_type": "code",
   "execution_count": 8,
   "metadata": {},
   "outputs": [
    {
     "name": "stdout",
     "output_type": "stream",
     "text": [
      "<0, 46, 0, 0, 90>\n"
     ]
    }
   ],
   "source": [
    "u: Vector = v + v  # <0, 46, 0, 0, 90> (via __add__)\n",
    "print(u)  # print <0, 46, 0, 0, 90>\n"
   ]
  },
  {
   "cell_type": "code",
   "execution_count": 9,
   "metadata": {},
   "outputs": [],
   "source": [
    "total: int = 0\n",
    "\n",
    "# implicit iteration via len and getitem\n",
    "# However, this is not compatible with mypy\n",
    "# for entry in v:\n",
    "#     total += entry\n",
    "# print(entry)\n"
   ]
  },
  {
   "attachments": {},
   "cell_type": "markdown",
   "metadata": {},
   "source": [
    "### <a id='toc4_4_'></a>Iterators [&#8593;](#toc0_)\n"
   ]
  },
  {
   "attachments": {},
   "cell_type": "markdown",
   "metadata": {},
   "source": [
    "-   It supports a special method named `__next__()`\n",
    "    -   Returns the next element of the collection, if any\n",
    "    -   Raises an exception `StopIteration` to indicate that there are no further elements\n",
    "-   Typically implemented using a _Generator_\n",
    "    -   Automatically produces an iterator of yielded values\n",
    "-   **Python also helps by providing an automatic iterator implementation for any class that defines both `__len__` and `__getitem__`**\n"
   ]
  },
  {
   "cell_type": "code",
   "execution_count": 10,
   "metadata": {},
   "outputs": [],
   "source": [
    "# IMPORT MODULES\n",
    "# --------------\n",
    "from typing import Any, Sequence\n",
    "\n",
    "\n",
    "# IMPLEMENT CLASS\n",
    "# ---------------\n",
    "class SequenceIterator:\n",
    "    \"\"\"An iterator for any of Python's sequence types.\"\"\"\n",
    "\n",
    "    def __init__(self, sequence: Sequence[Any]) -> None:\n",
    "        \"\"\"Create an iterator for the given sequence.\n",
    "\n",
    "        Args:\n",
    "            - `sequence` (`Sequence[Any]`): The sequence to create an iterator for\n",
    "        \"\"\"\n",
    "        self._seq = sequence  # keep a reference to the underlying data\n",
    "        self._k = -1  # will increment to 0 on first call to next\n",
    "\n",
    "    def __next__(self) -> Any:\n",
    "        \"\"\"Return the next element, or else raise StopIteration error.\n",
    "\n",
    "        Raises:\n",
    "            - `StopIteration`: Raised when there are no more elements in the iterator\n",
    "\n",
    "        Returns:\n",
    "            - `Any`: The element from the iterator\n",
    "        \"\"\"\n",
    "        self._k += 1  # advance to next index\n",
    "        if self._k < len(self._seq):\n",
    "            return self._seq[self._k]  # return the data element\n",
    "        else:\n",
    "            raise StopIteration()  # there are no more elements\n",
    "\n",
    "    def __iter__(self) -> \"SequenceIterator\":\n",
    "        \"\"\"By convention, an iterator must return itself as an iterator.\n",
    "\n",
    "        Returns:\n",
    "            - `SequenceIterator`: The iterator instance\n",
    "        \"\"\"\n",
    "        return self\n"
   ]
  },
  {
   "attachments": {},
   "cell_type": "markdown",
   "metadata": {},
   "source": [
    "### <a id='toc4_5_'></a>Example: `Range` Class [&#8593;](#toc0_)\n"
   ]
  },
  {
   "attachments": {},
   "cell_type": "markdown",
   "metadata": {},
   "source": [
    "-   Our own implementation of a class that mimics Python’s built-in `range` class\n",
    "    -   `range` uses a strategy known as _Lazy Evaluation_\n",
    "    -   Represent the desired range of elements without ever storing them explicitly in memory\n",
    "    -   The result in a relatively lightweight object\n",
    "    -   An instance of the `range` class has only a few behaviors\n",
    "    -   Supports both `__len__` and `__getitem__` so inherits automatic support for iteration\n",
    "-   _The biggest challenge in the implementation is properly computing the number of elements that belong in the range, given the parameters sent by the caller when constructing a range_\n"
   ]
  },
  {
   "cell_type": "code",
   "execution_count": 11,
   "metadata": {},
   "outputs": [],
   "source": [
    "# IMPORT MODULES\n",
    "# --------------\n",
    "from typing import Optional\n",
    "\n",
    "\n",
    "# IMPLEMENT CLASS\n",
    "# ---------------\n",
    "class Range:\n",
    "    \"\"\"A class that mimics the built-in range class.\"\"\"\n",
    "\n",
    "    def __init__(self, start: int, stop: Optional[int] = None, step: int = 1) -> None:\n",
    "        \"\"\"Initialize a Range instance.\n",
    "\n",
    "        Args:\n",
    "            - `start` (`int`): The starting point of the range\n",
    "            - `stop` (`Optional[int]`, optional): The stopping point of the range. Defaults to `None`\n",
    "            - `step` (`int`, optional): The step of the range. Defaults to `1`\n",
    "\n",
    "        Raises:\n",
    "            - `ValueError`: Raised if the `step` is set to `0`\n",
    "\n",
    "        Semantics is similar to built-in range class.\n",
    "        \"\"\"\n",
    "        if step == 0:\n",
    "            raise ValueError(\"step cannot be 0\")\n",
    "\n",
    "        if stop is None:  # special case of range(n)\n",
    "            start, stop = 0, start  # should be treated as if range(0,n)\n",
    "\n",
    "        # calculate the effective length once\n",
    "        self._length: int = max(0, (stop - start + step - 1) // step)\n",
    "\n",
    "        # need knowledge of start and step (but not stop) to support getitem\n",
    "        self._start: int = start\n",
    "        self._step: int = step\n",
    "\n",
    "    def __len__(self) -> int:\n",
    "        \"\"\"Return number of entries in the range.\n",
    "\n",
    "        Returns:\n",
    "            - `int`: The number of entries in the range\n",
    "        \"\"\"\n",
    "        return self._length\n",
    "\n",
    "    def __getitem__(self, k: int) -> int:\n",
    "        \"\"\"Return entry at index k (using standard interpretation if negative).\n",
    "\n",
    "        Args:\n",
    "            - `k` (`int`): The index that we want to get the item of\n",
    "\n",
    "        Raises:\n",
    "            - `IndexError`: Raised when `k < 0` or `k > self._length`\n",
    "\n",
    "        Returns:\n",
    "            - `int`: The entry at the given index\n",
    "        \"\"\"\n",
    "        if k < 0:\n",
    "            k += len(self)  # attempt to convert negative index\n",
    "\n",
    "        if not 0 <= k < self._length:\n",
    "            raise IndexError(\"index out of range\")\n",
    "\n",
    "        return self._start + k * self._step\n"
   ]
  },
  {
   "attachments": {},
   "cell_type": "markdown",
   "metadata": {},
   "source": [
    "## <a id='toc5_'></a>Inheritance [&#8593;](#toc0_)\n"
   ]
  },
  {
   "attachments": {},
   "cell_type": "markdown",
   "metadata": {},
   "source": [
    "-   Components can be organized in a hierarchical fashion\n",
    "    -   Similar abstract definitions grouped together\n",
    "    -   From specific to general\n",
    "    -   **The correspondence between levels is often referred to as an _is-a_ relationship**\n"
   ]
  },
  {
   "attachments": {},
   "cell_type": "markdown",
   "metadata": {},
   "source": [
    "<img src=\"./images/is-a-relationship.png\" width=60%>\n"
   ]
  },
  {
   "attachments": {},
   "cell_type": "markdown",
   "metadata": {},
   "source": [
    "-   Common functionality can be grouped at the most general level\n",
    "-   Differentiated behaviors can be viewed as extensions of the general case\n",
    "-   _Inheritance_\n",
    "    -   The mechanism for a modular and hierarchical organization in OOP\n",
    "    -   Allows a new class to be define based upon an existing class as the starting point\n",
    "    -   From _Base Class / Parent Class / Super Class_ to _Subclass / Child Class_\n",
    "-   _Overrides_ - Specialize an existing behavior by providing new implemenation\n",
    "-   _Extend_ - Providing a brand new method that the parent class does not have\n"
   ]
  },
  {
   "attachments": {},
   "cell_type": "markdown",
   "metadata": {},
   "source": [
    "### <a id='toc5_1_'></a>Python's Exception Hierarchy [&#8593;](#toc0_)\n"
   ]
  },
  {
   "attachments": {},
   "cell_type": "markdown",
   "metadata": {},
   "source": [
    "-   The `BaseException` class is the root of the entire hierarchy\n",
    "-   More specific Exception inherit from this base class\n",
    "\n",
    "<img src=\"./images/python-exception-hierarchy.png\" width=60%>\n"
   ]
  },
  {
   "attachments": {},
   "cell_type": "markdown",
   "metadata": {},
   "source": [
    "### <a id='toc5_2_'></a>Extending The `CreditCard` Class [&#8593;](#toc0_)\n"
   ]
  },
  {
   "attachments": {},
   "cell_type": "markdown",
   "metadata": {},
   "source": [
    "-   Implementing a subclass `PredatoryCreditCard`\n",
    "    -   Attempted charge is rejected because exceeding the credit limit => Charge a $5 fee\n",
    "    -   Mechanism for assessing a monthly interest charge on the outstanding balance, based upon an Annual Percentage Rate (APR) specified as a constructor parameter\n"
   ]
  },
  {
   "attachments": {},
   "cell_type": "markdown",
   "metadata": {},
   "source": [
    "<img src=\"./images/creditcard-inheritance-diagram.png\" width=60%>\n"
   ]
  },
  {
   "cell_type": "code",
   "execution_count": 12,
   "metadata": {},
   "outputs": [],
   "source": [
    "class PredatoryCreditCard(CreditCard):\n",
    "    \"\"\"An extension to CreditCard that compounds interest and fees.\"\"\"\n",
    "\n",
    "    def __init__(\n",
    "        self, customer: str, bank: str, acnt: str, limit: float, apr: float\n",
    "    ) -> None:\n",
    "        \"\"\"Create a new predatory credit card instance.\n",
    "\n",
    "        Args:\n",
    "            - `customer` (`str`): The name of the customer (e.g., John Bowman )\n",
    "            - `bank` (`str`): The name of the bank (e.g., California Savings )\n",
    "            - `acnt` (`str`): The acount identifier (e.g., 5391 0375 9387 5309 )\n",
    "            - `limit` (`float`): Credit limit (measured in dollars)\n",
    "            - `apr` (`float`): Annual percentage rate (e.g., 0.0825 for 8.25% APR)\n",
    "\n",
    "        The initial balance is zero.\n",
    "        \"\"\"\n",
    "        super().__init__(customer, bank, acnt, limit)  # call super constructor\n",
    "        self._apr: float = apr\n",
    "\n",
    "    def charge(self, price: float) -> bool:\n",
    "        \"\"\"Charge given price to the card, assuming sufficient credit limit.\n",
    "\n",
    "        Args:\n",
    "            - `price` (`float`): The price that is charged to the credit card\n",
    "\n",
    "        Returns:\n",
    "            - `bool`: `True` if charge was processed, `False` and assess 5 fee if charge is denied\n",
    "        \"\"\"\n",
    "        _success: bool = super().charge(price)  # call inherited method\n",
    "\n",
    "        if not _success:\n",
    "            self._balance += 5  # assess penalty\n",
    "\n",
    "        return _success  # caller expects return value\n",
    "\n",
    "    def process_month(self) -> None:\n",
    "        \"\"\"Assess monthly interest on outstanding balance.\"\"\"\n",
    "        if self._balance > 0:\n",
    "            # if positive balance, convert APR to monthly multiplicative factor\n",
    "            monthly_factor: float = pow(1 + self._apr, 1 / 12)\n",
    "            self._balance *= monthly_factor\n"
   ]
  },
  {
   "attachments": {},
   "cell_type": "markdown",
   "metadata": {},
   "source": [
    "#### <a id='toc5_2_1_'></a>`protected` Members [&#8593;](#toc0_)\n"
   ]
  },
  {
   "attachments": {},
   "cell_type": "markdown",
   "metadata": {},
   "source": [
    "-   Currently, `PredatoryCreditCard` subclass directly accesses the data member `slef._balance` that was established by the parent class\n",
    "-   Other OOP languages declare `protected` or `private` access modes\n",
    "    -   `protected` - Accessible to subclasses but not to the general public\n",
    "    -   `private` - Accessible only by the current class\n",
    "-   **Python does not support formal access control**\n",
    "    -   **Names beginning with a single underscore (`_`) are conventionally `protected`**\n",
    "    -   **Names beginning with a double underscore (`__`)are conventionally `private`**\n",
    "-   _`PredatoryCreditCard` class might be compromised if the author of the `CreditCard` class were to change the internal design_\n"
   ]
  },
  {
   "attachments": {},
   "cell_type": "markdown",
   "metadata": {},
   "source": [
    "### <a id='toc5_3_'></a>Hierarchy of Numeric Progression [&#8593;](#toc0_)\n"
   ]
  },
  {
   "attachments": {},
   "cell_type": "markdown",
   "metadata": {},
   "source": [
    "-   A hierarchy of classes for iterating numeric progressions\n",
    "-   _Numeric Progression_\n",
    "    -   A sequence of numbers where each number depends on one or more of the previous numbers\n",
    "    -   _Arithmetic Progression_ - Determines the next number by adding a fixed constant to the previous value\n",
    "    -   _Geomtric Progression_ - Determines the next number by multiplying the previous value by a fixed constant\n",
    "-   Progression requires:\n",
    "    -   A first value\n",
    "    -   A way of identifying a new value based on one or more previous values\n"
   ]
  },
  {
   "attachments": {},
   "cell_type": "markdown",
   "metadata": {},
   "source": [
    "<img src=\"./images/progression-hierarchy.png\" width=60%>\n"
   ]
  },
  {
   "attachments": {},
   "cell_type": "markdown",
   "metadata": {},
   "source": [
    "-   The `Progression` class implements the conventions of a Python iterator\n",
    "    -   Each call to `next(seq)` will return a subsequent element of the progression sequence\n",
    "    -   We could also use a `for` loop sequence\n"
   ]
  },
  {
   "cell_type": "code",
   "execution_count": 13,
   "metadata": {},
   "outputs": [],
   "source": [
    "class Progression:\n",
    "    \"\"\"Iterator producing a generic progression.\n",
    "\n",
    "    Default iterator produces the whole numbers 0, 1, 2, ...\n",
    "    \"\"\"\n",
    "\n",
    "    def __init__(self, start: int = 0) -> None:\n",
    "        \"\"\"Initialize `self._current` to the first value of the progression.\n",
    "\n",
    "        Args:\n",
    "            - `start` (`int`, optional): The number to start the progression at. Defaults to `0`.\n",
    "        \"\"\"\n",
    "        self._current: int = start\n",
    "\n",
    "    def _advance(self) -> None:\n",
    "        \"\"\"Update `self._current` to a new value.\n",
    "\n",
    "        This should be overridden by a subclass to customize progression.\n",
    "        By convention, if `self._current` is set to `None`, this designates the end of a finite progression.\n",
    "        \"\"\"\n",
    "        self._current += 1\n",
    "\n",
    "    def __next__(self) -> int:\n",
    "        \"\"\"Return the next element, or else raise `StopIteration` error.\n",
    "\n",
    "        Raises:\n",
    "            `StopIteration`: Raised when there are no more element and stops the iteration\n",
    "\n",
    "        Returns:\n",
    "            - `int`: The next element in the iterator\n",
    "        \"\"\"\n",
    "        if self._current is None:  # our convention to end a progression\n",
    "            raise StopIteration()\n",
    "        else:\n",
    "            answer: int = self._current  # record current value to return\n",
    "            self._advance()  # advance to prepare for next time\n",
    "            return answer  # return the answer\n",
    "\n",
    "    def __iter__(self) -> \"Progression\":\n",
    "        \"\"\"By convention, an iterator must return itself as an iterator\n",
    "\n",
    "        Returns:\n",
    "            - `Progression`: This progression instance\n",
    "        \"\"\"\n",
    "        return self\n",
    "\n",
    "    def print_progression(self, n: int) -> None:\n",
    "        \"\"\"Print next `n` values of the progression.\n",
    "\n",
    "        Args:\n",
    "            - `n` (`int`): The next `n` values of the progression to print\n",
    "        \"\"\"\n",
    "        print(\" \".join(str(next(self)) for _ in range(n)))\n"
   ]
  },
  {
   "attachments": {},
   "cell_type": "markdown",
   "metadata": {},
   "source": [
    "#### <a id='toc5_3_1_'></a>Arithmetic Progression [&#8593;](#toc0_)\n"
   ]
  },
  {
   "attachments": {},
   "cell_type": "markdown",
   "metadata": {},
   "source": [
    "-   The default progression increases its value by one in each step\n",
    "-   _Arithmetic Progression_ adds a fixed constant to one term of the progression to produce the next\n",
    "-   Extends the `progression` class as base\n"
   ]
  },
  {
   "cell_type": "code",
   "execution_count": 14,
   "metadata": {},
   "outputs": [],
   "source": [
    "class ArithmeticProgression(Progression):  # inherit from Progression\n",
    "    \"\"\"Iterator producing an arithmetic progression.\"\"\"\n",
    "\n",
    "    def __init__(self, increment: int = 1, start: int = 0) -> None:\n",
    "        \"\"\"Create a new arithmetic progression.\n",
    "\n",
    "        Args:\n",
    "            - `increment` (`int`, optional): The fixed constant to add to each term. Defaults to `1`.\n",
    "            - `start` (`int`, optional): The first term of the progression. Defaults to `0`.\n",
    "        \"\"\"\n",
    "        super().__init__(start)  # initialize base class\n",
    "        self._increment: int = increment\n",
    "\n",
    "    def _advance(self) -> None:  # override inherited version\n",
    "        \"\"\"Update current value by adding the fixed increment.\"\"\"\n",
    "        self._current += self._increment\n"
   ]
  },
  {
   "attachments": {},
   "cell_type": "markdown",
   "metadata": {},
   "source": [
    "#### <a id='toc5_3_2_'></a>Geometric Progression [&#8593;](#toc0_)\n"
   ]
  },
  {
   "attachments": {},
   "cell_type": "markdown",
   "metadata": {},
   "source": [
    "-   _Geometric Progression_\n",
    "    -   Each value is produced by multiplying the preceding value by a fixed constant, known as the _base_ of the geometric progression\n",
    "    -   Starting point is traditionally 1\n"
   ]
  },
  {
   "cell_type": "code",
   "execution_count": 15,
   "metadata": {},
   "outputs": [],
   "source": [
    "class GeometricProgression(Progression):  # inherit from Progression\n",
    "    \"\"\"Iterator producing a geometric progression.\"\"\"\n",
    "\n",
    "    def __init__(self, base: int = 2, start: int = 1) -> None:\n",
    "        \"\"\"Create a new geometric progression.\n",
    "\n",
    "        Args:\n",
    "            - `base` (`int`, optional): The fixed constant multiplied to each term. Defaults to `2`.\n",
    "            - `start` (`int`, optional): The first term of the progression. Defaults to `1`.\n",
    "        \"\"\"\n",
    "        super().__init__(start)\n",
    "        self._base: int = base\n",
    "\n",
    "    def _advance(self) -> None:  # override inherited version\n",
    "        \"\"\"Update current value by multiplying it by the base value.\"\"\"\n",
    "        self._current *= self._base\n"
   ]
  },
  {
   "attachments": {},
   "cell_type": "markdown",
   "metadata": {},
   "source": [
    "#### <a id='toc5_3_3_'></a>Fibonacci Progression [&#8593;](#toc0_)\n"
   ]
  },
  {
   "attachments": {},
   "cell_type": "markdown",
   "metadata": {},
   "source": [
    "-   Each value of a Fibonacci series is the sum of the two most recent values\n",
    "    -   We cannot determine the next value of a Fibonacci series solely from the current one\n",
    "    -   We must maintain knowledge of the two most recent values\n",
    "-   To begin the series, the first two values are conventionally 0 and 1\n",
    "-   More generally, such a series can be generated from any two starting values\n"
   ]
  },
  {
   "cell_type": "code",
   "execution_count": 16,
   "metadata": {},
   "outputs": [],
   "source": [
    "class FibonacciProgression(Progression):\n",
    "    \"\"\"Iterator producing a generalized Fibonacci progression.\"\"\"\n",
    "\n",
    "    def __init__(self, first: int = 0, second: int = 1) -> None:\n",
    "        \"\"\"Create a new fibonacci progression.\n",
    "\n",
    "        Args:\n",
    "            - `first` (`int`, optional): The first term of the progression. Defaults to `0`.\n",
    "            - `second` (`int`, optional): The second term of the progression. Defaults to `1`.\n",
    "        \"\"\"\n",
    "        super().__init__(first)  # start progression at first\n",
    "        self._prev: int = second - first  # fictitious value preceding the first\n",
    "\n",
    "    def _advance(self) -> None:\n",
    "        \"\"\"Update current value by taking sum of previous two.\"\"\"\n",
    "        self._prev, self._current = self._current, self._prev + self._current\n"
   ]
  },
  {
   "attachments": {},
   "cell_type": "markdown",
   "metadata": {},
   "source": [
    "#### <a id='toc5_3_4_'></a>Testing The Progressions [&#8593;](#toc0_)\n"
   ]
  },
  {
   "cell_type": "code",
   "execution_count": 17,
   "metadata": {},
   "outputs": [
    {
     "name": "stdout",
     "output_type": "stream",
     "text": [
      "Default progression:\n",
      "0 1 2 3 4 5 6 7 8 9\n",
      "Arithmetic progression with increment 5:\n",
      "0 5 10 15 20 25 30 35 40 45\n",
      "Arithmetic progression with increment 5 and start 2:\n",
      "2 7 12 17 22 27 32 37 42 47\n",
      "Geometric progression with default base:\n",
      "1 2 4 8 16 32 64 128 256 512\n",
      "Geometric progression with base 3:\n",
      "1 3 9 27 81 243 729 2187 6561 19683\n",
      "Fibonacci progression with default start values:\n",
      "0 1 1 2 3 5 8 13 21 34\n",
      "Fibonacci progression with start values 4 and 6:\n",
      "4 6 10 16 26 42 68 110 178 288\n"
     ]
    }
   ],
   "source": [
    "if __name__ == \"__main__\":\n",
    "    print(\"Default progression:\")\n",
    "    Progression().print_progression(10)\n",
    "\n",
    "    print(\"Arithmetic progression with increment 5:\")\n",
    "    ArithmeticProgression(5).print_progression(10)\n",
    "\n",
    "    print(\"Arithmetic progression with increment 5 and start 2:\")\n",
    "    ArithmeticProgression(5, 2).print_progression(10)\n",
    "\n",
    "    print(\"Geometric progression with default base:\")\n",
    "    GeometricProgression().print_progression(10)\n",
    "\n",
    "    print(\"Geometric progression with base 3:\")\n",
    "    GeometricProgression(3).print_progression(10)\n",
    "\n",
    "    print(\"Fibonacci progression with default start values:\")\n",
    "    FibonacciProgression().print_progression(10)\n",
    "\n",
    "    print(\"Fibonacci progression with start values 4 and 6:\")\n",
    "    FibonacciProgression(4, 6).print_progression(10)\n"
   ]
  },
  {
   "attachments": {},
   "cell_type": "markdown",
   "metadata": {},
   "source": [
    "### <a id='toc5_4_'></a>Abstract Base Class (ABC) [&#8593;](#toc0_)\n"
   ]
  },
  {
   "attachments": {},
   "cell_type": "markdown",
   "metadata": {},
   "source": [
    "-   Design a base class with common functionality\n",
    "-   Can be inherited by other classes that need it\n",
    "-   Typically not instantiated directly\n",
    "    -   Only used as abstract base for other classes\n",
    "    -   Other classes inherit from it and become _Concrete Classes_\n",
    "-   The real purpose of ABC class is to centralize the implementations of behaviors that other classes need\n",
    "    -   Only purpose is to serve as a base class through inheritance\n",
    "    -   Cannot be directly instantiated\n",
    "    -   _Concrete Class_ can be instantiated\n",
    "    -   A formal type that may guarantee one or more _Abstract Methods_\n",
    "-   Provides support for Polymorphism\n",
    "    -   A variable may have an abstract base class as its declared type even though it refers to an instance of a concrete subclass\n",
    "-   **Python's `abc` module provides support for defining a formal abstract base class**\n",
    "-   Python's ` collections` module provides several abstract base classes\n",
    "    -   Assist when defining custom data structures that share a common interface with some of Python’s built-in data structures\n",
    "    -   _Template Method Pattern_ - When an ABC provides concrete behaviors that rely upon calls to other abstract behaviors\n"
   ]
  },
  {
   "cell_type": "code",
   "execution_count": 18,
   "metadata": {},
   "outputs": [],
   "source": [
    "# IMPORT MODULES\n",
    "# --------------\n",
    "from abc import ABCMeta, abstractmethod  # need these definitions\n",
    "from typing import Any\n",
    "\n",
    "\n",
    "# DEFINE CLASS\n",
    "# ------------\n",
    "class SequenceCustom(metaclass=ABCMeta):\n",
    "    \"\"\"Our own version of collections.Sequence abstract base class.\"\"\"\n",
    "\n",
    "    @abstractmethod\n",
    "    def __len__(self) -> int:\n",
    "        \"\"\"Return the length of the sequence.\"\"\"\n",
    "\n",
    "    @abstractmethod\n",
    "    def __getitem__(self, j: int) -> Any:\n",
    "        \"\"\"Return the element at index j of the sequence.\"\"\"\n",
    "\n",
    "    def __contains__(self, val: Any) -> bool:\n",
    "        \"\"\"Return True if val found in the sequence. False otherwise.\"\"\"\n",
    "        for j in range(len(self)):\n",
    "            if self[j] == val:  # found match\n",
    "                return True\n",
    "        return False\n",
    "\n",
    "    def index(self, val: Any) -> int:\n",
    "        \"\"\"Return leftmost index at which val is found (or raise ValueError).\"\"\"\n",
    "        for j in range(len(self)):\n",
    "            if self[j] == val:  # leftmost match\n",
    "                return j\n",
    "        raise ValueError(\"value not in sequence\")  # never found a match\n",
    "\n",
    "    def count(self, val: Any) -> int:\n",
    "        \"\"\"Return the number of elements equal to given value.\"\"\"\n",
    "        k: int = 0\n",
    "        for j in range(len(self)):\n",
    "            if self[j] == val:  # found a match\n",
    "                k += 1\n",
    "        return k\n"
   ]
  },
  {
   "attachments": {},
   "cell_type": "markdown",
   "metadata": {},
   "source": [
    "-   A `metaclass` is different from a superclass\n",
    "    -   It provides a template for the class definition itself\n",
    "    -   The `ABCMeta` declaration assures that the constructor for the class raises an error\n",
    "-   `@abstractmethod` Decorator\n",
    "    -   Declares the method to be abstract\n",
    "    -   We do not provide an implementation within the base class\n",
    "    -   But we expect any concrete subclasses to support those methods\n",
    "    -   **Python disallow instantiation for any subclass that does not override the abstract methods with concrete implementations**\n",
    "-   **If a subclass provides its own implementation of an inherited behaviors from a base class, the new definition overrides the inherited one**\n"
   ]
  },
  {
   "attachments": {},
   "cell_type": "markdown",
   "metadata": {},
   "source": [
    "## <a id='toc6_'></a>Namespaces and Object-Orientation [&#8593;](#toc0_)\n"
   ]
  },
  {
   "attachments": {},
   "cell_type": "markdown",
   "metadata": {},
   "source": [
    "-   _Namespace_ - Abstraction that manages all of the identifiers that are defined in a particular scope\n"
   ]
  },
  {
   "attachments": {},
   "cell_type": "markdown",
   "metadata": {},
   "source": [
    "### <a id='toc6_1_'></a>Instance and Class Namespaces [&#8593;](#toc0_)\n"
   ]
  },
  {
   "attachments": {},
   "cell_type": "markdown",
   "metadata": {},
   "source": [
    "-   _Instance Namespace_\n",
    "    -   Manages attributes specific to an individual object\n",
    "    -   Each object will have a dedicated instance namespace to manage its values\n",
    "-   _Class Namespace_\n",
    "    -   Manage members that are to be shared by all instances of a class\n",
    "    -   Can be used without reference to any particular instance\n",
    "    -   In other language, it maintains the `static` members\n"
   ]
  },
  {
   "attachments": {},
   "cell_type": "markdown",
   "metadata": {},
   "source": [
    "#### <a id='toc6_1_1_'></a>How Entries Are Established in a Namespace [&#8593;](#toc0_)\n"
   ]
  },
  {
   "attachments": {},
   "cell_type": "markdown",
   "metadata": {},
   "source": [
    "-   **When stablished within the `__init__` method, it is created in the instance namespace**\n",
    "    -   Created when a new instance is constructed\n",
    "    -   Use of `self` as a qualifier\n",
    "    -   **When inheritance is used, there is still a single instance namespace per object**\n",
    "-   **A class namespace includes all declarations that are made directly within the body of the class definition**\n",
    "    -   Methods are the main members of a class namespace\n",
    "    -   But can also include other types of members\n"
   ]
  },
  {
   "attachments": {},
   "cell_type": "markdown",
   "metadata": {},
   "source": [
    "#### <a id='toc6_1_2_'></a>Class Data Members [&#8593;](#toc0_)\n"
   ]
  },
  {
   "attachments": {},
   "cell_type": "markdown",
   "metadata": {},
   "source": [
    "-   Often used when there is some value that is to be shared by all instances of a class\n",
    "    -   Typically used for _Constants_ and _Methods_\n",
    "    -   Would be unnecessarily wasteful to have stored in each instance namespace\n"
   ]
  },
  {
   "cell_type": "code",
   "execution_count": 19,
   "metadata": {},
   "outputs": [],
   "source": [
    "# IMPORT MODULES\n",
    "# --------------\n",
    "from typing import Final\n",
    "\n",
    "\n",
    "# DEFINE CLASS\n",
    "# ------------\n",
    "class PredatoryCreditCardV2(CreditCard):\n",
    "    \"\"\"An extension to CreditCard that compounds interest and fees.\"\"\"\n",
    "\n",
    "    # Class Data Members\n",
    "    # ------------------\n",
    "    OVERLIMIT_FEE: Final[float] = 5.00\n",
    "\n",
    "    # Class Methods\n",
    "    # -------------\n",
    "    def __init__(\n",
    "        self, customer: str, bank: str, acnt: str, limit: float, apr: float\n",
    "    ) -> None:\n",
    "        \"\"\"Create a new predatory credit card instance.\n",
    "\n",
    "        Args:\n",
    "            - `customer` (`str`): The name of the customer (e.g., John Bowman )\n",
    "            - `bank` (`str`): The name of the bank (e.g., California Savings )\n",
    "            - `acnt` (`str`): The acount identifier (e.g., 5391 0375 9387 5309 )\n",
    "            - `limit` (`float`): Credit limit (measured in dollars)\n",
    "            - `apr` (`float`): Annual percentage rate (e.g., 0.0825 for 8.25% APR)\n",
    "\n",
    "        The initial balance is zero.\n",
    "        \"\"\"\n",
    "        super().__init__(customer, bank, acnt, limit)  # call super constructor\n",
    "        self._apr: float = apr\n",
    "\n",
    "    def charge(self, price: float) -> bool:\n",
    "        \"\"\"Charge given price to the card, assuming sufficient credit limit.\n",
    "\n",
    "        Args:\n",
    "            - `price` (`float`): The price that is charged to the credit card\n",
    "\n",
    "        Returns:\n",
    "            - `bool`: `True` if charge was processed, `False` and assess 5 fee if charge is denied\n",
    "        \"\"\"\n",
    "        _success: bool = super().charge(price)  # call inherited method\n",
    "\n",
    "        if not _success:\n",
    "            self._balance += PredatoryCreditCardV2.OVERLIMIT_FEE  # assess penalty\n",
    "\n",
    "        return _success  # caller expects return value\n",
    "\n",
    "    def process_month(self) -> None:\n",
    "        \"\"\"Assess monthly interest on outstanding balance.\"\"\"\n",
    "        if self._balance > 0:\n",
    "            # if positive balance, convert APR to monthly multiplicative factor\n",
    "            monthly_factor: float = pow(1 + self._apr, 1 / 12)\n",
    "            self._balance *= monthly_factor\n"
   ]
  },
  {
   "attachments": {},
   "cell_type": "markdown",
   "metadata": {},
   "source": [
    "#### <a id='toc6_1_3_'></a>Nested Classes [&#8593;](#toc0_)\n"
   ]
  },
  {
   "attachments": {},
   "cell_type": "markdown",
   "metadata": {},
   "source": [
    "-   We can nest one class definition within the scope of another class\n",
    "-   A class `B` is defined in the scope of another class `A`\n",
    "    -   This technique is unrelated to the concept of inheritance,\n",
    "    -   Class `B` does not inherit from class `A`\n",
    "-   **Makes clear that the nested class exists for support of the outer class**\n",
    "    -   Help reduce potential name conflicts\n",
    "    -   Allows for a similarly named class to exist in another context\n",
    "    -   Allows for a more advanced form of inheritance\n",
    "        -   A subclass of the outer class overrides the definition of its nested class\n"
   ]
  },
  {
   "attachments": {},
   "cell_type": "markdown",
   "metadata": {},
   "source": [
    "#### <a id='toc6_1_4_'></a>Dictionaries and `__slots__` Declaration [&#8593;](#toc0_)\n"
   ]
  },
  {
   "attachments": {},
   "cell_type": "markdown",
   "metadata": {},
   "source": [
    "-   By default, Python represents namespace as a `dict`\n",
    "    -   Maps identifying names in that scope to the associated objects\n",
    "    -   Supports relatively efficient name lookups\n",
    "    -   However, requires additional memory usage beyond the raw data that it stores\n",
    "-   Python provides a more direct mechanism for representing instance namespaces\n",
    "    -   Avoid the use of an auxiliary dictionary\n",
    "    -   Class definition must provide a class-level member named `__slots__`\n",
    "    -   Assigned to a fixed sequence of strings that serve as names for instance variables\n"
   ]
  },
  {
   "attachments": {},
   "cell_type": "markdown",
   "metadata": {},
   "source": [
    "```py\n",
    "class CreditCard:\n",
    "    __slots__: tuple[str] = (\n",
    "        \"_customer\",\n",
    "        \"_bank\",\n",
    "        \"_account\",\n",
    "        \"_balance\",\n",
    "        \"_limit\"\n",
    "    )\n",
    "```\n"
   ]
  },
  {
   "attachments": {},
   "cell_type": "markdown",
   "metadata": {},
   "source": [
    "-   **When inheritance is used, if the base class declares `__slots__`, a subclass must also declare `__slots__` to avoid creation of instance dictionaries**\n",
    "    -   Subclass to include only names of supplemental methods that are newly introduced\n",
    "\n",
    "```py\n",
    "class PredatoryCreditCard(CreditCard):\n",
    "    __slots__ = \"_apr\" # in addition to the inherited members\n",
    "```\n"
   ]
  },
  {
   "attachments": {},
   "cell_type": "markdown",
   "metadata": {},
   "source": [
    "-   **`__slots__` is useful when wanting to save on memory usage**\n"
   ]
  },
  {
   "attachments": {},
   "cell_type": "markdown",
   "metadata": {},
   "source": [
    "### <a id='toc6_2_'></a>Name Resolution and Dynamic Dispatch [&#8593;](#toc0_)\n"
   ]
  },
  {
   "attachments": {},
   "cell_type": "markdown",
   "metadata": {},
   "source": [
    "-   When the `.` operator syntax is used to access an existing member, the Python interpreter begins a name resolution process in this order:\n",
    "    -   _Instance Namespace_\n",
    "    -   _Direct Class Namespace_\n",
    "    -   _Inheritance Ancestory Hierarchy_\n",
    "    -   _If not found, raise `AtributeError`_\n",
    "-   **Dynamic Dispatch/Dynamic Binding**\n",
    "    -   Determine, at run-time, which implementation of a function to call\n",
    "    -   Based on the type of the object upon which it is invoked\n",
    "    -   This is what Python uses\n",
    "-   **Static Dispatching**\n",
    "    -   Making a compile-time decision as to which version of a function to call\n",
    "    -   Based on the declared type of a variable\n",
    "    -   Statically-typed languages would use this\n"
   ]
  },
  {
   "attachments": {},
   "cell_type": "markdown",
   "metadata": {},
   "source": [
    "## <a id='toc7_'></a>Shallow And Deep Copying [&#8593;](#toc0_)\n"
   ]
  },
  {
   "attachments": {},
   "cell_type": "markdown",
   "metadata": {},
   "source": [
    "-   We can make actual copies of object instead of just alias\n",
    "-   This is necessary when we want to subsequently modify the original or the copy\n"
   ]
  },
  {
   "cell_type": "code",
   "execution_count": 20,
   "metadata": {},
   "outputs": [],
   "source": [
    "class Color:\n",
    "    \"\"\"A class representing a color\"\"\"\n",
    "\n",
    "    def __init__(self, r: int, g: int, b: int) -> None:\n",
    "        \"\"\"Create a new instance of Color.\n",
    "\n",
    "        Args:\n",
    "            - `r (`int`): The value for the Red\n",
    "            - `g` (`int`): The value for the Green\n",
    "            - `b` (`int`): The value for the Blue\n",
    "        \"\"\"\n",
    "        self._r: int = r\n",
    "        self._g: int = g\n",
    "        self._b: int = b\n",
    "\n",
    "    def __str__(self) -> str:\n",
    "        \"\"\"Returns a string representing the color.\n",
    "\n",
    "        Returns:\n",
    "            - `str`: A string representing the color\n",
    "        \"\"\"\n",
    "        return f\"Color({self._r}, {self._g}, {self._b})\"\n",
    "\n",
    "    def __repr__(self) -> str:\n",
    "        \"\"\"Returns a string representing the color.\n",
    "\n",
    "        Returns:\n",
    "            - `str`: A string representing the color\n",
    "        \"\"\"\n",
    "        return f\"Color({self._r}, {self._g}, {self._b})\"\n"
   ]
  },
  {
   "cell_type": "code",
   "execution_count": 21,
   "metadata": {},
   "outputs": [
    {
     "name": "stdout",
     "output_type": "stream",
     "text": [
      "[Color(249, 124, 43), Color(169, 163, 52)]\n"
     ]
    }
   ],
   "source": [
    "# A list of warmtone colors\n",
    "warmtones: list[Color] = [Color(249, 124, 43), Color(169, 163, 52)]  # Orange  # Brown\n",
    "print(warmtones)\n"
   ]
  },
  {
   "attachments": {},
   "cell_type": "markdown",
   "metadata": {},
   "source": [
    "-   We want to add additional colors to palette\n",
    "    -   Or modify or remove some of the existing colors\n",
    "    -   Without affecting the contents of warmtones\n",
    "-   Using _Aliasing_ would not work in this case\n",
    "    -   Changing one would also change the other\n"
   ]
  },
  {
   "attachments": {},
   "cell_type": "markdown",
   "metadata": {},
   "source": [
    "<img src=\"./images/warmtones-alias.png\" width=40%>\n"
   ]
  },
  {
   "attachments": {},
   "cell_type": "markdown",
   "metadata": {},
   "source": [
    "### <a id='toc7_1_'></a>Shallow Copy [&#8593;](#toc0_)\n"
   ]
  },
  {
   "attachments": {},
   "cell_type": "markdown",
   "metadata": {},
   "source": [
    "-   We can create a shallow copy by creating a new object of the existing object\n",
    "-   The new object is initialized so that its contents are precisely the same as the original object\n",
    "-   In this case, Python’s lists are referential so the new list represents a sequence of references to the same elements as in the first\n",
    "    -   Different lists\n",
    "    -   Same underlying object references\n"
   ]
  },
  {
   "cell_type": "code",
   "execution_count": 22,
   "metadata": {},
   "outputs": [
    {
     "name": "stdout",
     "output_type": "stream",
     "text": [
      "[Color(249, 124, 43), Color(169, 163, 52)]\n"
     ]
    }
   ],
   "source": [
    "# Make palette a SHALLOW COPY of warmtone colors\n",
    "#   We want to subsequently be able to add additional colors to palette, or\n",
    "#   to modify or remove some of the existing colors, without affecting the contents of\n",
    "#   warmtones (Not an alias)\n",
    "warm_palette: list[Color] = list(warmtones)\n",
    "print(warm_palette)\n"
   ]
  },
  {
   "attachments": {},
   "cell_type": "markdown",
   "metadata": {},
   "source": [
    "<img src=\"./images/shallow-copy.png\" width=50%>\n"
   ]
  },
  {
   "attachments": {},
   "cell_type": "markdown",
   "metadata": {},
   "source": [
    "-   We can legitimately add or remove elements from `palette` without affecting `warmtones`\n",
    "-   However, if we edit a `color` instance from the `palette` list, we change the contents of `warmtones`\n",
    "-   **The underlying objects used by both list are still the same**\n"
   ]
  },
  {
   "attachments": {},
   "cell_type": "markdown",
   "metadata": {},
   "source": [
    "### <a id='toc7_2_'></a>Deep Copy [&#8593;](#toc0_)\n"
   ]
  },
  {
   "attachments": {},
   "cell_type": "markdown",
   "metadata": {},
   "source": [
    "-   The new copy references its own copies of those objects referenced by the original version\n",
    "    -   **Each list would have their own copies of underlying objects**\n",
    "\n",
    "<img src=\"./images/deep-copy.png\" width=60%>\n"
   ]
  },
  {
   "attachments": {},
   "cell_type": "markdown",
   "metadata": {},
   "source": [
    "### <a id='toc7_3_'></a>`copy` Module [&#8593;](#toc0_)\n"
   ]
  },
  {
   "attachments": {},
   "cell_type": "markdown",
   "metadata": {},
   "source": [
    "-   Can produce both _shallow_ copies and _deep_ copies of arbitrary objects\n",
    "    -   `copy.deepcopy()`\n",
    "    -   `copy.copy()`\n"
   ]
  },
  {
   "cell_type": "code",
   "execution_count": 23,
   "metadata": {},
   "outputs": [
    {
     "name": "stdout",
     "output_type": "stream",
     "text": [
      "Shallow Copy: [Color(249, 124, 43), Color(169, 163, 52)]\n",
      "Deep Copy: [Color(249, 124, 43), Color(169, 163, 52)]\n"
     ]
    }
   ],
   "source": [
    "# IMPORT MODULES\n",
    "# --------------\n",
    "from copy import copy, deepcopy\n",
    "\n",
    "# Make palette a SHALLOW COPY of warmtone colors\n",
    "#   We want to subsequently be able to add additional colors to palette, or\n",
    "#   to modify or remove some of the existing colors, without affecting the contents of\n",
    "#   warmtones (Not an alias)\n",
    "warm_palette_shallow_copy: list[Color] = copy(warmtones)\n",
    "print(\"Shallow Copy:\", warm_palette_shallow_copy)\n",
    "\n",
    "\n",
    "# Make palette a DEEP COPY of warmtone colors\n",
    "#   We want to subsequently be able to add additional colors to palette, or\n",
    "#   to modify or remove some of the existing colors, without affecting the contents of\n",
    "#   warmtones (Not an alias)\n",
    "warm_palette_deep_copy: list[Color] = deepcopy(warmtones)\n",
    "print(\"Deep Copy:\", warm_palette_deep_copy)\n"
   ]
  }
 ],
 "metadata": {
  "kernelspec": {
   "display_name": "Python 3.10.7 64-bit",
   "language": "python",
   "name": "python3"
  },
  "language_info": {
   "codemirror_mode": {
    "name": "ipython",
    "version": 3
   },
   "file_extension": ".py",
   "mimetype": "text/x-python",
   "name": "python",
   "nbconvert_exporter": "python",
   "pygments_lexer": "ipython3",
   "version": "3.11.3"
  },
  "orig_nbformat": 4,
  "vscode": {
   "interpreter": {
    "hash": "e38d5ae9d43e96fdce0082e34c9838c3d789b62a82d1e49c916cf5543b217821"
   }
  }
 },
 "nbformat": 4,
 "nbformat_minor": 2
}
