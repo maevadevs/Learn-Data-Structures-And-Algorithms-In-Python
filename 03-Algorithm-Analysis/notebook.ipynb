{
 "cells": [
  {
   "attachments": {},
   "cell_type": "markdown",
   "metadata": {},
   "source": [
    "# Algorithm Analysis\n"
   ]
  },
  {
   "attachments": {},
   "cell_type": "markdown",
   "metadata": {},
   "source": [
    "---\n"
   ]
  },
  {
   "attachments": {},
   "cell_type": "markdown",
   "metadata": {},
   "source": [
    "**Table of contents**<a id='toc0_'></a>\n",
    "\n",
    "-   [Experimental Studies](#toc1_)\n",
    "    -   [Challenges of Experimental Studies](#toc1_1_)\n",
    "    -   [Beyond Experimental Analysis](#toc1_2_)\n",
    "        -   [Counting Primitive Operations](#toc1_2_1_)\n",
    "        -   [Measuring Operations as a Function of Input Size](#toc1_2_2_)\n",
    "        -   [Focusing on the Worst-Case Input](#toc1_2_3_)\n",
    "    -   [7 Functions For Algorithm Analysis](#toc1_3_)\n",
    "        -   [Constant Function](#toc1_3_1_)\n",
    "        -   [Log Function](#toc1_3_2_)\n",
    "        -   [Linear Function](#toc1_3_3_)\n",
    "        -   [$nlogn$ Function](#toc1_3_4_)\n",
    "        -   [Quadratic Function](#toc1_3_5_)\n",
    "            -   [Nested Loops and the Quadratic Function](#toc1_3_5_1_)\n",
    "        -   [Cubic Function and Other Polynomials](#toc1_3_6_)\n",
    "            -   [Polynomials](#toc1_3_6_1_)\n",
    "            -   [Summations](#toc1_3_6_2_)\n",
    "        -   [Exponential Function](#toc1_3_7_)\n",
    "            -   [Geometric Sums](#toc1_3_7_1_)\n",
    "        -   [Comparing Growth Rates of the Functions](#toc1_3_8_)\n",
    "            -   [Ceiling and Floor Functions](#toc1_3_8_1_)\n",
    "    -   [Asymptotic Analysis](#toc1_4_)\n",
    "        -   [The \"Big-Oh\" Notation](#toc1_4_1_)\n",
    "            -   [Characterizing Running Times Using the Big-O Notation](#toc1_4_1_1_)\n",
    "\n",
    "<!-- vscode-jupyter-toc-config\n",
    "\tnumbering=false\n",
    "\tanchor=true\n",
    "\tflat=false\n",
    "\tminLevel=2\n",
    "\tmaxLevel=6\n",
    "\t/vscode-jupyter-toc-config -->\n",
    "<!-- THIS CELL WILL BE REPLACED ON TOC UPDATE. DO NOT WRITE YOUR TEXT IN THIS CELL -->\n"
   ]
  },
  {
   "attachments": {},
   "cell_type": "markdown",
   "metadata": {},
   "source": [
    "---\n"
   ]
  },
  {
   "attachments": {},
   "cell_type": "markdown",
   "metadata": {},
   "source": [
    "-   **Data Structure** - A systematic way of organizing and accessing data\n",
    "-   **Algorithm** - A step-by-step procedure for performing some task in a finite amount of time\n",
    "-   **To be able to classify some data structures and algorithms as _good_, we must have precise ways of analyzing them**\n",
    "    -   Characterizing the running times of algorithms and data structure operations\n",
    "    -   Analyzing the space usage\n",
    "-   Running time of an algorithm or data structure is affected by\n",
    "    -   Increases with the input size\n",
    "    -   Hardware environment (processore, clock rate, memory, disk...)\n",
    "    -   Software environment (programming language, operating system...)\n",
    "-   For measurement, we need to use a few mathematical tools\n",
    "    -   Characterizing an algorithm’s running time as a function of the input size\n"
   ]
  },
  {
   "attachments": {},
   "cell_type": "markdown",
   "metadata": {},
   "source": [
    "## <a id='toc1_'></a>Experimental Studies [&#8593;](#toc0_)\n"
   ]
  },
  {
   "attachments": {},
   "cell_type": "markdown",
   "metadata": {},
   "source": [
    "-   We can study a known algorithm's running time\n",
    "    -   Executing it on various test inputs\n",
    "    -   Recording the time spent during each execution\n",
    "-   In Python, we can use `time.time`\n",
    "    -   Report the number of seconds that have elapsed since a benchmark time\n"
   ]
  },
  {
   "cell_type": "code",
   "execution_count": 1,
   "metadata": {},
   "outputs": [
    {
     "name": "stdout",
     "output_type": "stream",
     "text": [
      "Hello World!\n",
      "Runtime was 0.0 seconds\n"
     ]
    }
   ],
   "source": [
    "from time import time\n",
    "\n",
    "start_time: float = time()  # record the starting time\n",
    "print(\"Hello World!\")  # run algorithm\n",
    "end_time: float = time()  # record the ending time\n",
    "elapsed: float = end_time - start_time  # compute the elapsed time\n",
    "\n",
    "print(f\"Runtime was {elapsed} seconds\")\n"
   ]
  },
  {
   "attachments": {},
   "cell_type": "markdown",
   "metadata": {},
   "source": [
    "-   A decent reflection of the algorithm efficiency\n",
    "    -   But it is not perfect\n",
    "    -   Measures relative to what is known as the _Wall Clock_\n",
    "    -   Many processes share use of the CPU\n",
    "    -   Depend on what processes are running on the computer when the test is performed\n",
    "-   Better Measurements: _Number of CPU cycles that are used by the algorithm_\n",
    "    -   In Python, we can use `time.clock()`\n",
    "    -   However, deprecated since version 3.3 and removed since version 3.8\n",
    "    -   Instead, use `time.perf_counter()` or `time.process_time()`\n"
   ]
  },
  {
   "cell_type": "code",
   "execution_count": 2,
   "metadata": {},
   "outputs": [
    {
     "name": "stdout",
     "output_type": "stream",
     "text": [
      "Hello World!\n",
      "Runtime was 0.000231999991228804 seconds\n"
     ]
    }
   ],
   "source": [
    "from time import perf_counter\n",
    "\n",
    "start_time = perf_counter()  # record the starting time\n",
    "print(\"Hello World!\")  # run algorithm\n",
    "end_time = perf_counter()  # record the ending time\n",
    "elapsed = end_time - start_time  # compute the elapsed time\n",
    "\n",
    "print(f\"Runtime was {elapsed} seconds\")\n"
   ]
  },
  {
   "attachments": {},
   "cell_type": "markdown",
   "metadata": {},
   "source": [
    "-   Limitations:\n",
    "    -   Might not be consistent if repeating the identical algorithm on the identical input\n",
    "    -   Granularity will depend upon the computer system\n",
    "-   Another option is to use `timeit` module\n",
    "    -   More advanced benchmarking\n",
    "    -   Help automate evaluations with repetition\n",
    "    -   Account for variance among trials\n",
    "\n",
    "```py\n",
    "timeit.timeit(statement, setup, timer, number=10**6)\n",
    "```\n",
    "\n",
    "-   `statement`: The code for which we want to measure the execution time\n",
    "-   `setup`: Setup details that need to be executed before statement\n",
    "-   `timer`: Timer value (already has a default)\n",
    "-   `number`: How many times to execute `statement`\n"
   ]
  },
  {
   "cell_type": "code",
   "execution_count": 3,
   "metadata": {},
   "outputs": [
    {
     "name": "stdout",
     "output_type": "stream",
     "text": [
      "0.010866700002225116\n"
     ]
    }
   ],
   "source": [
    "from timeit import timeit\n",
    "\n",
    "statement: str = \"3 / 3\"\n",
    "execution_time: float = timeit(statement)\n",
    "print(execution_time)\n"
   ]
  },
  {
   "attachments": {},
   "cell_type": "markdown",
   "metadata": {},
   "source": [
    "-   Perform independent experiments on many different test inputs of various sizes\n",
    "    -   Visualize the results (InputSize by Runtime)\n",
    "    -   May provide intuition about the relationship between problem size and execution time\n",
    "    -   Choose good sample inputs and test enough of them\n",
    "\n",
    "<img src=\"./images/example-of-runtime-analysis.png\" width=40%>\n"
   ]
  },
  {
   "attachments": {},
   "cell_type": "markdown",
   "metadata": {},
   "source": [
    "### <a id='toc1_1_'></a>Challenges of Experimental Studies [&#8593;](#toc0_)\n"
   ]
  },
  {
   "attachments": {},
   "cell_type": "markdown",
   "metadata": {},
   "source": [
    "-   Difficult to directly compare unless the experiments are performed in the same hardware and software environments\n",
    "-   Can be done only on a limited set of test inputs\n",
    "    -   Leave out the running-times of inputs not included in the experiment\n",
    "-   An algorithm must be fully implemented in order to execute it to study its running time\n",
    "    -   Most serious limitation\n",
    "    -   We cannot spend a too much time implementing an approach that could be deemed inferior by a higher-level analysis\n"
   ]
  },
  {
   "attachments": {},
   "cell_type": "markdown",
   "metadata": {},
   "source": [
    "### <a id='toc1_2_'></a>Beyond Experimental Analysis [&#8593;](#toc0_)\n"
   ]
  },
  {
   "attachments": {},
   "cell_type": "markdown",
   "metadata": {},
   "source": [
    "-   Develop an approach to analyze the efficiency of algorithms that:\n",
    "    -   Allows to evaluate the relative efficiency of two algorithms, independent of the hardware and software environment\n",
    "    -   Performed by studying a high-level description of the algorithm without need for implementation\n",
    "    -   Takes into account all possible inputs\n"
   ]
  },
  {
   "attachments": {},
   "cell_type": "markdown",
   "metadata": {},
   "source": [
    "#### <a id='toc1_2_1_'></a>Counting Primitive Operations [&#8593;](#toc0_)\n"
   ]
  },
  {
   "attachments": {},
   "cell_type": "markdown",
   "metadata": {},
   "source": [
    "-   Perform analysis directly on a high-level description of the algorithm\n",
    "-   Can be done on some short Code-Fragments or Pseudo-Code\n",
    "-   **Primitive Operations**\n",
    "    -   Identifier assignment\n",
    "    -   Determining the object associated with an identifier\n",
    "    -   Arithmetic operations\n",
    "    -   Number comparisons\n",
    "    -   List element-access by index\n",
    "    -   Function call (Excluding ops in the function itself)\n",
    "    -   Function return\n",
    "-   **Formally, a _Primitive Operation_ corresponds to a low-level instruction with an execution time that is constant**\n",
    "    -   Basic operation that is executed by the hardware\n",
    "    -   May be translated to a small number of instructions\n",
    "-   **We simply count how many primitive operations are executed**\n",
    "    -   **Use this number $t$ as a measure of the running time of the algorithm**\n",
    "    -   **Assumption: _The running times of different primitive operations will be fairly similar_**\n",
    "    -   **$t$ will be proportional to the actual running time of the algorithm**\n",
    "-   Will correlate to an actual running time in a specific computer\n",
    "    -   Each primitive operation corresponds to a constant number of instructions\n",
    "    -   There are only a fixed number of primitive operations\n"
   ]
  },
  {
   "attachments": {},
   "cell_type": "markdown",
   "metadata": {},
   "source": [
    "#### <a id='toc1_2_2_'></a>Measuring Operations as a Function of Input Size [&#8593;](#toc0_)\n"
   ]
  },
  {
   "attachments": {},
   "cell_type": "markdown",
   "metadata": {},
   "source": [
    "-   Capture the order of growth of an algorithm’s running time\n",
    "-   Assign to each algorithm a function $f(n)$\n",
    "    -   Number of primitive operations that are performed as a function of the input size $n$\n",
    "    -   There are 7 most common functions\n",
    "    -   There is a mathematical framework for comparing functions to each other\n"
   ]
  },
  {
   "attachments": {},
   "cell_type": "markdown",
   "metadata": {},
   "source": [
    "#### <a id='toc1_2_3_'></a>Focusing on the Worst-Case Input [&#8593;](#toc0_)\n"
   ]
  },
  {
   "attachments": {},
   "cell_type": "markdown",
   "metadata": {},
   "source": [
    "-   An algorithm may run faster on some inputs than it does on others of the same size\n",
    "-   Express the running time of an algorithm as the function of the input size\n",
    "    -   Taking the average over all possible inputs of the same size\n",
    "    -   However, _Average-Case Analysis_ is typically quite challenging\n",
    "    -   Requires that we calculate expected running times based on a given input distribution\n",
    "    -   Requires to define a probability distribution on the set of inputs\n",
    "    -   Involves complicated probability theories\n",
    "    -   The running time can be anywhere between the worst-case time and the best-case time\n",
    "\n",
    "<img src=\"./images/average-case-analysis.png\" width=50%>\n"
   ]
  },
  {
   "attachments": {},
   "cell_type": "markdown",
   "metadata": {},
   "source": [
    "-   Instead, we typically characterize running times in terms of the _Worst-Case_\n",
    "    -   Function of the input size $n$ of the algorithm\n",
    "    -   Much easier than Average-Case Analysis\n",
    "    -   Requires only the ability to identify the worst-case input\n",
    "    -   Typically leads to better algorithms as it requires the algorthm to do well on every input\n",
    "    -   Designing for the worst case leads to stronger algorithmic implementations\n"
   ]
  },
  {
   "attachments": {},
   "cell_type": "markdown",
   "metadata": {},
   "source": [
    "### <a id='toc1_3_'></a>7 Functions For Algorithm Analysis [&#8593;](#toc0_)\n"
   ]
  },
  {
   "attachments": {},
   "cell_type": "markdown",
   "metadata": {},
   "source": [
    "-   These are the most-used functions\n",
    "-   There are additional functions but they are optional\n",
    "-   [Appendix 2](../Apx-02-Useful-Math-Facts/) contains other useful math facts for analysis of data structures and algorithms\n"
   ]
  },
  {
   "attachments": {},
   "cell_type": "markdown",
   "metadata": {},
   "source": [
    "#### <a id='toc1_3_1_'></a>Constant Function [&#8593;](#toc0_)\n"
   ]
  },
  {
   "attachments": {},
   "cell_type": "markdown",
   "metadata": {},
   "source": [
    "$$\n",
    "f(n)=c\n",
    "$$\n"
   ]
  },
  {
   "attachments": {},
   "cell_type": "markdown",
   "metadata": {},
   "source": [
    "-   For some fixed-constant $c$\n",
    "-   **For any argument $n$, the value of $f(n)$ is always the constant $c$**\n",
    "    -   It does not matter what the value of input $n$ is\n",
    "    -   $f(n)$ will always be equal to the constant value $c$\n",
    "-   **The most fundamental constant function is $g(n)=1$**\n",
    "    -   A typical function used in algorithm analysis\n",
    "    -   Any other constant function can be written with it\n",
    "\n",
    "$$\n",
    "\\begin{gather*}\n",
    "g(n) = 1 \\\\\n",
    "f(n) = c \\times g(n)\n",
    "\\end{gather*}\n",
    "$$\n",
    "\n",
    "-   Characterizes the number of steps needed to do a basic operations on a computer\n",
    "    -   Adding two numbers\n",
    "    -   Assigning a value to some variable\n",
    "    -   Comparing two numbers\n"
   ]
  },
  {
   "attachments": {},
   "cell_type": "markdown",
   "metadata": {},
   "source": [
    "#### <a id='toc1_3_2_'></a>Log Function [&#8593;](#toc0_)\n"
   ]
  },
  {
   "attachments": {},
   "cell_type": "markdown",
   "metadata": {},
   "source": [
    "$$\n",
    "\\begin{gather*}\n",
    "f(n)=log_b(n) \\text{ with } b>1 \\\\\n",
    "x=log_b(n) \\text{ if and only if } b^x=n \\\\\n",
    "log_b(1) = 0\n",
    "\\end{gather*}\n",
    "$$\n"
   ]
  },
  {
   "attachments": {},
   "cell_type": "markdown",
   "metadata": {},
   "source": [
    "-   Algorithm analysis has a ubiquitous presence of _logarithm function_\n",
    "-   **$b$ is the _Base_ of the log function**\n",
    "    -   Most common base in computer science is 2\n",
    "    -   Computers store integers in binary\n",
    "    -   Common operation is to repeatedly divide an input in half\n",
    "    -   **Due to the commonality, the base 2 can be omitted in the notation**\n",
    "    -   Note that this is not the same as $log_{10}$, which is the typical $log$ notation\n",
    "\n",
    "$$\n",
    "log(n) = log_2(n)\n",
    "$$\n"
   ]
  },
  {
   "attachments": {},
   "cell_type": "markdown",
   "metadata": {},
   "source": [
    "-   We can use an approximation for $log$\n",
    "    -   We can compute the smallest integer greater than or equal to $log_b(n)$ (ceiling)\n",
    "    -   This value is equal to the number of times we can divide $n$ by $b$ before we get a number less than or equal to 1\n",
    "-   **Logarithm Rules:** _Given real numbers $a > 0$, $b > 1$, $c > 0$, and $d > 1$, we have:_\n",
    "    1. $log_b(a \\times c) = log_b(a)+log_b(c)$\n",
    "    2. $log_b(\\frac{a}{c}) = log_b(a)−log_b(c)$\n",
    "    3. $log_b(a^c) = c \\times log_b(a)$\n",
    "    4. $log_b(a) = \\frac{log_d(a)}{log_d(b)}$\n",
    "    5. $b^{log_d(a)} = a^{log_d(b)}$\n",
    "    6. $log n^c = log(n^c)$\n",
    "    7. $log^c n = (log n)^c$\n",
    "-   Rule #4 allows us to convert to a different base (e.g. from $log_2(n)$ to $log_{10}(n)$)\n"
   ]
  },
  {
   "attachments": {},
   "cell_type": "markdown",
   "metadata": {},
   "source": [
    "#### <a id='toc1_3_3_'></a>Linear Function [&#8593;](#toc0_)\n"
   ]
  },
  {
   "attachments": {},
   "cell_type": "markdown",
   "metadata": {},
   "source": [
    "$$\n",
    "\\begin{gather*}\n",
    "f(n)=n\n",
    "\\end{gather*}\n",
    "$$\n"
   ]
  },
  {
   "attachments": {},
   "cell_type": "markdown",
   "metadata": {},
   "source": [
    "-   **Given an input value $n$, the linear function $f$ assigns the value $n$ itself**\n",
    "-   Arises anytime we have to do a single basic operation for each of $n$ elements\n",
    "    -   Comparing a number $x$ to each element of a sequence of size $n$\n",
    "    -   Reading-in $n$ objects already requires $n$ operations\n"
   ]
  },
  {
   "attachments": {},
   "cell_type": "markdown",
   "metadata": {},
   "source": [
    "#### <a id='toc1_3_4_'></a>$nlogn$ Function [&#8593;](#toc0_)\n"
   ]
  },
  {
   "attachments": {},
   "cell_type": "markdown",
   "metadata": {},
   "source": [
    "$$\n",
    "\\begin{gather*}\n",
    "f(n)=nlog(n)\n",
    "\\end{gather*}\n",
    "$$\n"
   ]
  },
  {
   "attachments": {},
   "cell_type": "markdown",
   "metadata": {},
   "source": [
    "-   Assigns to an input $n$ the value of $n$ times the logarithm base-two of $n$\n",
    "-   Grows a little more rapidly than the linear function\n",
    "-   Grows a lot less rapidly than the quadratic function\n",
    "-   _We would greatly prefer an algorithm with a running time that is proportional to $nlogn$ than one with quadratic running time_\n",
    "    -   The fastest possible algorithms for sorting $n$ arbitrary values require time proportional to $nlog n$\n"
   ]
  },
  {
   "attachments": {},
   "cell_type": "markdown",
   "metadata": {},
   "source": [
    "#### <a id='toc1_3_5_'></a>Quadratic Function [&#8593;](#toc0_)\n"
   ]
  },
  {
   "attachments": {},
   "cell_type": "markdown",
   "metadata": {},
   "source": [
    "$$\n",
    "\\begin{gather*}\n",
    "f(n)=n^2\n",
    "\\end{gather*}\n",
    "$$\n"
   ]
  },
  {
   "attachments": {},
   "cell_type": "markdown",
   "metadata": {},
   "source": [
    "-   Given an input value $n$, the function $f$ assigns the product of $n$ with itself\n",
    "-   There are many algorithms that have nested loops\n",
    "    -   The inner loop performs a linear number of operations\n",
    "    -   The outer loop is performed a linear number of times\n",
    "    -   The algorithm performs $n \\times n = n^2$ operations\n"
   ]
  },
  {
   "attachments": {},
   "cell_type": "markdown",
   "metadata": {},
   "source": [
    "##### <a id='toc1_3_5_1_'></a>Nested Loops and the Quadratic Function [&#8593;](#toc0_)\n"
   ]
  },
  {
   "attachments": {},
   "cell_type": "markdown",
   "metadata": {},
   "source": [
    "$$\n",
    "\\begin{gather*}\n",
    "1+2+3+· · ·+(n−2)+(n−1)+n = \\frac{n}{2} \\times (n+1)\n",
    "\\end{gather*}\n",
    "$$\n"
   ]
  },
  {
   "attachments": {},
   "cell_type": "markdown",
   "metadata": {},
   "source": [
    "<img src=\"./images/quadratic-function.png\" width=40%>\n"
   ]
  },
  {
   "attachments": {},
   "cell_type": "markdown",
   "metadata": {},
   "source": [
    "**_If we perform an algorithm with nested loops such that the operations in the inner loop increase by one each time, then the total number of operations is quadratic in the number of times $n$ we perform the outer loop._**\n"
   ]
  },
  {
   "attachments": {},
   "cell_type": "markdown",
   "metadata": {},
   "source": [
    "#### <a id='toc1_3_6_'></a>Cubic Function and Other Polynomials [&#8593;](#toc0_)\n"
   ]
  },
  {
   "attachments": {},
   "cell_type": "markdown",
   "metadata": {},
   "source": [
    "$$\n",
    "\\begin{gather*}\n",
    "f(n)=n^3\n",
    "\\end{gather*}\n",
    "$$\n"
   ]
  },
  {
   "attachments": {},
   "cell_type": "markdown",
   "metadata": {},
   "source": [
    "-   Assigns to an input value $n$ the product of $n$ with itself three times\n",
    "-   Appears less frequently in the context of algorithm analysis\n",
    "-   But it does appear from time to time\n"
   ]
  },
  {
   "attachments": {},
   "cell_type": "markdown",
   "metadata": {},
   "source": [
    "##### <a id='toc1_3_6_1_'></a>Polynomials [&#8593;](#toc0_)\n"
   ]
  },
  {
   "attachments": {},
   "cell_type": "markdown",
   "metadata": {},
   "source": [
    "-   Most of the functions discussed above are _polynomials_ in the form:\n",
    "\n",
    "$$\n",
    "\\begin{gather*}\n",
    "f(n) = a_0+a_1n+a_2n^2+a_3n^3+...+a_dn^d\n",
    "\\end{gather*}\n",
    "$$\n",
    "\n",
    "-   $a_0, a_1,...,a_d$ are constants - **Coefficients of the Polynomial**\n",
    "-   $d \\ne 0$ - **Degree of the Polynomial**\n",
    "-   **Running times that are polynomials with small degree are generally better than polynomial running times with larger degree**\n"
   ]
  },
  {
   "attachments": {},
   "cell_type": "markdown",
   "metadata": {},
   "source": [
    "##### <a id='toc1_3_6_2_'></a>Summations [&#8593;](#toc0_)\n"
   ]
  },
  {
   "attachments": {},
   "cell_type": "markdown",
   "metadata": {},
   "source": [
    "-   This notation appears again and again in algorithm analysis\n",
    "-   The running times of loops naturally give rise to summations\n",
    "-   Gives us a shorthand way of expressing sums of increasing terms with a regular structure\n"
   ]
  },
  {
   "attachments": {},
   "cell_type": "markdown",
   "metadata": {},
   "source": [
    "$$\n",
    "\\begin{gather*}\n",
    "\\sum_{i=a}^bf(i)=f(a)+f(a+1)+f(a+2)+...+f(b)\n",
    "\\end{gather*}\n",
    "$$\n"
   ]
  },
  {
   "attachments": {},
   "cell_type": "markdown",
   "metadata": {},
   "source": [
    "-   $a$ and $b$ are integers, with $a \\le b$\n"
   ]
  },
  {
   "attachments": {},
   "cell_type": "markdown",
   "metadata": {},
   "source": [
    "-   Thus, for quadratic function:\n",
    "\n",
    "$$\n",
    "\\begin{gather*}\n",
    "\\sum_{i=1}^ni = 1+2+3+· · ·+(n−2)+(n−1)+n = \\frac{n}{2} \\times (n+1)\n",
    "\\end{gather*}\n",
    "$$\n"
   ]
  },
  {
   "attachments": {},
   "cell_type": "markdown",
   "metadata": {},
   "source": [
    "-   And for Polynomials:\n",
    "\n",
    "$$\n",
    "\\begin{gather*}\n",
    "f(n)=\\sum_{i=1}^na_in^i = a_0+a_1n+a_2n^2+a_3n^3+...+a_dn^d\n",
    "\\end{gather*}\n",
    "$$\n"
   ]
  },
  {
   "attachments": {},
   "cell_type": "markdown",
   "metadata": {},
   "source": [
    "#### <a id='toc1_3_7_'></a>Exponential Function [&#8593;](#toc0_)\n"
   ]
  },
  {
   "attachments": {},
   "cell_type": "markdown",
   "metadata": {},
   "source": [
    "$$\n",
    "\\begin{gather*}\n",
    "f(n) = b^n\n",
    "\\end{gather*}\n",
    "$$\n"
   ]
  },
  {
   "attachments": {},
   "cell_type": "markdown",
   "metadata": {},
   "source": [
    "-   $b$ is a positive constant - **Base**\n",
    "-   $n$ - **exponent**\n",
    "-   Assigns to the input argument $n$ the value obtained by multiplying the base $b$ by itself $n$ times\n",
    "-   Most common base for algorithm analysis is $b = 2$\n",
    "    -   An integer containing $n$ bits can represent all the nonnegative integers less than $2^n$\n",
    "    -   **_If we have a loop that starts by performing one operation and then doubles the number of operations performed with each iteration, then the number of operations performed in the $n$th iteration is $2^n$_**\n",
    "-   **Exponent Rules**\n",
    "    1. $(b^a)^c = b^{a \\times c}$\n",
    "    2. $b^a \\times b^c = b^{a+c}$\n",
    "    3. $\\frac{b^a}{b^c} = b^{a−c}$\n",
    "-   We can extend the exponential function to exponents that are fractions or real numbers and to negative exponents\n",
    "    -   Fraction -> Root\n",
    "    -   $b^{\\frac{a}{c}} = (b^a)^{\\frac{1}{c}}$\n",
    "    -   _Any real number $x$ can be approximated arbitrarily closely by a fraction $\\frac{a}{c}$_\n"
   ]
  },
  {
   "attachments": {},
   "cell_type": "markdown",
   "metadata": {},
   "source": [
    "##### <a id='toc1_3_7_1_'></a>Geometric Sums [&#8593;](#toc0_)\n"
   ]
  },
  {
   "attachments": {},
   "cell_type": "markdown",
   "metadata": {},
   "source": [
    "-   _For any integer $n\\ge0$ and any real number $a$ such that $a\\gt0$ and $a\\ne1$, consider the summation:_\n",
    "\n",
    "$$\n",
    "\\begin{gather*}\n",
    "\\sum_{i=0}^na^i = 1+a+a^2+· · ·+a^n=\\frac{a^{n+1}-1}{a-1}\n",
    "\\end{gather*}\n",
    "$$\n"
   ]
  },
  {
   "attachments": {},
   "cell_type": "markdown",
   "metadata": {},
   "source": [
    "-   Each term is geometrically larger than the previous one if $a\\gt1$\n"
   ]
  },
  {
   "attachments": {},
   "cell_type": "markdown",
   "metadata": {},
   "source": [
    "#### <a id='toc1_3_8_'></a>Comparing Growth Rates of the Functions [&#8593;](#toc0_)\n"
   ]
  },
  {
   "attachments": {},
   "cell_type": "markdown",
   "metadata": {},
   "source": [
    "<img src=\"./images/classes-of-functions.png\" width=60%>\n"
   ]
  },
  {
   "attachments": {},
   "cell_type": "markdown",
   "metadata": {},
   "source": [
    "-   Ideally, we would like data structure operations to run in times proportional to the _Constant_ or _Logarithm_ function\n",
    "-   Ideally, we would like our algorithms to run at most in _Linear_ or _n-log-n_ time\n",
    "-   **Algorithms with _Quadratic_ or _Cubic_ running times are less practical**\n",
    "-   **Algorithms with _Exponential_ running times are infeasible for all but the smallest inputs**\n"
   ]
  },
  {
   "attachments": {},
   "cell_type": "markdown",
   "metadata": {},
   "source": [
    "<img src=\"./images/7-functions-growth-rate.png\" width=60%>\n"
   ]
  },
  {
   "attachments": {},
   "cell_type": "markdown",
   "metadata": {},
   "source": [
    "##### <a id='toc1_3_8_1_'></a>Ceiling and Floor Functions [&#8593;](#toc0_)\n"
   ]
  },
  {
   "attachments": {},
   "cell_type": "markdown",
   "metadata": {},
   "source": [
    "-   The running time of an algorithm is usually expressed by means of an integer quantity\n",
    "    -   Number of operations performed\n",
    "-   But the value is generally not an integer\n",
    "-   The analysis of an algorithm may sometimes involve the use of the _floor_ and _ceiling_ functions\n",
    "    -   **Floor** - The largest integer less than or equal to $x$\n",
    "    -   **Ceiling** - The smallest integer greater than or equal to $x$\n"
   ]
  },
  {
   "attachments": {},
   "cell_type": "markdown",
   "metadata": {},
   "source": [
    "### <a id='toc1_4_'></a>Asymptotic Analysis [&#8593;](#toc0_)\n"
   ]
  },
  {
   "attachments": {},
   "cell_type": "markdown",
   "metadata": {},
   "source": [
    "-   Focus on the growth rate of the running time as a function of the input size $n$\n",
    "-   Taking a _big-picture_ approach\n",
    "-   Analyze algorithms using a mathematical notation, disregarding constant factors\n",
    "-   Map the size of the input $n$ to values that correspond to the main factor that determines the growth rate in terms of $n$\n",
    "    -   Each basic step may correspond to a small number of primitive operations\n",
    "    -   Estimating the number of primitive operations executed up to a constant factor\n"
   ]
  },
  {
   "cell_type": "code",
   "execution_count": 4,
   "metadata": {},
   "outputs": [],
   "source": [
    "def find_max(data: list[int]) -> int:\n",
    "    \"\"\"Return the maximum element from a non-empty Python list\"\"\"\n",
    "\n",
    "    # The initial value to beat\n",
    "    biggest: int = data[0]\n",
    "\n",
    "    # For each value\n",
    "    for val in data:\n",
    "        # If it is greater than the best so far\n",
    "        if val > biggest:\n",
    "            # We have found a new best (so far)\n",
    "            biggest = val\n",
    "\n",
    "    # When loop ends, biggest is the max\n",
    "    return biggest\n"
   ]
  },
  {
   "attachments": {},
   "cell_type": "markdown",
   "metadata": {},
   "source": [
    "#### <a id='toc1_4_1_'></a>The \"Big-Oh\" Notation [&#8593;](#toc0_)\n"
   ]
  },
  {
   "attachments": {},
   "cell_type": "markdown",
   "metadata": {},
   "source": [
    "-   **$f(n)$ is $O(g(n))$ if there is a real constant $c > 0$ and an integer constant $n_0 \\ge 1$ such that:**\n",
    "\n",
    "$$\n",
    "\\begin{gather*}\n",
    "f(n) \\le c \\cdot g(n) \\text{ for } n \\ge n_0\n",
    "\\end{gather*}\n",
    "$$\n"
   ]
  },
  {
   "attachments": {},
   "cell_type": "markdown",
   "metadata": {},
   "source": [
    "<img src=\"./images/big-o-notation.png\" width=40%>\n"
   ]
  },
  {
   "attachments": {},
   "cell_type": "markdown",
   "metadata": {},
   "source": [
    "-   **A function $f(n)$ is _less than or equal to_ another function $g(n)$ up to a constant factor**\n",
    "    -   This is in the asymptotic sense as $n$ grows toward infinity\n",
    "-   Although common, it is not fully correct to say $f(n) = O(g(n))$\n",
    "    -   There is no way to make sense of the symmetric statement $O(g(n)) = f(n)$\n",
    "    -   It is best to say $f(n) \\text{ is }O(g(n))$\n",
    "-   Alternatively, we can say $f(n) \\text{ is order of }g(n)$ or $f(n) ∈ O(g(n))$\n",
    "    -   The Big-O notation technically denotes a whole collection of functions\n"
   ]
  },
  {
   "attachments": {},
   "cell_type": "markdown",
   "metadata": {},
   "source": [
    "##### <a id='toc1_4_1_1_'></a>Characterizing Running Times Using the Big-O Notation [&#8593;](#toc0_)\n"
   ]
  }
 ],
 "metadata": {
  "kernelspec": {
   "display_name": "learn_algorithm",
   "language": "python",
   "name": "python3"
  },
  "language_info": {
   "codemirror_mode": {
    "name": "ipython",
    "version": 3
   },
   "file_extension": ".py",
   "mimetype": "text/x-python",
   "name": "python",
   "nbconvert_exporter": "python",
   "pygments_lexer": "ipython3",
   "version": "3.11.3"
  },
  "orig_nbformat": 4
 },
 "nbformat": 4,
 "nbformat_minor": 2
}
