{
 "cells": [
  {
   "attachments": {},
   "cell_type": "markdown",
   "metadata": {},
   "source": [
    "# Python Primer Exercises\n",
    "\n",
    "---\n"
   ]
  },
  {
   "attachments": {},
   "cell_type": "markdown",
   "metadata": {},
   "source": [
    "**Table of Contents**<a id='toc0_'></a>\n",
    "\n",
    "-   [Reinforcement](#toc1_)\n",
    "-   [Creativity](#toc2_)\n",
    "\n",
    "<!-- vscode-jupyter-toc-config\n",
    "\tnumbering=false\n",
    "\tanchor=true\n",
    "\tflat=false\n",
    "\tminLevel=2\n",
    "\tmaxLevel=6\n",
    "\t/vscode-jupyter-toc-config -->\n",
    "<!-- THIS CELL WILL BE REPLACED ON TOC UPDATE. DO NOT WRITE YOUR TEXT IN THIS CELL -->\n"
   ]
  },
  {
   "attachments": {},
   "cell_type": "markdown",
   "metadata": {},
   "source": [
    "---\n"
   ]
  },
  {
   "attachments": {},
   "cell_type": "markdown",
   "metadata": {},
   "source": [
    "## <a id='toc1_'></a>Reinforcement [&#8593;](#toc0_)\n"
   ]
  },
  {
   "attachments": {},
   "cell_type": "markdown",
   "metadata": {},
   "source": [
    "1. Write a short Python function, `is_multiple(n, m)`, that takes two integer values and returns `True` if `n` is a multiple of `m`, that is, `n = m * i` for some integer `i`, and `False` otherwise\n"
   ]
  },
  {
   "cell_type": "code",
   "execution_count": 1,
   "metadata": {},
   "outputs": [],
   "source": [
    "def is_multiple(n: int, m: int) -> bool:\n",
    "    return n % m == 0"
   ]
  },
  {
   "cell_type": "code",
   "execution_count": 7,
   "metadata": {},
   "outputs": [
    {
     "name": "stdout",
     "output_type": "stream",
     "text": [
      "All tests passed.\n"
     ]
    }
   ],
   "source": [
    "# Test-Cases\n",
    "assert is_multiple(10, 2) == True\n",
    "assert is_multiple(10, 5) == True\n",
    "assert is_multiple(10, 7) == False\n",
    "assert is_multiple(10, 3) == False\n",
    "print(\"All tests passed.\")"
   ]
  },
  {
   "attachments": {},
   "cell_type": "markdown",
   "metadata": {},
   "source": [
    "2. Write a short Python function, `is_even(k)`, that takes an integer value and returns `True` if `k` is even, and `False` otherwise. However, your function cannot use the multiplication, modulo, or division operators.\n"
   ]
  },
  {
   "cell_type": "code",
   "execution_count": 3,
   "metadata": {},
   "outputs": [],
   "source": [
    "def is_even(k: int) -> bool:\n",
    "    if k == 0:\n",
    "        return True\n",
    "    if k == 1:\n",
    "        return False\n",
    "    return is_even(k - 2)"
   ]
  },
  {
   "cell_type": "code",
   "execution_count": 8,
   "metadata": {},
   "outputs": [
    {
     "name": "stdout",
     "output_type": "stream",
     "text": [
      "All tests passed.\n"
     ]
    }
   ],
   "source": [
    "# Test-Cases\n",
    "assert is_even(20) == True\n",
    "assert is_even(15) == False\n",
    "assert is_even(200) == True\n",
    "assert is_even(307) == False\n",
    "print(\"All tests passed.\")"
   ]
  },
  {
   "attachments": {},
   "cell_type": "markdown",
   "metadata": {},
   "source": [
    "3. Write a short Python function, `minmax(data)`, that takes a sequence of one or more numbers, and returns the smallest and largest numbers, in the form of a tuple of length two. Do not use the built-in functions `min` or `max` in implementing your solution.\n"
   ]
  },
  {
   "cell_type": "code",
   "execution_count": 5,
   "metadata": {},
   "outputs": [],
   "source": [
    "from typing import Sequence, Tuple, TypeVar\n",
    "\n",
    "TMinMaxNum = TypeVar(\"TMinMaxNum\", int, float)\n",
    "\n",
    "\n",
    "def minmax(data: Sequence[TMinMaxNum]) -> Tuple[TMinMaxNum, TMinMaxNum]:\n",
    "    n: int = len(data)\n",
    "    data = sorted(data)\n",
    "    return data[0], data[n - 1]"
   ]
  },
  {
   "cell_type": "code",
   "execution_count": 9,
   "metadata": {},
   "outputs": [
    {
     "name": "stdout",
     "output_type": "stream",
     "text": [
      "All tests passed.\n"
     ]
    }
   ],
   "source": [
    "# Test-Cases\n",
    "assert minmax([1, 2, 3, 4]) == (1, 4)\n",
    "assert minmax([45, -200, -400, 1000]) == (-400, 1000)\n",
    "assert minmax([92, 24, 0, 26, 48, 128, 512]) == (0, 512)\n",
    "print(\"All tests passed.\")"
   ]
  },
  {
   "attachments": {},
   "cell_type": "markdown",
   "metadata": {},
   "source": [
    "4. Write a short Python function that takes a positive integer `n` and returns the sum of the squares of all the positive integers smaller than `n`\n"
   ]
  },
  {
   "cell_type": "code",
   "execution_count": 10,
   "metadata": {},
   "outputs": [],
   "source": [
    "def sum_squares_all(n: int) -> int:\n",
    "    # We only want to check for squares of positive integers smaller than n\n",
    "    n -= 1\n",
    "\n",
    "    # Recursion Base Cases\n",
    "    if n == 1:\n",
    "        return 1\n",
    "    if n <= 0:\n",
    "        return 0\n",
    "\n",
    "    # Recursion toward bases\n",
    "    return n * n + sum_squares_all(n)"
   ]
  },
  {
   "cell_type": "code",
   "execution_count": 11,
   "metadata": {},
   "outputs": [
    {
     "name": "stdout",
     "output_type": "stream",
     "text": [
      "All tests passed.\n"
     ]
    }
   ],
   "source": [
    "# Test-Cases\n",
    "assert (\n",
    "    sum_squares_all(5) == 4 * 4 + 3 * 3 + 2 * 2 + 1 * 1 + 0 * 0\n",
    "), f\"Expect {4*4 + 3*3 + 2*2 + 1*1 + 0*0}, got {sum_squares_all(2)}\"\n",
    "assert (\n",
    "    sum_squares_all(4) == 3 * 3 + 2 * 2 + 1 * 1 + 0 * 0\n",
    "), f\"Expect {3*3 + 2*2 + 1*1 + 0*0}, got {sum_squares_all(2)}\"\n",
    "assert (\n",
    "    sum_squares_all(3) == 2 * 2 + 1 * 1 + 0 * 0\n",
    "), f\"Expect {2*2 + 1*1 + 0*0}, got {sum_squares_all(2)}\"\n",
    "assert (\n",
    "    sum_squares_all(2) == 1 * 1 + 0 * 0\n",
    "), f\"Expect {1*1 + 0*0}, got {sum_squares_all(2)}\"\n",
    "assert sum_squares_all(-10) == 0, f\"Expect 0, got {sum_squares_all(-10)}\"\n",
    "assert sum_squares_all(0) == 0, f\"Expect 0, got {sum_squares_all(0)}\"\n",
    "assert sum_squares_all(1) == 0, f\"Expect 0, got {sum_squares_all(1)}\"\n",
    "print(\"All tests passed.\")"
   ]
  },
  {
   "cell_type": "code",
   "execution_count": 12,
   "metadata": {},
   "outputs": [],
   "source": [
    "def sum_squares_all_iter(n: int) -> int:\n",
    "    # We only want to check for squares of positive integers smaller than n\n",
    "    n -= 1\n",
    "\n",
    "    # Accumulation variable\n",
    "    result: int = 0\n",
    "\n",
    "    # Loop\n",
    "    while n > 0:\n",
    "        result += n * n\n",
    "        n -= 1\n",
    "\n",
    "    return result"
   ]
  },
  {
   "cell_type": "code",
   "execution_count": 13,
   "metadata": {},
   "outputs": [
    {
     "name": "stdout",
     "output_type": "stream",
     "text": [
      "All tests passed.\n"
     ]
    }
   ],
   "source": [
    "# Test-Cases\n",
    "assert (\n",
    "    sum_squares_all_iter(5) == 4 * 4 + 3 * 3 + 2 * 2 + 1 * 1 + 0 * 0\n",
    "), f\"Expect {4*4 + 3*3 + 2*2 + 1*1 + 0*0}, got {sum_squares_all_iter(2)}\"\n",
    "assert (\n",
    "    sum_squares_all_iter(4) == 3 * 3 + 2 * 2 + 1 * 1 + 0 * 0\n",
    "), f\"Expect {3*3 + 2*2 + 1*1 + 0*0}, got {sum_squares_all_iter(2)}\"\n",
    "assert (\n",
    "    sum_squares_all_iter(3) == 2 * 2 + 1 * 1 + 0 * 0\n",
    "), f\"Expect {2*2 + 1*1 + 0*0}, got {sum_squares_all_iter(2)}\"\n",
    "assert (\n",
    "    sum_squares_all_iter(2) == 1 * 1 + 0 * 0\n",
    "), f\"Expect {1*1 + 0*0}, got {sum_squares_all_iter(2)}\"\n",
    "assert sum_squares_all_iter(-10) == 0, f\"Expect 0, got {sum_squares_all_iter(-10)}\"\n",
    "assert sum_squares_all_iter(0) == 0, f\"Expect 0, got {sum_squares_all_iter(0)}\"\n",
    "assert sum_squares_all_iter(1) == 0, f\"Expect 0, got {sum_squares_all_iter(1)}\"\n",
    "print(\"All tests passed.\")"
   ]
  },
  {
   "attachments": {},
   "cell_type": "markdown",
   "metadata": {},
   "source": [
    "5. Give a single command that computes the sum from Exercise 4, relying on Python’s comprehension syntax and the built-in sum function\n"
   ]
  },
  {
   "cell_type": "code",
   "execution_count": 14,
   "metadata": {},
   "outputs": [],
   "source": [
    "def sum_squares_all_short(n: int) -> int:\n",
    "    return sum([x * x for x in range(n)])  # range only work on positive number, else 0"
   ]
  },
  {
   "cell_type": "code",
   "execution_count": 15,
   "metadata": {},
   "outputs": [
    {
     "name": "stdout",
     "output_type": "stream",
     "text": [
      "All tests passed.\n"
     ]
    }
   ],
   "source": [
    "# Test-Cases\n",
    "assert (\n",
    "    sum_squares_all_short(5) == 4 * 4 + 3 * 3 + 2 * 2 + 1 * 1 + 0 * 0\n",
    "), f\"Expect {4*4 + 3*3 + 2*2 + 1*1 + 0*0}, got {sum_squares_all_short(2)}\"\n",
    "assert (\n",
    "    sum_squares_all_short(4) == 3 * 3 + 2 * 2 + 1 * 1 + 0 * 0\n",
    "), f\"Expect {3*3 + 2*2 + 1*1 + 0*0}, got {sum_squares_all_short(2)}\"\n",
    "assert (\n",
    "    sum_squares_all_short(3) == 2 * 2 + 1 * 1 + 0 * 0\n",
    "), f\"Expect {2*2 + 1*1 + 0*0}, got {sum_squares_all_short(2)}\"\n",
    "assert (\n",
    "    sum_squares_all_short(2) == 1 * 1 + 0 * 0\n",
    "), f\"Expect {1*1 + 0*0}, got {sum_squares_all_short(2)}\"\n",
    "assert sum_squares_all_short(-10) == 0, f\"Expect 0, got {sum_squares_all_short(-10)}\"\n",
    "assert sum_squares_all_short(0) == 0, f\"Expect 0, got {sum_squares_all_short(0)}\"\n",
    "assert sum_squares_all_short(1) == 0, f\"Expect 0, got {sum_squares_all_short(1)}\"\n",
    "print(\"All tests passed.\")"
   ]
  },
  {
   "attachments": {},
   "cell_type": "markdown",
   "metadata": {},
   "source": [
    "6. Write a short Python function that takes a positive integer `n` and returns the sum of the squares of all the odd positive integers smaller than `n`\n"
   ]
  },
  {
   "cell_type": "code",
   "execution_count": 16,
   "metadata": {},
   "outputs": [],
   "source": [
    "def sum_squares_odd(n: int) -> int:\n",
    "    # We only want to check for squares of positive integers smaller than n\n",
    "    n -= 1\n",
    "\n",
    "    # Accumulation variable\n",
    "    result: int = 0\n",
    "\n",
    "    # Loop\n",
    "    while n > 0:\n",
    "        if n % 2 != 0:\n",
    "            result += n * n\n",
    "        n -= 1\n",
    "\n",
    "    return result"
   ]
  },
  {
   "cell_type": "code",
   "execution_count": 17,
   "metadata": {},
   "outputs": [
    {
     "name": "stdout",
     "output_type": "stream",
     "text": [
      "All tests passed.\n"
     ]
    }
   ],
   "source": [
    "# Test-Cases\n",
    "assert (\n",
    "    sum_squares_odd(5) == 0 + 3 * 3 + 0 + 1 * 1 + 0 * 0\n",
    "), f\"Expect {0 + 3*3 + 0 + 1*1 + 0*0}, got {sum_squares_all_short(2)}\"\n",
    "assert (\n",
    "    sum_squares_odd(4) == 3 * 3 + 0 + 1 * 1 + 0 * 0\n",
    "), f\"Expect {3*3 + 0 + 1*1 + 0*0}, got {sum_squares_all_short(2)}\"\n",
    "assert (\n",
    "    sum_squares_odd(3) == 0 + 1 * 1 + 0 * 0\n",
    "), f\"Expect {0 + 1*1 + 0*0}, got {sum_squares_all_short(2)}\"\n",
    "assert (\n",
    "    sum_squares_odd(2) == 1 * 1 + 0 * 0\n",
    "), f\"Expect {1*1 + 0*0}, got {sum_squares_all_short(2)}\"\n",
    "print(\"All tests passed.\")"
   ]
  },
  {
   "attachments": {},
   "cell_type": "markdown",
   "metadata": {},
   "source": [
    "7. Give a single command that computes the sum from Exercise 6, relying on Python’s comprehension syntax and the built-in sum function\n"
   ]
  },
  {
   "cell_type": "code",
   "execution_count": 18,
   "metadata": {},
   "outputs": [],
   "source": [
    "def sum_squares_odd_short(n: int) -> int:\n",
    "    return sum([x * x for x in range(n) if x % 2 == 1])"
   ]
  },
  {
   "cell_type": "code",
   "execution_count": 19,
   "metadata": {},
   "outputs": [
    {
     "name": "stdout",
     "output_type": "stream",
     "text": [
      "All tests passed.\n"
     ]
    }
   ],
   "source": [
    "# Test-Cases\n",
    "assert sum_squares_odd_short(5) == 0 + 3 * 3 + 0 + 1 * 1 + 0 * 0\n",
    "assert sum_squares_odd_short(4) == 3 * 3 + 0 + 1 * 1 + 0 * 0\n",
    "assert sum_squares_odd_short(3) == 0 + 1 * 1 + 0 * 0\n",
    "assert sum_squares_odd_short(2) == 1 * 1 + 0 * 0\n",
    "print(\"All tests passed.\")"
   ]
  },
  {
   "attachments": {},
   "cell_type": "markdown",
   "metadata": {},
   "source": [
    "8. Python allows negative integers to be used as indices into a sequence, such as a string. If string `s` has length `n`, and expression `s[k]` is used for index `−n ≤ k < 0`, what is the equivalent index `j ≥ 0` such that `s[j]` references the same element?\n"
   ]
  },
  {
   "attachments": {},
   "cell_type": "markdown",
   "metadata": {},
   "source": [
    "```\n",
    "Response: It would be j = n + k\n",
    "```\n"
   ]
  },
  {
   "cell_type": "code",
   "execution_count": 20,
   "metadata": {},
   "outputs": [
    {
     "name": "stdout",
     "output_type": "stream",
     "text": [
      "True\n"
     ]
    }
   ],
   "source": [
    "# Test-Case\n",
    "s: str = \"abcdefghijklmnopqrstuvwxyz\"\n",
    "n: int = len(s)\n",
    "k: int = -4  # \"w\"\n",
    "j: int = n + k\n",
    "print(s[k] == s[j])"
   ]
  },
  {
   "attachments": {},
   "cell_type": "markdown",
   "metadata": {},
   "source": [
    "9. What parameters should be sent to the range constructor, to produce a range with values `50, 60, 70, 80`?\n"
   ]
  },
  {
   "attachments": {},
   "cell_type": "markdown",
   "metadata": {},
   "source": [
    "```\n",
    "Response: (50, 90, 10)\n",
    "```\n"
   ]
  },
  {
   "cell_type": "code",
   "execution_count": 21,
   "metadata": {},
   "outputs": [
    {
     "name": "stdout",
     "output_type": "stream",
     "text": [
      "[50, 60, 70, 80]\n"
     ]
    }
   ],
   "source": [
    "print([x for x in range(50, 90, 10)])"
   ]
  },
  {
   "attachments": {},
   "cell_type": "markdown",
   "metadata": {},
   "source": [
    "10. What parameters should be sent to the range constructor, to produce a range with values `8, 6, 4, 2, 0, −2, −4, −6, −8`?\n"
   ]
  },
  {
   "attachments": {},
   "cell_type": "markdown",
   "metadata": {},
   "source": [
    "```\n",
    "Response: (8, -10, -2)\n",
    "```\n"
   ]
  },
  {
   "cell_type": "code",
   "execution_count": 22,
   "metadata": {},
   "outputs": [
    {
     "name": "stdout",
     "output_type": "stream",
     "text": [
      "[8, 6, 4, 2, 0, -2, -4, -6, -8]\n"
     ]
    }
   ],
   "source": [
    "print([x for x in range(8, -10, -2)])"
   ]
  },
  {
   "attachments": {},
   "cell_type": "markdown",
   "metadata": {},
   "source": [
    "11. Demonstrate how to use Python's list comprehension syntax to produce the list `[1, 2, 4, 8, 16, 32, 64, 128, 256]`\n"
   ]
  },
  {
   "cell_type": "code",
   "execution_count": 23,
   "metadata": {},
   "outputs": [
    {
     "name": "stdout",
     "output_type": "stream",
     "text": [
      "[1, 2, 4, 8, 16, 32, 64, 128, 256]\n"
     ]
    }
   ],
   "source": [
    "print([2**x for x in range(0, 9)])"
   ]
  },
  {
   "attachments": {},
   "cell_type": "markdown",
   "metadata": {},
   "source": [
    "12. Python's `random` module includes a function `choice(data)` that returns a random element from a non-empty sequence. The random module includes a more basic function `randrange`, with parameterization similar to the built-in `range` function, that return a random choice from the given range. Using only the `randrange` function, implement your own version of the choice function\n"
   ]
  },
  {
   "cell_type": "code",
   "execution_count": 24,
   "metadata": {},
   "outputs": [
    {
     "name": "stdout",
     "output_type": "stream",
     "text": [
      "choice: 10\n",
      "choice_randrange: 2\n"
     ]
    }
   ],
   "source": [
    "from typing import Sequence, TypeVar\n",
    "from random import choice, randrange\n",
    "\n",
    "TChoiceRandRange = TypeVar(\"TChoiceRandRange\", int, float, bool, str, object)\n",
    "\n",
    "print(\"choice:\", choice([2, 4, 6, 8, 10]))\n",
    "\n",
    "\n",
    "def choice_randrange(lst: Sequence[TChoiceRandRange]) -> TChoiceRandRange:\n",
    "    return lst[randrange(len(lst))]\n",
    "\n",
    "\n",
    "print(\"choice_randrange:\", choice_randrange([2, 4, 6, 8, 10]))"
   ]
  },
  {
   "attachments": {},
   "cell_type": "markdown",
   "metadata": {},
   "source": [
    "## <a id='toc2_'></a>Creativity [&#8593;](#toc0_)\n"
   ]
  },
  {
   "attachments": {},
   "cell_type": "markdown",
   "metadata": {},
   "source": [
    "13. Write a pseudo-code description of a function that reverses a list of `n` integers, so that the numbers are listed in the opposite order than they were before, and compare this method to an equivalent Python function for doing the same thing.\n"
   ]
  },
  {
   "attachments": {},
   "cell_type": "markdown",
   "metadata": {},
   "source": [
    "14. Write a short Python function that takes a sequence of integer values and determines if there is a distinct pair of numbers in the sequence whose product is odd.\n"
   ]
  },
  {
   "attachments": {},
   "cell_type": "markdown",
   "metadata": {},
   "source": [
    "15. Write a Python function that takes a sequence of numbers and determines if all the numbers are different from each other (that is, they are distinct).\n"
   ]
  },
  {
   "attachments": {},
   "cell_type": "markdown",
   "metadata": {},
   "source": [
    "16. In our implementation of the `scale` function below, the body of the loop executes the command `data[j] = factor`. We have discussed that numeric types are immutable, and that use of the `=` operator in this context causes the creation of a new instance (not the mutation of an existing instance). How is it still possible, then, that our implementation of scale changes the actual parameter sent by the caller?\n"
   ]
  },
  {
   "attachments": {},
   "cell_type": "markdown",
   "metadata": {},
   "source": [
    "```py\n",
    "    def scale(data, factor):\n",
    "        for j in range(len(data)):\n",
    "            data[j] = factor\n",
    "```\n"
   ]
  },
  {
   "attachments": {},
   "cell_type": "markdown",
   "metadata": {},
   "source": [
    "17. Had we implemented the `scale` function as follows, does it work properly? Explain why or why not.\n"
   ]
  },
  {
   "attachments": {},
   "cell_type": "markdown",
   "metadata": {},
   "source": [
    "```py\n",
    "    def scale(data, factor):\n",
    "        for val in data:\n",
    "            val = factor\n",
    "```\n"
   ]
  },
  {
   "attachments": {},
   "cell_type": "markdown",
   "metadata": {},
   "source": [
    "18. Demonstrate how to use Python's list comprehension syntax to produce the list: `[0, 2, 6, 12, 20, 30, 42, 56, 72, 90]`.\n"
   ]
  },
  {
   "attachments": {},
   "cell_type": "markdown",
   "metadata": {},
   "source": [
    "19. Demonstrate how to use Python's list comprehension syntax to produce the list `['a', 'b', 'c', ..., 'z']`, but without having to type all 26 such characters literally.\n"
   ]
  },
  {
   "attachments": {},
   "cell_type": "markdown",
   "metadata": {},
   "source": [
    "20. Python's `random` module includes a function `shuffle(data)` that accepts a list of elements and randomly reorders the elements so that each possible order occurs with equal probability. The `random` module includes a more basic function `randint(a, b)` that returns a uniformly random integer from `a` to `b` (including both endpoints). Using only the `randint` function, implement your own version of the `shuffle` function.\n"
   ]
  },
  {
   "attachments": {},
   "cell_type": "markdown",
   "metadata": {},
   "source": [
    "21. Write a Python program that repeatedly reads lines from standard input until an `EOFError` is raised, and then outputs those lines in reverse order (a user can indicate end of input by typing CTRL+D).\n"
   ]
  },
  {
   "attachments": {},
   "cell_type": "markdown",
   "metadata": {},
   "source": [
    "22. Write a short Python program that takes two arrays `a` and `b` of length `n` storing `int` values, and returns the dot-product of `a` and `b`. That is, it returns an array `c` of length `n` such that $c[i] = a[i] · b[i]$, for $i = 0, ...,n−1$.\n"
   ]
  },
  {
   "attachments": {},
   "cell_type": "markdown",
   "metadata": {},
   "source": [
    "23. Give an example of a Python code fragment that attempts to write an element to a list based on an index that may be out of bounds. If that index is out of bounds, the program should catch the exception that results, and\n",
    "    print the following error message: `Don't try buffer overflow attacks in Python!`\n"
   ]
  },
  {
   "attachments": {},
   "cell_type": "markdown",
   "metadata": {},
   "source": [
    "24. Write a short Python function that counts the number of vowels in a given character string.\n"
   ]
  },
  {
   "attachments": {},
   "cell_type": "markdown",
   "metadata": {},
   "source": [
    "25. Write a short Python function that takes a string `s`, representing a sentence, and returns a copy of the string with all punctuation removed. For example, if given the string `\"Let s try, Mike.\"`, this function would return\n",
    "    `\"Lets try Mike\"`.\n"
   ]
  },
  {
   "attachments": {},
   "cell_type": "markdown",
   "metadata": {},
   "source": [
    "26. Write a short program that takes as input three integers, `a`, `b`, and `c`, from the console and determines if they can be used in a correct arithmetic formula (in the given order), like $\"a+b = c,\"$ $\"a = b−c,\"$ or $\"a ∗ b = c.\"$\n"
   ]
  },
  {
   "attachments": {},
   "cell_type": "markdown",
   "metadata": {},
   "source": [
    "27. Below are three different implementations of a generator that computes factors of a given integer. The third of those implementations is the most efficient, but we note that it does not yield the factors in increasing order. Modify the generator so that it reports factors in increasing order, while maintaining its general performance advantages.\n"
   ]
  },
  {
   "attachments": {},
   "cell_type": "markdown",
   "metadata": {},
   "source": [
    "```py\n",
    "    def factors(n):\n",
    "        results = []\n",
    "        for k in range(1, n + 1):\n",
    "            if n % k == 0:\n",
    "                results.append(k)\n",
    "        return results\n",
    "\n",
    "\n",
    "    def factors_gen(n):\n",
    "        for k in range(1, n + 1):\n",
    "            if n % k == 0:\n",
    "                yield k\n",
    "\n",
    "\n",
    "    def factors(n):\n",
    "        k = 1\n",
    "        while k * k < n:  # while k < sqrt(n)\n",
    "            if n % k == 0:\n",
    "                yield k\n",
    "                yield n // k\n",
    "            k += 1\n",
    "        if k * k == n:  # special case if n is perfect square\n",
    "            yield k\n",
    "```\n"
   ]
  },
  {
   "attachments": {},
   "cell_type": "markdown",
   "metadata": {},
   "source": [
    "28. The $p$-norm of a vector $v = (v_1,v_2, . . . ,v_n)$ in $n$-dimensional space is defined as\n",
    "\n",
    "$$\\lvert\\lvert x \\rvert\\rvert = \\sqrt[p]{v_1^p + v_2^p + ... + v_n^p}$$\n",
    "\n",
    "For the special case of $p = 2$, this results in the traditional Euclidean norm, which represents the length of the vector. For example, the Euclidean norm of a two-dimensional vector with coordinates $(4,3)$ has a Euclidean norm of\n",
    "$\\sqrt{42+32} = \\sqrt{16+9} = \\sqrt{25} = 5$. Give an implementation of a function named `norm` such that `norm(v, p)` returns the $p$-norm value of `v` and `norm(v)` returns the Euclidean norm of `v`. You may assume that `v` is a list of numbers.\n"
   ]
  },
  {
   "attachments": {},
   "cell_type": "markdown",
   "metadata": {},
   "source": [
    "29. Write a Python program that outputs all possible strings formed by using the characters `c`, `a`, `t`, `d`, `o`, and `g` exactly once.\n"
   ]
  },
  {
   "attachments": {},
   "cell_type": "markdown",
   "metadata": {},
   "source": [
    "30. Write a Python program that can take a positive integer greater than 2 as input and write out the number of times one must repeatedly divide this number by 2 before getting a value less than 2.\n"
   ]
  },
  {
   "attachments": {},
   "cell_type": "markdown",
   "metadata": {},
   "source": [
    "31. Write a Python program that can \"make change.\" Your program should take two numbers as input, one that is a monetary amount charged and the other that is a monetary amount given. It should then return the number of each kind of bill and coin to give back as change for the difference between the amount given and the amount charged. The values assigned to the bills and coins can be based on the monetary system of any current or former government. Try to design your program so that it returns as few bills and coins as possible.\n"
   ]
  },
  {
   "attachments": {},
   "cell_type": "markdown",
   "metadata": {},
   "source": [
    "32. Write a Python program that can simulate a simple calculator, using the console as the exclusive input and output device. That is, each input to the calculator, be it a number, like `12.34` or `1034`, or an operator, like `+` or `=`, can be done on a separate line. After each such input, you should output to the Python console what would be displayed on your calculator.\n"
   ]
  },
  {
   "attachments": {},
   "cell_type": "markdown",
   "metadata": {},
   "source": [
    "33. Write a Python program that simulates a handheld calculator. Your program should process input from the Python console representing buttons that are \"pushed,\" and then output the contents of the screen after each operation\n",
    "    is performed. Minimally, your calculator should be able to process the basic arithmetic operations and a reset/clear operation.\n"
   ]
  },
  {
   "attachments": {},
   "cell_type": "markdown",
   "metadata": {},
   "source": [
    "34. A common punishment for school children is to write out a sentence multiple times. Write a Python stand-alone program that will write out the following sentence one hundred times: _\"I will never spam my friends\n",
    "    again.\"_ Your program should number each of the sentences and it should make eight different random-looking typos.\n"
   ]
  },
  {
   "attachments": {},
   "cell_type": "markdown",
   "metadata": {},
   "source": [
    "35. The _birthday paradox_ says that the probability that two people in a room will have the same birthday is more than half, provided `n`, the number of people in the room, is more than 23. This property is not really a paradox,\n",
    "    but many people find it surprising. Design a Python program that can test this paradox by a series of experiments on randomly generated birthdays, which test this paradox for $n = 5,10,15,20, . . . ,100$.\n"
   ]
  },
  {
   "attachments": {},
   "cell_type": "markdown",
   "metadata": {},
   "source": [
    "36. Write a Python program that inputs a list of words, separated by whitespace, and outputs how many times each word appears in the list. You need not worry about efficiency at this point.\n"
   ]
  }
 ],
 "metadata": {
  "kernelspec": {
   "display_name": "learn_dsa",
   "language": "python",
   "name": "python3"
  },
  "language_info": {
   "codemirror_mode": {
    "name": "ipython",
    "version": 3
   },
   "file_extension": ".py",
   "mimetype": "text/x-python",
   "name": "python",
   "nbconvert_exporter": "python",
   "pygments_lexer": "ipython3",
   "version": "3.12.7"
  },
  "orig_nbformat": 4
 },
 "nbformat": 4,
 "nbformat_minor": 2
}
