{
 "cells": [
  {
   "cell_type": "markdown",
   "metadata": {},
   "source": [
    "# Python Primer\n",
    "\n",
    "---\n"
   ]
  },
  {
   "cell_type": "markdown",
   "metadata": {},
   "source": [
    "**Table of contents**<a id='toc0_'></a>\n",
    "\n",
    "-   [Python Interpreter ](#toc1_)\n",
    "-   [Preview of a Python Program ](#toc2_)\n",
    "-   [Objects In Python ](#toc3_)\n",
    "    -   [Assignment Statement ](#toc3_1_)\n",
    "    -   [Identifiers ](#toc3_2_)\n",
    "    -   [Creating and Using Objects ](#toc3_3_)\n",
    "    -   [Python's Built-in Classes ](#toc3_4_)\n",
    "        -   [Most Used Built-in Classes ](#toc3_4_1_)\n",
    "        -   [Other Built-In Classes ](#toc3_4_2_)\n",
    "        -   [`bool` ](#toc3_4_3_)\n",
    "        -   [`int` ](#toc3_4_4_)\n",
    "        -   [`float` ](#toc3_4_5_)\n",
    "        -   [Sequence Types: `list`, `tuple`, `str` ](#toc3_4_6_)\n",
    "            -   [`list` ](#toc3_4_6_1_)\n",
    "        -   [`tuple` ](#toc3_4_7_)\n",
    "        -   [`str` ](#toc3_4_8_)\n",
    "        -   [`set` ](#toc3_4_9_)\n",
    "        -   [`frozenset` ](#toc3_4_10_)\n",
    "        -   [`dict` ](#toc3_4_11_)\n",
    "-   [Expressions and Operators ](#toc4_)\n",
    "    -   [Logical Operators ](#toc4_1_)\n",
    "    -   [Equality Operators ](#toc4_2_)\n",
    "    -   [Comparison Operators ](#toc4_3_)\n",
    "    -   [Arithmetic Operators ](#toc4_4_)\n",
    "    -   [Bitwise Operators ](#toc4_5_)\n",
    "    -   [Sequence Operators ](#toc4_6_)\n",
    "    -   [Set and Dictionary Operators ](#toc4_7_)\n",
    "    -   [Extended Assignment Operators ](#toc4_8_)\n",
    "    -   [Compound Expressions ](#toc4_9_)\n",
    "    -   [Operator Precedence ](#toc4_10_)\n",
    "-   [Control Flow ](#toc5_)\n",
    "    -   [Conditionals: `if`-Statement and `match`-Statement ](#toc5_1_)\n",
    "    -   [Loops ](#toc5_2_)\n",
    "        -   [`while` Loop ](#toc5_2_1_)\n",
    "        -   [`for` Loop ](#toc5_2_2_)\n",
    "        -   [Index-Based `for` Loop ](#toc5_2_3_)\n",
    "        -   [`break` and `continue` ](#toc5_2_4_)\n",
    "-   [Functions ](#toc6_)\n",
    "    -   [`return` Statement ](#toc6_1_)\n",
    "    -   [Information Passing ](#toc6_2_)\n",
    "        -   [Mutable Parameters ](#toc6_2_1_)\n",
    "        -   [Default Parameters ](#toc6_2_2_)\n",
    "        -   [Keyword Parameters ](#toc6_2_3_)\n",
    "        -   [Positional-Only vs Keyword-Only Parameters](#toc6_2_4_)\n",
    "    -   [Python's Built-In Functions ](#toc6_3_)\n",
    "-   [Input/Output ](#toc7_)\n",
    "    -   [`print()` Function ](#toc7_1_)\n",
    "    -   [`input()` Function ](#toc7_2_)\n",
    "    -   [Files ](#toc7_3_)\n",
    "        -   [Read From Files ](#toc7_3_1_)\n",
    "        -   [Write To Files ](#toc7_3_2_)\n",
    "-   [Exception Handling ](#toc8_)\n",
    "    -   [Common Exception Types ](#toc8_1_)\n",
    "    -   [Raising an Exception ](#toc8_2_)\n",
    "    -   [Catching an Exception ](#toc8_3_)\n",
    "-   [Iterators and Generators ](#toc9_)\n",
    "    -   [Iterators ](#toc9_1_)\n",
    "    -   [Generators ](#toc9_2_)\n",
    "-   [Additional Python Conveniences ](#toc10_)\n",
    "    -   [Conditional Expressions ](#toc10_1_)\n",
    "    -   [Comprehension Expressions ](#toc10_2_)\n",
    "        -   [List Comprehension ](#toc10_2_1_)\n",
    "        -   [Other Comprehensions ](#toc10_2_2_)\n",
    "    -   [Packing and Unpacking Expressions ](#toc10_3_)\n",
    "        -   [Simultaneous Assignments ](#toc10_3_1_)\n",
    "-   [Scopes and Namespaces ](#toc11_)\n",
    "    -   [First-Class Objects ](#toc11_1_)\n",
    "-   [Modules and Imports ](#toc12_)\n",
    "    -   [Creating a New Module ](#toc12_1_)\n",
    "    -   [Existing Modules ](#toc12_2_)\n",
    "        -   [Pseudo Random Number Generation ](#toc12_2_1_)\n",
    "\n",
    "<!-- vscode-jupyter-toc-config\n",
    "\tnumbering=false\n",
    "\tanchor=true\n",
    "\tflat=false\n",
    "\tminLevel=2\n",
    "\tmaxLevel=6\n",
    "\t/vscode-jupyter-toc-config -->\n",
    "<!-- THIS CELL WILL BE REPLACED ON TOC UPDATE. DO NOT WRITE YOUR TEXT IN THIS CELL -->\n"
   ]
  },
  {
   "attachments": {},
   "cell_type": "markdown",
   "metadata": {},
   "source": [
    "---\n"
   ]
  },
  {
   "attachments": {},
   "cell_type": "markdown",
   "metadata": {},
   "source": [
    "-   Building data structures and algorithms requires implementation in a language\n",
    "    -   To communicate to the computer\n",
    "-   We can use a high-level language such as Python\n",
    "    -   Developed by Guido Van Rossum in 1990s\n",
    "    -   Prominently used language in education and industry\n",
    "    -   Interpreted\n",
    "    -   High-level\n",
    "    -   Object-Oriented\n",
    "    -   Python 2: Released in 2000 (Discontinued since 2.7)\n",
    "    -   Python 3: Released in 2008 (Current as of 3.12)\n",
    "    -   There are significant incompatibilities between Python 2 and Python 3\n"
   ]
  },
  {
   "cell_type": "markdown",
   "metadata": {},
   "source": [
    "## <a id='toc1_'></a>Python Interpreter [&#8593;](#toc0_)\n"
   ]
  },
  {
   "attachments": {},
   "cell_type": "markdown",
   "metadata": {},
   "source": [
    "-   Python is an interpreted language\n",
    "-   _Python Interpreter_\n",
    "    -   A software that executes the commands written in Python\n",
    "    -   Receives a command\n",
    "    -   Evaluates the command\n",
    "    -   Returns the result\n",
    "-   Can be used interactively or with a complete source code/scripts of `.py` files\n",
    "-   Command Line: `$> python script.py`\n",
    "-   Many IDEs provide richer development experience\n",
    "    -   [VSCode](https://code.visualstudio.com/)\n",
    "    -   [PyCharm](https://www.jetbrains.com/pycharm/)\n",
    "    -   [JupyterLab](https://jupyterlab.readthedocs.io/en/latest/)\n",
    "    -   [Visual Studio](https://visualstudio.microsoft.com/)\n",
    "    -   [Komodo](https://www.activestate.com/products/komodo-ide/)\n",
    "    -   [Lapce](https://lapce.dev/)\n",
    "    -   [Vim](https://www.vim.org/)\n",
    "    -   [Neovim](https://neovim.io/)\n"
   ]
  },
  {
   "cell_type": "markdown",
   "metadata": {},
   "source": [
    "## <a id='toc2_'></a>Preview of a Python Program [&#8593;](#toc0_)\n"
   ]
  },
  {
   "attachments": {},
   "cell_type": "markdown",
   "metadata": {},
   "source": [
    "-   Syntax\n",
    "    -   Heavy use of whitespaces\n",
    "-   Newline\n",
    "    -   Marks the end of a statement\n",
    "    -   Use `\\` to continue to next line\n",
    "-   Indentation\n",
    "    -   Delimits a block of codes and nesting\n",
    "-   Line Comments\n",
    "    -   Starts with `#`\n",
    "-   Block Comments\n",
    "    -   Can be in-between `\"\"\"` or `'''`\n",
    "    -   Mostly used for documentation\n"
   ]
  },
  {
   "cell_type": "code",
   "execution_count": 1,
   "metadata": {},
   "outputs": [
    {
     "name": "stdout",
     "output_type": "stream",
     "text": [
      "--- Welcome to the GPA Calculator ---\n",
      "-------------------------------------\n",
      "Please enter all your letter grades, one per line.\n",
      "Enter a blank line to designate the end.\n",
      "- Total count of courses: 4\n",
      "- Final GPA: 3.5\n"
     ]
    }
   ],
   "source": [
    "\"\"\"\n",
    "Module: gpa.py\n",
    "This program computes a student's GPA based on letter grades entered by a user.\n",
    "\"\"\"\n",
    "\n",
    "# IMPORT MODULES\n",
    "# --------------\n",
    "from typing import Final, TypeAlias\n",
    "\n",
    "# TYPE ALIASES\n",
    "# ------------\n",
    "GradeMap: TypeAlias = dict[str, float]\n",
    "\n",
    "# CONSTANTS\n",
    "# ---------\n",
    "# Map of letter grades to point values\n",
    "POINTS: Final[GradeMap] = {\n",
    "    \"A+\": 4.0,\n",
    "    \"A\": 4.0,\n",
    "    \"A-\": 3.67,\n",
    "    \"B+\": 3.33,\n",
    "    \"B\": 3.0,\n",
    "    \"B-\": 2.67,\n",
    "    \"C+\": 2.33,\n",
    "    \"C\": 2.0,\n",
    "    \"C-\": 1.67,\n",
    "    \"D+\": 1.33,\n",
    "    \"D\": 1.0,\n",
    "    \"F\": 0.0,\n",
    "}\n",
    "\n",
    "# VARIABLES\n",
    "# ---------\n",
    "num_courses: int = 0\n",
    "total_points: float = 0\n",
    "grade: str = \"\"\n",
    "\n",
    "# Print welcome and instructions\n",
    "print(\"--- Welcome to the GPA Calculator ---\")\n",
    "print(\"-------------------------------------\")\n",
    "print(\"Please enter all your letter grades, one per line.\")\n",
    "print(\"Enter a blank line to designate the end.\")\n",
    "\n",
    "# Loop to get user inputs\n",
    "while True:\n",
    "    # Read line from user\n",
    "    grade = input(\"Enter the next grade or leave empty if done:\").strip()\n",
    "\n",
    "    # Handle when empty line is entered\n",
    "    if grade == \"\":\n",
    "        break\n",
    "\n",
    "    # Handle when unrecognized grade is entered\n",
    "    elif grade not in POINTS:\n",
    "        print(f\"Unknown grade '{grade}': It will be skipped and ignored.\")\n",
    "\n",
    "    # For all other cases\n",
    "    else:\n",
    "        num_courses += 1\n",
    "        total_points += POINTS[grade]\n",
    "\n",
    "# Calculate GPA: Avoid division by zero\n",
    "if num_courses > 0:\n",
    "    print(f\"- Total count of courses: {num_courses}\")\n",
    "    print(f\"- Final GPA: {total_points / num_courses:.3}\")"
   ]
  },
  {
   "cell_type": "markdown",
   "metadata": {},
   "source": [
    "## <a id='toc3_'></a>Objects In Python [&#8593;](#toc0_)\n"
   ]
  },
  {
   "attachments": {},
   "cell_type": "markdown",
   "metadata": {},
   "source": [
    "-   **Python is an Object-Oriented language**\n",
    "-   _Classes_\n",
    "    -   The basis of all data types\n",
    "    -   Python Object Model\n",
    "    -   Python Built-In Classes: `int`, `float`, `bool`, `str`...\n",
    "-   _Accessor Methods_\n",
    "    -   Return information about the state of an object\n",
    "    -   Do not change the state of the object\n",
    "-   _Mutator Methods_\n",
    "    -   Change the state of the object\n"
   ]
  },
  {
   "cell_type": "markdown",
   "metadata": {},
   "source": [
    "### <a id='toc3_1_'></a>Assignment Statement [&#8593;](#toc0_)\n"
   ]
  },
  {
   "attachments": {},
   "cell_type": "markdown",
   "metadata": {},
   "source": [
    "-   Establish a name as an identifier\n",
    "-   Associate the identifier with an object value\n",
    "    -   _The identifier references an instance of the object value in memory_\n",
    "-   Optionally, we can declare the associated data type\n",
    "    -   Only type-hints in actual Python\n",
    "    -   However, we can use static-type checker like [mypy](https://mypy-lang.org/) to enforce static type of variables\n",
    "-   **When using type-hints, we can declare a variable before assigning**\n",
    "    -   However, using the variable without assigning will result in `NameError`\n"
   ]
  },
  {
   "cell_type": "code",
   "execution_count": 2,
   "metadata": {},
   "outputs": [
    {
     "name": "stdout",
     "output_type": "stream",
     "text": [
      "age = 38\n",
      "name = 'John'\n",
      "is_alive = True\n"
     ]
    }
   ],
   "source": [
    "# Declaring\n",
    "# ---------\n",
    "# Possible when using Type-Hints\n",
    "# But using these without assigning first results in `NameError`\n",
    "age: int\n",
    "name: str\n",
    "\n",
    "# Assigning\n",
    "# ---------\n",
    "# Without Type-Hints, this would be the same as Declaring and Assigning\n",
    "age = 38\n",
    "# age points to --> In Memory Value: {type: int, value: 38}\n",
    "name = \"John\"\n",
    "# name points to --> In Memory Value: {type: str, value: John}\n",
    "\n",
    "# Declaring and Assigning\n",
    "# -----------------------\n",
    "is_alive: bool = True\n",
    "# is_alive points to --> In Memory Value: {type: bool, value: True}\n",
    "\n",
    "print(f\"{age = }\")\n",
    "print(f\"{name = }\")\n",
    "print(f\"{is_alive = }\")"
   ]
  },
  {
   "cell_type": "markdown",
   "metadata": {},
   "source": [
    "### <a id='toc3_2_'></a>Identifiers [&#8593;](#toc0_)\n"
   ]
  },
  {
   "attachments": {},
   "cell_type": "markdown",
   "metadata": {},
   "source": [
    "-   Case-sensitive\n",
    "-   Any combination of _letters_, _numbers_, `_`, or _Unicode characters_\n",
    "    -   Cannot begin with numbers\n",
    "    -   Cannot be any of Python's _keywords_\n",
    "-   **Technically, Python does not have _Constants_**\n",
    "    -   By convention, all-uppercase identifiers are considered _Constants_\n",
    "    -   All-lowercase identifiers are considered _Variables_\n",
    "    -   Capitalized words are considered _Class Names_\n",
    "    -   **Using [mypy](https://mypy-lang.org/) typings, constants are typed with the `Final` keyword**\n"
   ]
  },
  {
   "cell_type": "code",
   "execution_count": 3,
   "metadata": {},
   "outputs": [
    {
     "name": "stdout",
     "output_type": "stream",
     "text": [
      "There are 35 Keywords in Python 3.12.3:\n",
      "and | as | assert | async | await | break | class | continue | def | del | elif | else | except | False | finally | for | from | global | if | import | in | is | lambda | None | nonlocal | not | or | pass | raise | return | True | try | while | with | yield\n"
     ]
    }
   ],
   "source": [
    "\"\"\"\n",
    "Module: py_keywords.py\n",
    "This program lists all the keywords in a Python version.\n",
    "\"\"\"\n",
    "\n",
    "# IMPORT MODULES\n",
    "# --------------\n",
    "from keyword import kwlist\n",
    "from platform import python_version\n",
    "from typing import Final, List, Tuple, TypeAlias\n",
    "\n",
    "# TYPE ALIASES\n",
    "# ------------\n",
    "LowerCaseKwd: TypeAlias = Tuple[str, str]\n",
    "Kwd: TypeAlias = str\n",
    "\n",
    "# CONSTANTS\n",
    "# ---------\n",
    "LOWERED_KWS: Final[List[LowerCaseKwd]] = list(map(lambda kw: (kw, kw.lower()), kwlist))\n",
    "SORTED_LOWERED_KWS: Final[List[LowerCaseKwd]] = sorted(\n",
    "    LOWERED_KWS, key=lambda tup: tup[1]\n",
    ")\n",
    "SORTED_KWS: Final[List[Kwd]] = [kw for (kw, _) in SORTED_LOWERED_KWS]\n",
    "\n",
    "# Print the summary\n",
    "print(f\"There are {len(SORTED_KWS)} Keywords in Python {python_version()}:\")\n",
    "\n",
    "# Print the list of keywords\n",
    "print(\" | \".join(SORTED_KWS))"
   ]
  },
  {
   "attachments": {},
   "cell_type": "markdown",
   "metadata": {},
   "source": [
    "-   Similar semantics to other C-based languages (_References_, _Pointers_)\n",
    "    -   **Each identifier is implicitly associated with a _Memory Address_ of the object value**\n",
    "    -   `None` = Special object that points to a `NULL` Reference\n",
    "-   _Dynamically Typed_\n",
    "    -   No advanced declaration of identifer and associated data type is required\n",
    "    -   However, we can use `mypy` to specify variable types and enforce types\n",
    "    -   Identifiers can be reassigned _different types_ of values at any time, except when using `mypy`\n",
    "    -   **But the actual object/value to which it refers to always has a type**\n",
    "    -   **It is possible to use static-types and `final`-constants with `mypy`**\n",
    "\n",
    "```py\n",
    "num: int = 32\n",
    "# In Memory: num = 0x24fd1a --> { type: int, value: 32 }\n",
    "```\n",
    "\n",
    "-   _Identifier Alias_\n",
    "    -   Can be established by assigning an existing identifier to a new one\n",
    "    -   Both identifiers would refer/point to the same object value in memory\n",
    "    -   Either identifier can be used to refer to the same object in memory\n",
    "    -   _Changing one identifier will affect the other because the underlying value is changed_\n",
    "    -   **Reassigning a new value to an alias breaks the alias because the identifier would point to a different value in memory (assigned a different address)**\n",
    "\n",
    "```py\n",
    "num: int = 32\n",
    "# In Memory: num = 0x24fd1a --> { type: int, value: 32 }\n",
    "num_alias = num\n",
    "# In Memory: num_alias = 0x24fd1a --> { type: int, value: 32 }\n",
    "num_alias = 460\n",
    "# In Memory: num_alias = 0xaf432c --> { type: int, value: 460 }\n",
    "```\n"
   ]
  },
  {
   "cell_type": "code",
   "execution_count": 4,
   "metadata": {},
   "outputs": [
    {
     "name": "stdout",
     "output_type": "stream",
     "text": [
      "ACTUAL_TEMP = 98.5\n",
      "today_temp = 98.5\n",
      "Changing today_temp: 103.5\n",
      "ACTUAL_TEMP = 98.5\n"
     ]
    }
   ],
   "source": [
    "# IMPORT MODULES\n",
    "# --------------\n",
    "from typing import Final\n",
    "\n",
    "# This is an identifier that points to the value 98.5 in memory\n",
    "ACTUAL_TEMP: Final[float] = 98.5\n",
    "print(f\"{ACTUAL_TEMP = }\")\n",
    "# In_Memory: ACTUAL_TEMP = 0xe2d4a1 --> { type: float, value: 98.5 }\n",
    "\n",
    "# This is an alias that points to the same value 98.5 in memory\n",
    "today_temp: float = ACTUAL_TEMP\n",
    "print(f\"{today_temp = }\")\n",
    "# In_Memory: today_temp = 0xe2d4a1 --> { type: float, value: 98.5 }\n",
    "\n",
    "# Reassigning a new value to an alias breaks the alias\n",
    "# because it would then point to a different value in memory\n",
    "today_temp = today_temp + 5\n",
    "print(\"Changing today_temp:\", today_temp)\n",
    "print(f\"{ACTUAL_TEMP = }\")\n",
    "# In_Memory: today_temp = 0xffe321 --> { type: float, value: 103.5 }\n",
    "# In_Memory: ACTUAL_TEMP = 0xe2d4a1 --> { type: float, value: 98.5 }"
   ]
  },
  {
   "cell_type": "markdown",
   "metadata": {},
   "source": [
    "### <a id='toc3_3_'></a>Creating and Using Objects [&#8593;](#toc0_)\n"
   ]
  },
  {
   "attachments": {},
   "cell_type": "markdown",
   "metadata": {},
   "source": [
    "-   _Instantiation_\n",
    "    -   Process of creating a new object\n",
    "    -   In general, invoke the object's _Constructor_ function\n",
    "\n",
    "```py\n",
    "# Example of calling an object's constructor\n",
    "weather_widget: Widget = Widget(\"Weather Widget\")\n",
    "```\n",
    "\n",
    "-   Many Python Built-in classes also support _Literal_ forms of instantiation\n"
   ]
  },
  {
   "cell_type": "code",
   "execution_count": 5,
   "metadata": {},
   "outputs": [
    {
     "name": "stdout",
     "output_type": "stream",
     "text": [
      "AGE = 36\n",
      "GREETINGS = 'Greetings, Peasants!'\n",
      "EMPLOYEE = {'first_name': 'John', 'last_name': 'Smith', 'dob': '1970-01-01', 'is_active': True, 'lucky_number': 11}\n"
     ]
    }
   ],
   "source": [
    "# IMPORT MODULES\n",
    "# --------------\n",
    "from typing import Final, TypeAlias\n",
    "\n",
    "# TYPE ALIASES\n",
    "# ------------\n",
    "Employee: TypeAlias = dict[str, str | int | bool]\n",
    "\n",
    "# CONSTANTS\n",
    "# ---------\n",
    "# Literal form of instantiating an integer\n",
    "AGE: Final[int] = 36\n",
    "\n",
    "# Literal form of instantiating a string\n",
    "GREETINGS: Final[str] = \"Greetings, Peasants!\"\n",
    "\n",
    "# Literal form of instantiating a dictionary\n",
    "EMPLOYEE: Final[Employee] = {\n",
    "    \"first_name\": \"John\",\n",
    "    \"last_name\": \"Smith\",\n",
    "    \"dob\": \"1970-01-01\",\n",
    "    \"is_active\": True,\n",
    "    \"lucky_number\": 11,\n",
    "}\n",
    "\n",
    "# Showing result\n",
    "print(f\"{AGE = }\")\n",
    "print(f\"{GREETINGS = }\")\n",
    "print(f\"{EMPLOYEE = }\")"
   ]
  },
  {
   "cell_type": "markdown",
   "metadata": {},
   "source": [
    "-   We can also instantiate a class indirectly\n",
    "    -   Some built-in functions creates and return instances\n",
    "    -   E.g. `sorted()` creates and returns a `list` (Pure function)\n"
   ]
  },
  {
   "cell_type": "code",
   "execution_count": 6,
   "metadata": {},
   "outputs": [
    {
     "name": "stdout",
     "output_type": "stream",
     "text": [
      "some_str = 'Hello my friend!'\n",
      "list_str = [' ', ' ', '!', 'H', 'd', 'e', 'e', 'f', 'i', 'l', 'l', 'm', 'n', 'o', 'r', 'y']\n"
     ]
    }
   ],
   "source": [
    "# IMPORT MODULES\n",
    "# --------------\n",
    "from typing import List\n",
    "\n",
    "# Example of a string\n",
    "some_str: str = \"Hello my friend!\"\n",
    "\n",
    "# We can sort the letters in the string using sorted()\n",
    "# By doing so, we get back a new list instead\n",
    "list_str: List[str] = sorted(some_str)\n",
    "\n",
    "# The original argument (some_str) is left untouched\n",
    "print(f\"{some_str = }\")\n",
    "\n",
    "# sorted() creates and return a new list\n",
    "print(f\"{list_str = }\")"
   ]
  },
  {
   "cell_type": "markdown",
   "metadata": {},
   "source": [
    "-   Python supports traditional functions\n",
    "-   Classes can also define their own _Methods_/_Member Functions_\n",
    "    -   Invoked specifically on the instance objects using the `.` operator\n"
   ]
  },
  {
   "cell_type": "code",
   "execution_count": 7,
   "metadata": {},
   "outputs": [
    {
     "name": "stdout",
     "output_type": "stream",
     "text": [
      "list_int = [-300, -1, 4, 30, 34, 67, 255]\n"
     ]
    }
   ],
   "source": [
    "# IMPORT MODULES\n",
    "# --------------\n",
    "from typing import List\n",
    "\n",
    "# Example of a list\n",
    "list_int: List[int] = [34, 67, 4, -1, 30, 255, -300]\n",
    "\n",
    "# Calling a list method\n",
    "# Unlike sorted(), this does not return a new list but transforms the list itself\n",
    "list_int.sort()\n",
    "\n",
    "# Showing the list after being sorted\n",
    "print(f\"{list_int = }\")"
   ]
  },
  {
   "cell_type": "markdown",
   "metadata": {},
   "source": [
    "-   Methods can also be chained\n",
    "-   **For immutable types, each method call returns a new instance**\n"
   ]
  },
  {
   "cell_type": "code",
   "execution_count": 8,
   "metadata": {},
   "outputs": [
    {
     "name": "stdout",
     "output_type": "stream",
     "text": [
      "HELLO.capitalize().startswith('h') = False\n"
     ]
    }
   ],
   "source": [
    "# IMPORT MODULES\n",
    "# --------------\n",
    "from typing import Final\n",
    "\n",
    "# CONSTANTS\n",
    "# ---------\n",
    "# Exampe of a string\n",
    "HELLO: Final[str] = \"hello world!\"\n",
    "\n",
    "# Chaining methods\n",
    "# A string is immutable: Each method call returns a new string\n",
    "print(f\"{HELLO.capitalize().startswith('h') = }\")"
   ]
  },
  {
   "attachments": {},
   "cell_type": "markdown",
   "metadata": {},
   "source": [
    "-   When using methods, we need to understand its behavior\n",
    "    -   **Accessors** - Return information about the object without changing its state\n",
    "    -   **Mutators** - Change the state of the object\n"
   ]
  },
  {
   "cell_type": "markdown",
   "metadata": {},
   "source": [
    "### <a id='toc3_4_'></a>Python's Built-in Classes [&#8593;](#toc0_)\n"
   ]
  },
  {
   "attachments": {},
   "cell_type": "markdown",
   "metadata": {},
   "source": [
    "-   Literal forms exist for most built-in classes\n",
    "-   All classes support traditional constructor form\n",
    "-   **Immutable Class**\n",
    "    -   Each object of the class has a ﬁxed value upon instantiation\n",
    "    -   Value cannot be changed subsequently\n"
   ]
  },
  {
   "cell_type": "markdown",
   "metadata": {},
   "source": [
    "#### <a id='toc3_4_1_'></a>Most Used Built-in Classes [&#8593;](#toc0_)\n"
   ]
  },
  {
   "attachments": {},
   "cell_type": "markdown",
   "metadata": {},
   "source": [
    "| Data Type      |    Class    | Mutable? | Example                                    |\n",
    "| :------------- | :---------: | :------: | :----------------------------------------- |\n",
    "| Boolean        |   `bool`    |    N     | `True`, `False`                            |\n",
    "| Integer        |    `int`    |    N     | `-9`, `50`, `0x4F`, `0o77`, `0b1101`       |\n",
    "| Floating Point |   `float`   |    N     | `2.3`, `-79.0`, `17.045E-03`, `5e-05`      |\n",
    "| List           |   `list`    |    Y     | `[1, 2, 3, 4]`                             |\n",
    "| Tuple          |   `tuple`   |    N     | `(10, \"hello\", 200.90)`                    |\n",
    "| String         |    `str`    |    N     | `\"Hello world!\"`, `'Hi!'`                  |\n",
    "| Set            |    `set`    |    Y     | `{\"a\", \"b\"}`                               |\n",
    "| Frozen Set     | `frozenset` |    N     | `frozenset({\"apple\", \"banana\", \"cherry\"})` |\n",
    "| Dictionary     |   `dict`    |    Y     | `{fname: \"john\", lname: \"smith\"}`          |\n"
   ]
  },
  {
   "cell_type": "markdown",
   "metadata": {},
   "source": [
    "#### <a id='toc3_4_2_'></a>Other Built-In Classes [&#8593;](#toc0_)\n"
   ]
  },
  {
   "attachments": {},
   "cell_type": "markdown",
   "metadata": {},
   "source": [
    "| Data Type      |    Class     | Mutable? | Example                |\n",
    "| :------------- | :----------: | :------: | :--------------------- |\n",
    "| Complex Number |  `complex`   |    N     | `2j+5`                 |\n",
    "| Range          |   `range`    |    N     | `range(50)`            |\n",
    "| Bytes          |   `bytes`    |    N     | `b\"Hello\"`             |\n",
    "| ByteArray      | `bytearray`  |    Y     | `bytearray(5)`         |\n",
    "| Memory View    | `memoryview` |    Y     | `memoryview(bytes(5))` |\n"
   ]
  },
  {
   "cell_type": "markdown",
   "metadata": {},
   "source": [
    "#### <a id='toc3_4_3_'></a>`bool` [&#8593;](#toc0_)\n"
   ]
  },
  {
   "attachments": {},
   "cell_type": "markdown",
   "metadata": {},
   "source": [
    "-   For manipulating logical values\n",
    "-   **Only 2 possible values: `True` or `False`**\n",
    "-   Default value: `False`\n",
    "-   Constructor: `bool()`\n",
    "    -   Can be created from a non-boolean type using this constructor\n",
    "    -   Numbers: `False` if `0`, else `True`\n",
    "    -   Sequences: `False` if empty, else `True`\n",
    "    -   Can be used in conditional checks for control structures\n",
    "-   Support literal form: Yes\n"
   ]
  },
  {
   "cell_type": "markdown",
   "metadata": {},
   "source": [
    "#### <a id='toc3_4_4_'></a>`int` [&#8593;](#toc0_)\n"
   ]
  },
  {
   "attachments": {},
   "cell_type": "markdown",
   "metadata": {},
   "source": [
    "-   For numerical integer values with arbitrary magnitude\n",
    "    -   Python automatically chooses the internal representation based upon magnitude of value\n",
    "    -   **Python's integer is unlimited in size**\n",
    "-   We can also represent literal values in _binary_ (`0b`), _octal_ (`0o`), or _hexadecimal_ (`0x`)\n",
    "-   Default value: `0`\n",
    "-   Constructor: `int()`\n",
    "    -   Can be created from non-integer type using this constructor\n",
    "    -   Real numbers are truncated\n",
    "    -   Invalid parameters raises a `ValueError`\n",
    "    -   Uses Base-10 by default but can be changed: `int(\"7f\", 16) => 127`\n",
    "-   Support literal form: Yes\n"
   ]
  },
  {
   "cell_type": "markdown",
   "metadata": {},
   "source": [
    "#### <a id='toc3_4_5_'></a>`float` [&#8593;](#toc0_)\n"
   ]
  },
  {
   "attachments": {},
   "cell_type": "markdown",
   "metadata": {},
   "source": [
    "-   For representing any floating-point number\n",
    "-   Precision is similar to `double` in other C-based languages\n",
    "-   Based on IEEE 754 Floating-Point Standard\n",
    "-   Floating-point equivalent of integers can be represented with a trailing `.0` or just `.`\n",
    "-   Can also be in _Scientific Notation_ format with `e`\n",
    "-   Default value: `0.0`\n",
    "-   Constructor: `float()`\n",
    "    -   Can be created from non-float type using this constructor\n",
    "    -   Invalid parameters raises a `ValueError`\n",
    "-   Support literal form: Yes\n"
   ]
  },
  {
   "cell_type": "markdown",
   "metadata": {},
   "source": [
    "#### <a id='toc3_4_6_'></a>Sequence Types: `list`, `tuple`, `str` [&#8593;](#toc0_)\n"
   ]
  },
  {
   "attachments": {},
   "cell_type": "markdown",
   "metadata": {},
   "source": [
    "-   Classes of sequence type\n",
    "-   **Collection of values in which the order is significant**\n",
    "\n",
    "| Sequence Type | Description                                                        |\n",
    "| :------------ | :----------------------------------------------------------------- |\n",
    "| `list`        | Sequence of arbitrary objects<br> Same as Array in other languages |\n",
    "| `tuple`       | Immutable version of `list`                                        |\n",
    "| `str`         | Immutable sequence of textual characters                           |\n",
    "\n",
    "-   **Sequences are 0-based index**\n",
    "    -   Length of $n$ == Index from $0$ to $n-1$\n",
    "    -   Support negative indexing\n",
    "    -   Slicing notation to describe sub-sequences\n",
    "        -   `Start` index is inclusive: If omitted, then start from the beginning\n",
    "        -   `Stop` index is exclusive: If ommited, then stop at the end\n",
    "        -   `Step` is optional and can be negative. If ommitted, then `1`\n",
    "-   **Lists are mutable but Tuples and Strings are immutable**\n",
    "    -   Lists support an _Edit_ syntax: `ls[i] = val`\n",
    "    -   Lists support a _Delete_ syntax: `del ls[i]`\n",
    "    -   Slice notation can also be used to replace or delete a sublist\n"
   ]
  },
  {
   "cell_type": "markdown",
   "metadata": {},
   "source": [
    "##### <a id='toc3_4_6_1_'></a>`list` [&#8593;](#toc0_)\n"
   ]
  },
  {
   "attachments": {},
   "cell_type": "markdown",
   "metadata": {},
   "source": [
    "-   Sequence of objects\n",
    "-   _Referential_ structure - Stores a sequence of references/pointers to objects in memory\n",
    "-   Elements can be any objects, even `None`\n",
    "-   _Array-based sequence with zero-based indexing_\n",
    "-   Most used container type in Python\n",
    "-   **Extremely central to data structures and algorithms**\n",
    "-   Dynamically expands and contracts capacity as needed\n",
    "-   Default value: `[]`\n",
    "-   Constructor: `list()`\n",
    "    -   Accept any parameter of an _iterable_ type\n",
    "    -   Can be used to create a new list from the content of an existing list\n",
    "-   Support literal form: Yes\n"
   ]
  },
  {
   "attachments": {},
   "cell_type": "markdown",
   "metadata": {},
   "source": [
    "<img src=\"./images/list-of-primes.png\" width=50%>\n"
   ]
  },
  {
   "cell_type": "markdown",
   "metadata": {},
   "source": [
    "#### <a id='toc3_4_7_'></a>`tuple` [&#8593;](#toc0_)\n"
   ]
  },
  {
   "attachments": {},
   "cell_type": "markdown",
   "metadata": {},
   "source": [
    "-   Immutable version of a sequence\n",
    "-   Internal representation is more streamlined than that of a list\n",
    "-   Default value: `()`\n",
    "-   For a tuple of one single element, use comma after the value: `(3,)`\n",
    "    -   This is to distinguish it from a simple parenthesized numeric expression\n",
    "-   Constructor: `tuple()`\n",
    "-   Support literal form: Yes\n"
   ]
  },
  {
   "cell_type": "markdown",
   "metadata": {},
   "source": [
    "#### <a id='toc3_4_8_'></a>`str` [&#8593;](#toc0_)\n"
   ]
  },
  {
   "attachments": {},
   "cell_type": "markdown",
   "metadata": {},
   "source": [
    "-   Efficiently represent an immutable sequence of characters\n",
    "-   Uses Unicode character set\n",
    "-   Has a more compact internal representation than referential lists and tuples\n",
    "-   Can use single-quotes, double-quotes, or triple-quotes\n",
    "-   Escape Character: `\\`\n",
    "    -   `\\\\` in order to escape `\\` characters\n",
    "    -   Can also be used to escape Unicode character representations: `\\u20ac`\n",
    "-   We can also use triple-quotes `\"\"\"` or `'''`\n",
    "    -   Useful for documentation _DocStrings_\n",
    "    -   Can also be broken into multiple lines when using triple-quotes\n",
    "-   **NOTE: Python does not have a `character` type**\n",
    "    -   They are just string with length 1\n",
    "-   Support literal form: Yes\n"
   ]
  },
  {
   "cell_type": "markdown",
   "metadata": {},
   "source": [
    "#### <a id='toc3_4_9_'></a>`set` [&#8593;](#toc0_)\n"
   ]
  },
  {
   "attachments": {},
   "cell_type": "markdown",
   "metadata": {},
   "source": [
    "-   Represent the mathematical notion of a set\n",
    "-   **Unordered collection of unique elements**\n",
    "-   Highly optimized for checking whether a specific element is contained in the set or not\n",
    "-   Based on a _Hash Table_ data structure\n",
    "-   2 important restrictions:\n",
    "    -   Does not maintain elements in any specific order (**Not a Sequence**)\n",
    "    -   **Only instances of _immutable_ types (hashable) can be added to a set**\n",
    "-   Default value: `set()` because `{}` represents an empty dictionary\n",
    "-   Constructor: `set()`\n",
    "    -   Accept any parameter of an _iterable_ type\n",
    "    -   If an iterable parameter is sent to the constructor, the set of distinct elements is produced\n",
    "-   Support literal form: Yes, except for empty set\n"
   ]
  },
  {
   "cell_type": "code",
   "execution_count": 9,
   "metadata": {},
   "outputs": [
    {
     "name": "stdout",
     "output_type": "stream",
     "text": [
      "DISTINCT_CHARS = {'m', 't', 'p', 'h', ' ', 'l', 'i', 'e', '!', 'x', 'a', 'g', 's', 'n', 'r', 'w', 'f', 'o', 'd'}\n"
     ]
    }
   ],
   "source": [
    "# IMPORT MODULES\n",
    "# --------------\n",
    "from typing import Final, Set\n",
    "\n",
    "# CONSTANTS\n",
    "# ---------\n",
    "# Define a set of characters from a string\n",
    "DISTINCT_CHARS: Final[Set[str]] = set(\n",
    "    \"Hello World! This is an example of a string\".lower()\n",
    ")\n",
    "\n",
    "# Print the value of the set\n",
    "print(f\"{DISTINCT_CHARS = }\")"
   ]
  },
  {
   "cell_type": "markdown",
   "metadata": {},
   "source": [
    "#### <a id='toc3_4_10_'></a>`frozenset` [&#8593;](#toc0_)\n"
   ]
  },
  {
   "attachments": {},
   "cell_type": "markdown",
   "metadata": {},
   "source": [
    "-   Immutable version of a `set`\n",
    "-   Same properties as a `set`, except it is immutable\n",
    "-   It is possible to have a `set` of `frozenset`\n",
    "-   Default value: `frozenset()`\n",
    "-   Constructor: `frozenset()`\n",
    "    -   Accept any parameter of an _iterable_ type\n",
    "    -   If an iterable parameter is sent to the constructor, the immutable set of distinct elements is produced\n",
    "-   Support literal form: No\n"
   ]
  },
  {
   "cell_type": "markdown",
   "metadata": {},
   "source": [
    "#### <a id='toc3_4_11_'></a>`dict` [&#8593;](#toc0_)\n"
   ]
  },
  {
   "attachments": {},
   "cell_type": "markdown",
   "metadata": {},
   "source": [
    "-   Represents a _dictionary_ or _mapping_ of values\n",
    "-   Set of distinct _Key-Value_ pairs\n",
    "-   Implemented in a similar way as _Set_ but with keys and values\n",
    "    -   **Each key must be unique within the dictionary**\n",
    "    -   _Technically, a Set is similar to a Dict without values_\n",
    "-   Default value: `{}`\n",
    "-   Constructor: `dict()`\n",
    "    -   Accept an existing mapping as parameter\n",
    "    -   Accept a sequence of key-value pairs as parameter\n",
    "-   Support literal form: Yes\n"
   ]
  },
  {
   "cell_type": "markdown",
   "metadata": {},
   "source": [
    "## <a id='toc4_'></a>Expressions and Operators [&#8593;](#toc0_)\n"
   ]
  },
  {
   "attachments": {},
   "cell_type": "markdown",
   "metadata": {},
   "source": [
    "-   Existing values can be combined into larger syntactic _Expressions_\n",
    "    -   Using special symbols known as _Operators_\n",
    "-   **Semantics and behaviors of operators depend on the operands**\n",
    "    -   Some operators behave differently based on their operands\n",
    "    -   E.g. `+` behaves differently between _numerical_ and _string_ operands\n",
    "-   **_Compound Expressions_ rely on the evaluation of 2 or more operations**\n",
    "    -   Order of operation can affect the final resulting value\n",
    "    -   Python defines a specific _Order of Precedence_\n",
    "    -   Using parentheses can override this order\n"
   ]
  },
  {
   "cell_type": "markdown",
   "metadata": {},
   "source": [
    "### <a id='toc4_1_'></a>Logical Operators [&#8593;](#toc0_)\n"
   ]
  },
  {
   "attachments": {},
   "cell_type": "markdown",
   "metadata": {},
   "source": [
    "-   Handles boolean operations\n",
    "    -   `and` (short-circuit)\n",
    "    -   `or` (short-circuit)\n",
    "    -   `not`\n",
    "-   _Short-Circuit_ means it does not evaluate the second operand if the result can be determined by the first operand\n"
   ]
  },
  {
   "cell_type": "markdown",
   "metadata": {},
   "source": [
    "### <a id='toc4_2_'></a>Equality Operators [&#8593;](#toc0_)\n"
   ]
  },
  {
   "attachments": {},
   "cell_type": "markdown",
   "metadata": {},
   "source": [
    "-   Handles comparison for equality\n",
    "    -   `is` and `is not` (Identity/Aliases)\n",
    "    -   `==` and `!=` (Equivalent/Same value)\n",
    "-   **The precise notion of _Equivalence_ depends on the data type**\n",
    "    -   Same objects or different objects with the same value\n",
    "    -   `str`: Match character for character\n",
    "    -   `set`: Have the same contents\n",
    "-   **In most programming situations, `==` and `!=` are the appropriate operators**\n",
    "    -   Comparison by value\n",
    "    -   `is` and `is not` should be reserved when it is necessary to detect _true_ alias (same object in memory)\n"
   ]
  },
  {
   "cell_type": "markdown",
   "metadata": {},
   "source": [
    "### <a id='toc4_3_'></a>Comparison Operators [&#8593;](#toc0_)\n"
   ]
  },
  {
   "attachments": {},
   "cell_type": "markdown",
   "metadata": {},
   "source": [
    "-   Handles comparison for inequality\n",
    "    -   `<` less than\n",
    "    -   `<=` less than or equal\n",
    "    -   `>` greater than\n",
    "    -   `>=` greater than or equal\n",
    "-   Expected behaviors for numeric types\n",
    "-   Lexicographically and case-sensitive for strings and characters\n",
    "-   **Exception `TypeError` raised when operands have non-matching types**\n"
   ]
  },
  {
   "cell_type": "markdown",
   "metadata": {},
   "source": [
    "### <a id='toc4_4_'></a>Arithmetic Operators [&#8593;](#toc0_)\n"
   ]
  },
  {
   "attachments": {},
   "cell_type": "markdown",
   "metadata": {},
   "source": [
    "-   Handles mathematical arithmetics\n",
    "    -   `+` addition\n",
    "    -   `-` subtraction\n",
    "    -   `*` multiplication\n",
    "    -   `/` true division\n",
    "    -   `//` integer division\n",
    "    -   `%` modulo/remainder\n",
    "    -   `**` power\n",
    "-   For `+`, `-`, `*`: **Covariant**\n",
    "    -   If both operands are `int`, the result is `int`\n",
    "    -   If one operand is a `float`, the result is a `float`\n",
    "-   For `//`:\n",
    "    -   The result is truncated down to the nearest floor `int`\n",
    "    -   For $n$ and $m$ in $\\frac{n}{m}$, where $q = n // m$ and $r = n \\% m$\n",
    "        -   Python guarantees that $q \\times m + r = n$\n",
    "        -   When the divisor $m > 0$, Python further guarantees that $0 ≤ r < m$\n",
    "        -   When the divisor $m < 0$, Python further guarantees that $m < r ≤ 0$\n",
    "        -   _The conventions for the `//` and `%` operators are even extended to floating-point operands_\n"
   ]
  },
  {
   "cell_type": "markdown",
   "metadata": {},
   "source": [
    "### <a id='toc4_5_'></a>Bitwise Operators [&#8593;](#toc0_)\n"
   ]
  },
  {
   "attachments": {},
   "cell_type": "markdown",
   "metadata": {},
   "source": [
    "-   Handle bitwise operations for integers\n",
    "    -   `~` bitwise NOT\n",
    "    -   `&` bitwise AND\n",
    "    -   `|` bitwise OR\n",
    "    -   `^` bitwise XOR\n",
    "    -   `<<` bitwise shift left, filling with zeroes\n",
    "    -   `>>` bitwise shift right, filling with sign bit\n"
   ]
  },
  {
   "cell_type": "markdown",
   "metadata": {},
   "source": [
    "### <a id='toc4_6_'></a>Sequence Operators [&#8593;](#toc0_)\n"
   ]
  },
  {
   "attachments": {},
   "cell_type": "markdown",
   "metadata": {},
   "source": [
    "-   Handle operations on sequence-based data types (`str`, `tuple`, `list`)\n",
    "\n",
    "| Operations             | Description                              |\n",
    "| :--------------------- | :--------------------------------------- |\n",
    "| `seq[i]`               | Select element at index                  |\n",
    "| `seq[start:stop]`      | Slice between indices                    |\n",
    "| `seq[start:stop:step]` | Slice between indices with a custom step |\n",
    "| `seq1 + seq2`          | Concatenation                            |\n",
    "| `seq * n`              | Repetition                               |\n",
    "| `el in seq`            | Check containment                        |\n",
    "| `el not in seq`        | Check non-containment                    |\n",
    "\n",
    "-   Indices are _Zero-Based_\n",
    "    -   A sequence of length `n` has elements indexed from `0` to `n − 1` inclusive\n",
    "-   Negative indices are supported\n",
    "    -   Denote a distance from the end of the sequence\n",
    "-   **Slicing notation describes subsequences of a sequence**\n",
    "    -   `Start` index is _inclusive_\n",
    "    -   `Stop` index is _exclusive_\n",
    "-   **All comparison operations are based on _lexicographic order_ by default**\n",
    "    -   Element by element comparison until the first difference is found\n",
    "\n",
    "| Comparison Operations | Description                                |\n",
    "| :-------------------- | :----------------------------------------- |\n",
    "| `seq1 == seq2`        | Equivalent comparison                      |\n",
    "| `seq1 != seq2`        | Non-equivalent                             |\n",
    "| `seq1 < seq2`         | Lexicographically less than                |\n",
    "| `seq1 <= seq2`        | Lexicographically less than or equal to    |\n",
    "| `seq1 > seq2`         | Lexicographically greater than             |\n",
    "| `seq1 >= seq2`        | Lexicographically greater than or equal to |\n"
   ]
  },
  {
   "cell_type": "markdown",
   "metadata": {},
   "source": [
    "### <a id='toc4_7_'></a>Set and Dictionary Operators [&#8593;](#toc0_)\n"
   ]
  },
  {
   "attachments": {},
   "cell_type": "markdown",
   "metadata": {},
   "source": [
    "-   `set` and `frozenset` support the following operations\n",
    "\n",
    "| Operations    | Description                                                |\n",
    "| :------------ | :--------------------------------------------------------- |\n",
    "| `el in s`     | Containment check                                          |\n",
    "| `el not in s` | Non-containment check                                      |\n",
    "| `s1 == s2`    | `s1` is equivalent to `s2`                                 |\n",
    "| `s1 != s2`    | `s1` is not equivalent to `s2`                             |\n",
    "| `s1 <= s2`    | `s1` is subset of `s2`                                     |\n",
    "| `s1 < s2`     | `s1` is proper subset of `s2`                              |\n",
    "| `s1 >= s2`    | `s1` is superset of `s2`                                   |\n",
    "| `s1 > s2`     | `s1` is proper superset of `s2`                            |\n",
    "| `s1 \\| s2`    | The union of `s1` and `s2`                                 |\n",
    "| `s1 & s2`     | The intersection of `s1` and `s2`                          |\n",
    "| `s1 − s2`     | The set of elements in `s1` but not `s2`                   |\n",
    "| `s1 ˆ s2`     | The set of elements in precisely one of `s1` or `s2` (XOR) |\n",
    "\n",
    "-   **There is no guarantee for a particular order of elements**\n",
    "    -   **Comparisons are not lexicographic but based on math concepts of subsets**\n",
    "    -   Partial order but not a total order\n",
    "    -   **Disjoint sets are neither _less than_, _equal to_, or _greater than_ each other**\n",
    "    -   Support many fundamental behaviors through named methods\n",
    "-   `dict` supports the following operations\n",
    "\n",
    "| Dict Operations  | Description                                         |\n",
    "| :--------------- | :-------------------------------------------------- |\n",
    "| `d[key]`         | Value associated with given key                     |\n",
    "| `d[key] = value` | Set (or reset) the value associated with given key  |\n",
    "| `del d[key]`     | Remove key and its associated value from dictionary |\n",
    "| `key in d`       | Containment check                                   |\n",
    "| `key not in d`   | Non-containment check                               |\n",
    "| `d1 == d2`       | `d1` is equivalent to `d2`                          |\n",
    "| `d1 != d2`       | `d1` is not equivalent to `d2`                      |\n",
    "\n",
    "-   **`dict` does not maintain an order for its elements**\n",
    "    -   Does not support comparison operations such as `<`, `>`, `<=`, `>=`\n",
    "    -   **Equivalent if the 2 dicts contain the same key-value pairs**\n",
    "    -   Support many fundamental behaviors through named methods\n"
   ]
  },
  {
   "cell_type": "markdown",
   "metadata": {},
   "source": [
    "### <a id='toc4_8_'></a>Extended Assignment Operators [&#8593;](#toc0_)\n"
   ]
  },
  {
   "attachments": {},
   "cell_type": "markdown",
   "metadata": {},
   "source": [
    "-   Handles additional ways to assign values to variables\n",
    "-   Shortcuts for more verbose assignment expressions\n",
    "\n",
    "| Operator | Description               |\n",
    "| :------: | :------------------------ |\n",
    "|   `+=`   | Add and assign            |\n",
    "|   `-=`   | Substract and assign      |\n",
    "|   `*=`   | Multiply and assign       |\n",
    "|   `/=`   | True divide and assign    |\n",
    "|  `//=`   | Integer divide and assign |\n",
    "|   `%=`   | Modulo and assign         |\n",
    "\n",
    "-   _For immutable types, reassign the identifier to a newly constructed value_\n",
    "    -   **A type can redefine this semantic to mutate the object instead**\n",
    "    -   Example: `list`\n",
    "    -   _For `list`, there is a subtle difference between `a += x` and `a = a + x`_\n"
   ]
  },
  {
   "cell_type": "code",
   "execution_count": 10,
   "metadata": {},
   "outputs": [
    {
     "name": "stdout",
     "output_type": "stream",
     "text": [
      "alpha = [1, 2, 3, 4, 5]\n",
      "beta = [1, 2, 3, 4, 5]\n",
      "gamma = [1, 2, 3, 4, 5, 6, 7]\n"
     ]
    }
   ],
   "source": [
    "# IMPORT MODULES\n",
    "# --------------\n",
    "from typing import List\n",
    "\n",
    "# VARIABLES\n",
    "# ---------\n",
    "alpha: List[int] = [1, 2, 3]\n",
    "beta: List[int] = alpha  # An alias of alpha\n",
    "gamma: List[int] = alpha  # Another alias of alpha\n",
    "\n",
    "beta += [4, 5]  # Extends the original list with two more elements\n",
    "gamma = gamma + [6, 7]  # Breaks alias: Reassigns to a NEW list [1, 2, 3, 4, 5, 6, 7]\n",
    "\n",
    "print(f\"{alpha = }\")  # Will be [1, 2, 3, 4, 5]\n",
    "print(f\"{beta = }\")  # Will be [1, 2, 3, 4, 5]\n",
    "print(f\"{gamma = }\")  # Will be [1, 2, 3, 4, 5, 6, 7]"
   ]
  },
  {
   "cell_type": "markdown",
   "metadata": {},
   "source": [
    "### <a id='toc4_9_'></a>Compound Expressions [&#8593;](#toc0_)\n"
   ]
  },
  {
   "attachments": {},
   "cell_type": "markdown",
   "metadata": {},
   "source": [
    "-   Follow the formal order of precedence of Math\n",
    "-   Operators in a category with higher precedence will be evaluated before those with lower precedence\n",
    "    -   Unless the expression is otherwise parenthesized\n",
    "    -   **Chained Assignment**: `x = y = z = 10`\n",
    "    -   **Chained Comparison**: `1 <= x + y <= 10` same as `(1 <= x + y) and (x + y <= 10)`\n"
   ]
  },
  {
   "cell_type": "markdown",
   "metadata": {},
   "source": [
    "### <a id='toc4_10_'></a>Operator Precedence [&#8593;](#toc0_)\n"
   ]
  },
  {
   "attachments": {},
   "cell_type": "markdown",
   "metadata": {},
   "source": [
    "| Type                        | Symbols                                          |\n",
    "| :-------------------------- | :----------------------------------------------- |\n",
    "| Parenthesized Expressions   | `(expr)`                                         |\n",
    "| Member Access               | `expr.member`                                    |\n",
    "| Function/Method Calls       | `expr(...)`                                      |\n",
    "| Container Subscripts/Slices | `expr[...]`                                      |\n",
    "| Exponentiation              | `**`                                             |\n",
    "| Unary Operators             | `+expr`, `−expr`, `˜expr`                        |\n",
    "| Multiplication, Division    | `*`, `/`, `//`, `%`                              |\n",
    "| Addition, Subtraction       | `+`, `−`                                         |\n",
    "| Bitwise Shifting            | `<<`, `>>`                                       |\n",
    "| Bitwise-`and`               | `&`                                              |\n",
    "| Bitwise-`xor`               | `ˆ`                                              |\n",
    "| Bitwise-`or`                | `\\|`                                             |\n",
    "| Comparisons                 | `is`, `is not`, `==`, `!=`, `<`, `<=`, `>`, `>=` |\n",
    "| Containment                 | `in`, `not in`                                   |\n",
    "| Logical-`not`               | `not expr`                                       |\n",
    "| Logical-`and`               | `and`                                            |\n",
    "| Logical-`or`                | `or`                                             |\n",
    "| Conditional                 | `val_1 if condition else val_2`                  |\n",
    "| Assignments                 | `=`, `+=`, `−=`                                  |\n"
   ]
  },
  {
   "cell_type": "markdown",
   "metadata": {},
   "source": [
    "## <a id='toc5_'></a>Control Flow [&#8593;](#toc0_)\n"
   ]
  },
  {
   "attachments": {},
   "cell_type": "markdown",
   "metadata": {},
   "source": [
    "-   Conditional statements and loops\n",
    "    -   Since Python 3.10, also includes `match/case`\n",
    "-   **Blocks of code in Python is defined with a colon `:`**\n",
    "    -   Indented block\n",
    "    -   Can be on a single line if only a single statement (not recommended)\n",
    "    -   Blocks can be nested\n",
    "    -   Same principle applies for blocks of function declaration\n"
   ]
  },
  {
   "cell_type": "markdown",
   "metadata": {},
   "source": [
    "### <a id='toc5_1_'></a>Conditionals: `if`-Statement and `match`-Statement [&#8593;](#toc0_)\n"
   ]
  },
  {
   "attachments": {},
   "cell_type": "markdown",
   "metadata": {},
   "source": [
    "-   Execute a block of code based on evaluation of one or more Boolean expressions\n",
    "-   Each condition is a Boolean expression\n",
    "-   **_Mutually Exclusive_: Only one of the bodies will be executed**\n",
    "    -   Once a match is found, skip all other options\n",
    "-   The final `else` clause is optional\n",
    "-   Non-boolean types may be evaluated as Booleans with intuitive meanings\n",
    "-   We can nest one control structured within another\n"
   ]
  },
  {
   "cell_type": "code",
   "execution_count": 11,
   "metadata": {},
   "outputs": [
    {
     "name": "stdout",
     "output_type": "stream",
     "text": [
      "You are not old enough\n"
     ]
    }
   ],
   "source": [
    "# IMPORT MODULES\n",
    "# --------------\n",
    "from typing import Final\n",
    "\n",
    "# CONSTANTS\n",
    "# ---------\n",
    "YOUR_AGE: Final[int] = 17\n",
    "\n",
    "# Conditional\n",
    "if YOUR_AGE >= 18:\n",
    "    print(\"You are an adult\")\n",
    "elif 0 < YOUR_AGE < 18:\n",
    "    print(\"You are not old enough\")\n",
    "else:\n",
    "    print(\"Are you even born yet?\")"
   ]
  },
  {
   "attachments": {},
   "cell_type": "markdown",
   "metadata": {},
   "source": [
    "-   Using `match/case`, we can get more advanced conditional options\n",
    "    -   Can also use _Pattern Matching_ for the conditions\n",
    "    -   **Note: This requires Python 3.10+**\n"
   ]
  },
  {
   "cell_type": "code",
   "execution_count": 12,
   "metadata": {},
   "outputs": [
    {
     "name": "stdout",
     "output_type": "stream",
     "text": [
      "Pineapple is not technically a fruit but a berry\n"
     ]
    }
   ],
   "source": [
    "# IMPORT MODULES\n",
    "# --------------\n",
    "from typing import Final\n",
    "\n",
    "# CONSTANTS\n",
    "# ---------\n",
    "USER_CHOICE: Final[str] = \"Pineapple\"\n",
    "\n",
    "# Conditional using match\n",
    "match USER_CHOICE:\n",
    "    case \"Apple\":\n",
    "        print(\"An apple a day keeps the doctor away.\")\n",
    "    case \"Banana\" | \"Papaya\" | \"Orange\":\n",
    "        print(\"Yellow fruits are also good for your health!\")\n",
    "    case \"Pineapple\":\n",
    "        print(\"Pineapple is not technically a fruit but a berry\")\n",
    "    case _:  # Optional default if no match found. If skipped, then None\n",
    "        print(\"What is your favorite fruit?\")"
   ]
  },
  {
   "cell_type": "markdown",
   "metadata": {},
   "source": [
    "### <a id='toc5_2_'></a>Loops [&#8593;](#toc0_)\n"
   ]
  },
  {
   "attachments": {},
   "cell_type": "markdown",
   "metadata": {},
   "source": [
    "-   Python has 2 loop structures\n",
    "\n",
    "| Loop    | Description                                                               |\n",
    "| :------ | :------------------------------------------------------------------------ |\n",
    "| `while` | General repetition based upon the repeated testing of a boolean condition |\n",
    "| `for`   | Iteration of values from a defined finite series                          |\n"
   ]
  },
  {
   "cell_type": "markdown",
   "metadata": {},
   "source": [
    "#### <a id='toc5_2_1_'></a>`while` Loop [&#8593;](#toc0_)\n"
   ]
  },
  {
   "attachments": {},
   "cell_type": "markdown",
   "metadata": {},
   "source": [
    "-   **General repetition based upon the repeated testing of a Boolean**\n",
    "-   Condition is tested\n",
    "    -   If `True`, execute the body\n",
    "    -   Re-test the condition and keep repeating until it is no longer `True`\n",
    "-   Much helpful for iterating when the end of the loop is not pre-determined\n",
    "\n",
    "```py\n",
    "while condition:\n",
    "    body\n",
    "    change_condition\n",
    "```\n"
   ]
  },
  {
   "cell_type": "code",
   "execution_count": 13,
   "metadata": {},
   "outputs": [
    {
     "name": "stdout",
     "output_type": "stream",
     "text": [
      "9 8 7 6 5 4 3 2 1 0 "
     ]
    }
   ],
   "source": [
    "# Example of `while` Loop\n",
    "# -----------------------\n",
    "digit_data: str = \"9876543210\"\n",
    "digit: int = 9\n",
    "\n",
    "while str(digit) in digit_data:\n",
    "    print(digit, end=\" \")\n",
    "    digit -= 1"
   ]
  },
  {
   "cell_type": "markdown",
   "metadata": {},
   "source": [
    "#### <a id='toc5_2_2_'></a>`for` Loop [&#8593;](#toc0_)\n"
   ]
  },
  {
   "attachments": {},
   "cell_type": "markdown",
   "metadata": {},
   "source": [
    "-   **Convenient iteration of values from a finite series**\n",
    "-   Can be used on any type of iterable structures\n",
    "-   The loop body executes once for each element of the data sequence\n",
    "-   Simplicity as there is no need to manage an external boolean condition\n",
    "-   Much useful when iterating through a collection of values\n",
    "    -   Can be used when `while` loop cannot be applied\n",
    "\n",
    "```py\n",
    "for el in iterable:\n",
    "    body\n",
    "```\n",
    "\n",
    "-   **Within the loop body, `el` is treated as a read-only standard identifier**\n",
    "    -   If the element in the iterable is mutable, we can invoke methods on `el`\n",
    "    -   But reassigning `el` to a new value has no affect on the original data or the next iteration\n"
   ]
  },
  {
   "cell_type": "code",
   "execution_count": 14,
   "metadata": {},
   "outputs": [
    {
     "name": "stdout",
     "output_type": "stream",
     "text": [
      "9 8 7 6 5 4 3 2 1 0 "
     ]
    }
   ],
   "source": [
    "# Example of `for` Loop\n",
    "# ---------------------\n",
    "digit_data = \"9876543210\"\n",
    "\n",
    "for dgt in digit_data:\n",
    "    print(dgt, end=\" \")\n",
    "    dgt = \"1\"  # This reassignment has no effect on original data or next value"
   ]
  },
  {
   "cell_type": "code",
   "execution_count": 15,
   "metadata": {},
   "outputs": [
    {
     "name": "stdout",
     "output_type": "stream",
     "text": [
      "9 is the biggest digit in 1234567890\n"
     ]
    }
   ],
   "source": [
    "# Finding the Biggest Digit in a String\n",
    "# -------------------------------------\n",
    "digit_data = \"1234567890\"\n",
    "biggest: int = 0\n",
    "\n",
    "for el in digit_data:\n",
    "    dt: int = int(el)\n",
    "    if dt > biggest:\n",
    "        biggest = dt\n",
    "\n",
    "print(f\"{biggest} is the biggest digit in {digit_data}\")"
   ]
  },
  {
   "cell_type": "markdown",
   "metadata": {},
   "source": [
    "#### <a id='toc5_2_3_'></a>Index-Based `for` Loop [&#8593;](#toc0_)\n"
   ]
  },
  {
   "attachments": {},
   "cell_type": "markdown",
   "metadata": {},
   "source": [
    "-   With the previous format of `for` loop, we do not know where an element resides within the sequence\n",
    "-   Sometimes, we need to know the index of the element in the sequence\n",
    "-   We can loop over the indices of the elements instead of the elements themselves\n",
    "-   We can use `range()` to generate integer-sequence\n",
    "\n",
    "```py\n",
    "for j in range(len(iterable)):\n",
    "    body\n",
    "```\n"
   ]
  },
  {
   "cell_type": "code",
   "execution_count": 16,
   "metadata": {},
   "outputs": [
    {
     "name": "stdout",
     "output_type": "stream",
     "text": [
      "0 1 2 3 4 5 6 7 8 9 "
     ]
    }
   ],
   "source": [
    "# Using for index in range()\n",
    "# --------------------------\n",
    "digit_data = \"9876543210\"\n",
    "\n",
    "for index in range(len(digit_data)):\n",
    "    print(index, end=\" \")"
   ]
  },
  {
   "attachments": {},
   "cell_type": "markdown",
   "metadata": {},
   "source": [
    "-   Alternatively, we can `enumerate()` the iterable\n",
    "-   With this, we get both index and value of the iterable\n",
    "\n",
    "```py\n",
    "for idx, val in enumerate(iterable):\n",
    "    body\n",
    "```\n"
   ]
  },
  {
   "cell_type": "code",
   "execution_count": 17,
   "metadata": {},
   "outputs": [
    {
     "name": "stdout",
     "output_type": "stream",
     "text": [
      "idx   val\n",
      "---   ---\n",
      " 0 --> 9\n",
      " 1 --> 8\n",
      " 2 --> 7\n",
      " 3 --> 6\n",
      " 4 --> 5\n",
      " 5 --> 4\n",
      " 6 --> 3\n",
      " 7 --> 2\n",
      " 8 --> 1\n",
      " 9 --> 0\n"
     ]
    }
   ],
   "source": [
    "# Using for idx, val in enumerate()\n",
    "# ---------------------------------\n",
    "digit_data = \"9876543210\"\n",
    "\n",
    "print(\"idx   val\")\n",
    "print(\"---   ---\")\n",
    "for idx, val in enumerate(digit_data):\n",
    "    print(f\" {idx} --> {val}\")"
   ]
  },
  {
   "cell_type": "markdown",
   "metadata": {},
   "source": [
    "#### <a id='toc5_2_4_'></a>`break` and `continue` [&#8593;](#toc0_)\n"
   ]
  },
  {
   "attachments": {},
   "cell_type": "markdown",
   "metadata": {},
   "source": [
    "| Keyword    | Description                                                                                           |\n",
    "| :--------- | :---------------------------------------------------------------------------------------------------- |\n",
    "| `break`    | Immediately terminates the most-immediately enclosing loop                                            |\n",
    "| `continue` | Skip the current iteration<br>Continue unto the next iteration of the most-immediately enclosing loop |\n",
    "\n",
    "-   They can be used to avoid introducing overly complex logical conditions\n"
   ]
  },
  {
   "cell_type": "code",
   "execution_count": 18,
   "metadata": {},
   "outputs": [
    {
     "name": "stdout",
     "output_type": "stream",
     "text": [
      "9 8 7 6 5 "
     ]
    }
   ],
   "source": [
    "# Example of using `break`\n",
    "# ------------------------\n",
    "digit_data = \"9876543210\"\n",
    "\n",
    "for dgt in digit_data:\n",
    "    # Immediately terminate when reaching 4\n",
    "    if dgt == \"4\":\n",
    "        break\n",
    "    print(dgt, end=\" \")"
   ]
  },
  {
   "cell_type": "code",
   "execution_count": 19,
   "metadata": {},
   "outputs": [
    {
     "name": "stdout",
     "output_type": "stream",
     "text": [
      "9 7 5 3 1 "
     ]
    }
   ],
   "source": [
    "# Example of using `continue`\n",
    "# ---------------------------\n",
    "digit_data = \"9876543210\"\n",
    "\n",
    "for dgt in digit_data:\n",
    "    # Skip all even numbers\n",
    "    if int(dgt) % 2 == 0:\n",
    "        continue\n",
    "    print(dgt, end=\" \")"
   ]
  },
  {
   "cell_type": "markdown",
   "metadata": {},
   "source": [
    "## <a id='toc6_'></a>Functions [&#8593;](#toc0_)\n"
   ]
  },
  {
   "attachments": {},
   "cell_type": "markdown",
   "metadata": {},
   "source": [
    "-   **Function** - Traditional, stateless function invoked without context of a class\n",
    "-   **Method** - Member function invoked on an object using OOP approach and syntax\n"
   ]
  },
  {
   "cell_type": "code",
   "execution_count": 20,
   "metadata": {},
   "outputs": [],
   "source": [
    "# IMPORT MODULES\n",
    "# --------------\n",
    "from typing import Iterable, TypeVar\n",
    "\n",
    "# CUSTOM TYPES\n",
    "# ------------\n",
    "TCount = TypeVar(\"TCount\", str, int, float, bool)\n",
    "\n",
    "\n",
    "# Example of a function\n",
    "# ---------------------\n",
    "def count(target: TCount, data: Iterable[TCount]) -> int:\n",
    "    \"\"\"Counts the number of occurrences of a given `target` value within any form of iterable `data` set.\n",
    "\n",
    "    Args:\n",
    "        `target` (`TypeVar(\"TCount\", str, int, float, bool)`): The target value\n",
    "        `data` (`Iterable[TCount]`): The iterable set\n",
    "\n",
    "    Returns:\n",
    "        `int`: The number of occurences of `target` within `data`\n",
    "\n",
    "    The `target` can be any value of type `str`, `int`, `float`, or `bool`.\n",
    "    \"\"\"\n",
    "\n",
    "    # The count of occurences\n",
    "    count: int = 0\n",
    "\n",
    "    # Loop through the items in the data\n",
    "    for item in data:\n",
    "        if item == target:\n",
    "            count += 1\n",
    "\n",
    "    # Return count of occurences\n",
    "    return count"
   ]
  },
  {
   "attachments": {},
   "cell_type": "markdown",
   "metadata": {},
   "source": [
    "-   _Function Signature_\n",
    "    -   Begins with the keyword `def`\n",
    "    -   Establish a new identifier as the name of the function\n",
    "    -   Establish the expected parameters and their names\n",
    "-   Python is a dynamically-typed languages\n",
    "    -   Python's function signature does not required types\n",
    "    -   Those expectations should be stated in the documentations\n",
    "    -   Can also be enforced within the function, but only checked at runtime\n",
    "-   **But Python can also use optional type-hints**\n",
    "    -   But they are not enforced, unless using `mypy` at pseudo-compile time\n",
    "    -   They are not enforced at runtime\n",
    "    -   **Misuse of a function will really only be detected at runtime**\n"
   ]
  },
  {
   "cell_type": "code",
   "execution_count": 21,
   "metadata": {},
   "outputs": [
    {
     "name": "stdout",
     "output_type": "stream",
     "text": [
      "count(\"a\", \"abracadabra\") = 5\n"
     ]
    }
   ],
   "source": [
    "# Example of Function Runtime\n",
    "# ---------------------------\n",
    "print(f'{count(\"a\", \"abracadabra\") = }')"
   ]
  },
  {
   "attachments": {},
   "cell_type": "markdown",
   "metadata": {},
   "source": [
    "-   **Each time the function is called, an _Activation Record_ is created**\n",
    "    -   Stores information relevant to the current call\n",
    "    -   Includes _Namespace_\n",
    "        -   **Manages identifiers in the _Local Scope_ of the call**\n",
    "        -   Ensures that there is no name-clashes\n",
    "        -   Function parameters and other identifiers defined locally in the function\n",
    "        -   Local identifiers have no relations to outside scopes\n"
   ]
  },
  {
   "cell_type": "markdown",
   "metadata": {},
   "source": [
    "### <a id='toc6_1_'></a>`return` Statement [&#8593;](#toc0_)\n"
   ]
  },
  {
   "attachments": {},
   "cell_type": "markdown",
   "metadata": {},
   "source": [
    "-   When reached, immediately stops the execution of the function\n",
    "-   Return the expressed value as the value of the function call\n",
    "-   If no return statement or no explicit value, returns `None`\n",
    "-   Often the final statement within a function\n",
    "-   But a function can have multiple `return` statements with conditional logic\n"
   ]
  },
  {
   "cell_type": "code",
   "execution_count": 22,
   "metadata": {},
   "outputs": [],
   "source": [
    "def contains(target: str, data: str) -> bool:\n",
    "    \"\"\"Checks whether a `target` string is contained in another `data` string or not.\n",
    "\n",
    "    Args:\n",
    "        `target` (`str`): The string to check if being contained\n",
    "        `data` (`str`): The string to check into if it contains the `target` string\n",
    "\n",
    "    Returns:\n",
    "        `bool`: Whether the `target` string is contained in `data` or not\n",
    "    \"\"\"\n",
    "\n",
    "    for item in data:\n",
    "        if item == target:\n",
    "            # If here, the item was found\n",
    "            return True\n",
    "\n",
    "    # If here, then not found\n",
    "    return False"
   ]
  },
  {
   "cell_type": "code",
   "execution_count": 23,
   "metadata": {},
   "outputs": [
    {
     "name": "stdout",
     "output_type": "stream",
     "text": [
      "contains(target=\"zzz\", data=\"Hello World\") = False\n"
     ]
    }
   ],
   "source": [
    "print(f'{contains(target=\"zzz\", data=\"Hello World\") = }')"
   ]
  },
  {
   "cell_type": "markdown",
   "metadata": {},
   "source": [
    "### <a id='toc6_2_'></a>Information Passing [&#8593;](#toc0_)\n"
   ]
  },
  {
   "attachments": {},
   "cell_type": "markdown",
   "metadata": {},
   "source": [
    "-   Passing information to and from a function\n",
    "-   **Formal Parameters**\n",
    "    -   Identifiers used to describe the expected parameters in the _function signature_\n",
    "    -   Also known as _Function Parameters_\n",
    "    -   Here, `a` and `b` are _Formal Parameters / Function Parameters_\n",
    "\n",
    "```py\n",
    "def add(a: int, b: int) -> int:\n",
    "    return a + b\n",
    "```\n",
    "\n",
    "-   **Actual Parameters**\n",
    "    -   Objects sent by the caller when invoking the function during _function call_\n",
    "    -   Also known as _Function Arguments_\n",
    "    -   Here, `5` and `10` are _Actual Parameters / Function Arguments_\n",
    "\n",
    "```py\n",
    "result: int = add(5, 10)\n",
    "```\n",
    "\n",
    "-   **Parameter-passing in Python follows the semantics of the _standard assignment statement_**\n",
    "    -   Formal parameters are assigned in the function's local scope to the respective actual parameters\n",
    "    -   Here: `a <- 5` and `b <- 10`\n",
    "    -   Within the scope of the function, _arguments_ and _parameters_ are aliased\n",
    "    -   Return values are also communicated as assignment\n",
    "    -   Here: `result <- add(5, 10)`\n",
    "-   **When passing information, objects are not copied by value but referenced**\n",
    "    -   The address/pointer to the value in memory is passed around\n",
    "    -   Efficient invocation\n"
   ]
  },
  {
   "cell_type": "markdown",
   "metadata": {},
   "source": [
    "#### <a id='toc6_2_1_'></a>Mutable Parameters [&#8593;](#toc0_)\n"
   ]
  },
  {
   "attachments": {},
   "cell_type": "markdown",
   "metadata": {},
   "source": [
    "-   **For mutable objects, it is possible for the function to affect the state of the _Arguments_**\n",
    "    -   The _Parameter_ is an _Alias_ of the _Argument_\n",
    "    -   Changing one can affect the other\n",
    "    -   Example: `data.append(value)`\n",
    "        -   `value` is appended to the `data` list\n",
    "        -   The same `data` is modified, not creating a new one\n",
    "-   **However, reassigning to the _Parameter_ simply breaks the aliasing**\n",
    "-   There are many legitimate cases in which a function may be designed to modify the state of a argument\n"
   ]
  },
  {
   "cell_type": "code",
   "execution_count": 24,
   "metadata": {},
   "outputs": [],
   "source": [
    "# IMPORT MODULES\n",
    "# --------------\n",
    "from typing import List, TypeVar\n",
    "\n",
    "# CUSTOM TYPES\n",
    "# ------------\n",
    "TNumeric = TypeVar(\"TNumeric\", int, float)\n",
    "\n",
    "\n",
    "def scale(data: List[TNumeric], factor: TNumeric) -> None:\n",
    "    \"\"\"Multiply all entries of a numeric `data` set by a given `factor`.\n",
    "\n",
    "    Args:\n",
    "        `data` (`List[TNumeric]`): A list of numeric data to multiply\n",
    "        `factor` (`TNumeric`): The factor to multiply by\n",
    "    \"\"\"\n",
    "\n",
    "    for j in range(len(data)):\n",
    "        data[j] *= factor"
   ]
  },
  {
   "cell_type": "code",
   "execution_count": 25,
   "metadata": {},
   "outputs": [
    {
     "name": "stdout",
     "output_type": "stream",
     "text": [
      "Before scale(primes_4, 50): primes_4 = [2, 3, 5, 7]\n",
      "After scale(primes_4, 50): primes_4 = [100, 150, 250, 350]\n"
     ]
    }
   ],
   "source": [
    "primes_4: List[int] = [2, 3, 5, 7]\n",
    "print(f\"Before scale(primes_4, 50): {primes_4 = }\")\n",
    "# List is a mutable object\n",
    "scale(primes_4, 50)\n",
    "# The state of the actual parameter have been affected\n",
    "print(f\"After scale(primes_4, 50): {primes_4 = }\")"
   ]
  },
  {
   "cell_type": "markdown",
   "metadata": {},
   "source": [
    "#### <a id='toc6_2_2_'></a>Default Parameters [&#8593;](#toc0_)\n"
   ]
  },
  {
   "attachments": {},
   "cell_type": "markdown",
   "metadata": {},
   "source": [
    "-   **Polymorphism** - Functions can support more than one possible calling signature\n",
    "-   Functions can declare one or more default values for parameters\n",
    "    -   A caller can invoke a function with varying numbers of actual parameters\n",
    "    -   If parameters are passed, the default values are ignored. Else, the default values are used\n",
    "-   **All optional parameters with default values must be declared after required parameters without default values**\n",
    "    -   If a default parameter value is present for one parameter, default parameters must be present for all further parameters\n"
   ]
  },
  {
   "cell_type": "code",
   "execution_count": 26,
   "metadata": {},
   "outputs": [],
   "source": [
    "# IMPORT MODULES\n",
    "# --------------\n",
    "from typing import Final, List, TypeAlias\n",
    "\n",
    "# CUSTOM TYPES\n",
    "# ------------\n",
    "GradeMap2: TypeAlias = dict[str, float]\n",
    "\n",
    "\n",
    "def compute_gpa(\n",
    "    grades: List[str],\n",
    "    points: GradeMap2 = {\n",
    "        \"A+\": 4.0,\n",
    "        \"A\": 4.0,\n",
    "        \"A-\": 3.67,\n",
    "        \"B+\": 3.33,\n",
    "        \"B\": 3.0,\n",
    "        \"B-\": 2.67,\n",
    "        \"C+\": 2.33,\n",
    "        \"C\": 2.0,\n",
    "        \"C-\": 1.67,\n",
    "        \"D+\": 1.33,\n",
    "        \"D\": 1.0,\n",
    "        \"F\": 0.0,\n",
    "    },\n",
    ") -> float:\n",
    "    \"\"\"Computes a student's GPA based on letter grades entered by a user.\n",
    "\n",
    "    Args:\n",
    "        `grades` (`List[str]`): A list of letter grades\n",
    "        `points` (`GradeMap`, optional): A mapping of letter grades to equivalent GPA point. Defaults to a given GradeMap.\n",
    "\n",
    "    Returns:\n",
    "        `float`: The final GPA\n",
    "\n",
    "    While the point system is somewhat common, it may not agree with the system used by all schools.\n",
    "    Allowing `points` to be optional allows flexibility to either use the default point system or pass a custom mapping.\n",
    "    \"\"\"\n",
    "\n",
    "    # Declare and initialize variables\n",
    "    num_courses: int = 0\n",
    "    total_points: float = 0\n",
    "\n",
    "    for g in grades:\n",
    "        if g in points:\n",
    "            # It is a recognizable grade\n",
    "            num_courses += 1\n",
    "            total_points += points[g]\n",
    "\n",
    "    return total_points / num_courses"
   ]
  },
  {
   "cell_type": "code",
   "execution_count": 27,
   "metadata": {},
   "outputs": [
    {
     "name": "stdout",
     "output_type": "stream",
     "text": [
      "compute_gpa([\"A\", \"A+\", \"B+\", \"B\"]) = 3.5825\n"
     ]
    }
   ],
   "source": [
    "print(f'{compute_gpa([\"A\", \"A+\", \"B+\", \"B\"]) = }')"
   ]
  },
  {
   "cell_type": "markdown",
   "metadata": {},
   "source": [
    "-   A similar example is the `range()` function, which could be implemented as follow\n",
    "    -   Technically, when `range(n)` is called, `n` is assigned to `start`\n",
    "    -   Within the body, if only 1 parameter is given, `start` and `stop` are swapped to provide the desired semantic\n",
    "\n",
    "```py\n",
    "def range(start, stop = None, step = 1):\n",
    "    if stop == None:\n",
    "        stop = start\n",
    "        start = 0\n",
    "    ...\n",
    "```\n"
   ]
  },
  {
   "cell_type": "markdown",
   "metadata": {},
   "source": [
    "#### <a id='toc6_2_3_'></a>Keyword Parameters [&#8593;](#toc0_)\n"
   ]
  },
  {
   "cell_type": "markdown",
   "metadata": {},
   "source": [
    "-   **Positional Arguments**\n",
    "    -   The traditional mechanism for matching the _arguments_ sent by a caller to the _formal parameters_\n",
    "-   **Keyword Arguments**\n",
    "    -   An alternate mechanism for sending _arguments_ to a function\n",
    "    -   **Explicitly assigning an _argument_ to a _formal parameter_ by name**\n",
    "    -   We can require that certain parameters be sent only through the keyword-argument syntax\n",
    "    -   Some functions can be polymorphic in their number of arguments\n",
    "        -   They cannot be used with _Positional Arguments_ for some arguments (e.g. `key` for `max()`)\n"
   ]
  },
  {
   "cell_type": "markdown",
   "metadata": {},
   "source": [
    "#### <a id='toc6_2_4_'></a>Positional-Only vs Keyword-Only Parameters [&#8593;](#toc0_)\n"
   ]
  },
  {
   "attachments": {},
   "cell_type": "markdown",
   "metadata": {},
   "source": [
    "-   **Starting with [Python 3.8](https://docs.python.org/3.8/whatsnew/3.8.html#positional-only-parameters), we can specify wether a parameter is _Positional-Only_ or _Keyword-Only_**\n",
    "    -   **Parameters before the forward slash `/` are for _Positional-Only arguments_**\n",
    "    -   **Parameters after the asterisk `*` are for _Keyword-Only arguments_**\n",
    "    -   **Parameters in between `/` and `*` can be either _Positional arguments_ or _Keyword arguments_**\n",
    "    -   **Without `/` and `*`, the parameters can be either _Positional arguments_ or _Keyword arguments_**\n",
    "-   In the examples below\n",
    "    -   `po1`, `po2`, and `po3` are _Positional-Only_\n",
    "    -   `pkw1`, `pkw2`, and `pkw3` can be either _Positional or Keyword_\n",
    "    -   `kwo1`, `kwo2`, and `kwo3` are _Keyword-Only_\n",
    "\n",
    "```py\n",
    "def hybrid(po1, po2, /, pkw1, pkw2, *, kwo1, kwo2):\n",
    "    ...\n",
    "```\n",
    "\n",
    "-   The following function accepts _Positional-Arguments_ only\n",
    "\n",
    "```py\n",
    "def positional_only(po1, po2, po3, /):\n",
    "    ...\n",
    "```\n",
    "\n",
    "-   The following function accepts _Keyword-Arguments_ only\n",
    "\n",
    "```py\n",
    "def keyword_only(*, kwo1, kwo2, kwo3):\n",
    "    ...\n",
    "```\n",
    "\n",
    "-   The following function accepts either _Positional-Arguments_ or _Keyword-Arguments_\n",
    "    -   This is the default function declaration\n",
    "\n",
    "```py\n",
    "def either(pkw1, pkw2, pkw3):\n",
    "    ...\n",
    "```\n"
   ]
  },
  {
   "cell_type": "markdown",
   "metadata": {},
   "source": [
    "### <a id='toc6_3_'></a>Python's Built-In Functions [&#8593;](#toc0_)\n"
   ]
  },
  {
   "attachments": {},
   "cell_type": "markdown",
   "metadata": {},
   "source": [
    "-   There are mutliple functions that are automatically available in Python\n",
    "-   **These are always available in Python: No need to import**\n",
    "-   They can be categorized according to their functionalities\n",
    "-   Here are some examples\n"
   ]
  },
  {
   "attachments": {},
   "cell_type": "markdown",
   "metadata": {},
   "source": [
    "| Functionality             | Examples                                                                        |\n",
    "| :------------------------ | :------------------------------------------------------------------------------ |\n",
    "| **I/O**                   | `input()`, `open()`, `print()`                                                  |\n",
    "| **Character Encoding**    | `chr()`, `ord()`                                                                |\n",
    "| **Math**                  | `abs()`, `divmod()`, `pow()`, `round()`, `sum()`                                |\n",
    "| **Ordering**              | `max()`, `min()`, `sorted()`                                                    |\n",
    "| **Collections/Iteration** | `all()`, `any()`, `iter()`, `len()`, `map()`, `next()`, `range()`, `reversed()` |\n",
    "| **Object Properties**     | `hash()`, `id()`, `isinstance()`, `type()`                                      |\n"
   ]
  },
  {
   "attachments": {},
   "cell_type": "markdown",
   "metadata": {},
   "source": [
    "Here is the [complete list of Built-in Python functions](https://docs.python.org/3/library/functions.html)\n"
   ]
  },
  {
   "cell_type": "markdown",
   "metadata": {},
   "source": [
    "## <a id='toc7_'></a>Input/Output [&#8593;](#toc0_)\n"
   ]
  },
  {
   "cell_type": "markdown",
   "metadata": {},
   "source": [
    "### <a id='toc7_1_'></a>`print()` Function [&#8593;](#toc0_)\n"
   ]
  },
  {
   "attachments": {},
   "cell_type": "markdown",
   "metadata": {},
   "source": [
    "-   **Standard output to the console**\n",
    "-   Prints arbitrary sequence of arguments\n",
    "    -   Separated by spaces\n",
    "    -   Followed by a trailing newline character `\\n`\n",
    "\n",
    "```py\n",
    "def print(val, sep=\" \", end=\"\\n\", file=None, flush=False):\n",
    "    ...\n",
    "```\n",
    "\n",
    "-   Arguments do not have to be strings\n",
    "    -   Auto-apply `str()` on all arguments\n",
    "-   **With no argument, simply output `\\n`**\n",
    "-   **By default, inserts a separating space between each pair of arguments**\n",
    "    -   Separator can be customized with `sep` argument\n",
    "    -   `sep` can be any string and any length\n",
    "-   **By default, inserts a new line after the final argument**\n",
    "    -   End can be customized or suppressed with `end` argument\n",
    "    -   `end` can be any string and any length\n",
    "-   **By default, sends output to the standard output (Console)**\n",
    "    -   Can be directed to a file using filestream with `file` argument\n",
    "-   **By default, does not forcibly flush the stream**\n",
    "    -   Can be changed with the `flush` argument\n",
    "    -   For example of using this, check [here](https://realpython.com/python-flush-print-output/)\n"
   ]
  },
  {
   "cell_type": "markdown",
   "metadata": {},
   "source": [
    "### <a id='toc7_2_'></a>`input()` Function [&#8593;](#toc0_)\n"
   ]
  },
  {
   "attachments": {},
   "cell_type": "markdown",
   "metadata": {},
   "source": [
    "-   **The primary means for acquiring information from the user via console**\n",
    "    -   Use `input()` for this\n",
    "    -   Displays a prompt (optional parameter)\n",
    "    -   Waits until the user enters some sequence of characters followed by the return key\n",
    "\n",
    "```py\n",
    "def input(prompt=\"\", /):\n",
    "    ...\n",
    "```\n",
    "\n",
    "-   **Returns the string of characters that were entered strictly before the return key**\n",
    "    -   The newline `\\n` is excluded from the return\n",
    "-   **Numeric values must be explicitly converted from strings**\n",
    "    -   However, error handling must be done appropriately\n",
    "-   String methods can be called on the result\n"
   ]
  },
  {
   "cell_type": "code",
   "execution_count": 28,
   "metadata": {},
   "outputs": [
    {
     "name": "stdout",
     "output_type": "stream",
     "text": [
      "If your age is 67, then your target fat-burning heart rate is 105.31.\n"
     ]
    }
   ],
   "source": [
    "# Example of Asking User Input\n",
    "# ----------------------------\n",
    "user_age: int\n",
    "\n",
    "try:\n",
    "    user_age = int(input(\"Enter your age in years: \"))\n",
    "except ValueError:\n",
    "    print(\"That was not a valid age. Defaulting age to average: 25.\")\n",
    "    user_age = 25\n",
    "\n",
    "# Heart Rates formula as per Med Sci Sports Exerc\n",
    "max_heart_rate: float = 206.9 - (0.67 * user_age)\n",
    "target_heart_rate: float = 0.65 * max_heart_rate\n",
    "print(f\"If your age is {user_age}, \", end=\"\")\n",
    "print(f\"then your target fat-burning heart rate is {target_heart_rate:.2f}.\")"
   ]
  },
  {
   "cell_type": "markdown",
   "metadata": {},
   "source": [
    "### <a id='toc7_3_'></a>Files [&#8593;](#toc0_)\n"
   ]
  },
  {
   "attachments": {},
   "cell_type": "markdown",
   "metadata": {},
   "source": [
    "-   Typically accessed via the `open()` function\n",
    "\n",
    "```py\n",
    "f = open(path, mode=\"r\", encoding=\"utf-8\")\n",
    "```\n",
    "\n",
    "-   **Returns a proxy (`f`) for interactions with the underlying file**\n",
    "-   Optional second parameter determines the file access mode\n",
    "    -   Default mode is `r` for _read_\n",
    "    -   `w` for _write with overwrite_\n",
    "    -   `a` for _append_\n",
    "    -   `rb` for _read as binary_\n",
    "    -   `wb` for _write with overwrite as binary_\n",
    "-   **When opening a file, Python maintain a cursor position**\n",
    "    -   _Position is measured as an offset from the beginning in number of bytes_\n",
    "    -   **With `r` and `w`, the default position is at the beginning of the file**\n",
    "    -   **With `a`, the default position is at the end of the file**\n",
    "-   `f.close()` closes the file\n",
    "    -   Ensures that any written contents are saved\n"
   ]
  },
  {
   "cell_type": "markdown",
   "metadata": {},
   "source": [
    "| Method               | Description                                                                                                                                                                  |\n",
    "| :------------------- | :--------------------------------------------------------------------------------------------------------------------------------------------------------------------------- |\n",
    "| `f.read()`           | Return the remaining contents of a readable file as a string                                                                                                                 |\n",
    "| `f.read(k)`          | Return the next _`k`-bytes_ of a readable file as a string                                                                                                                   |\n",
    "| `f.readline()`       | Return remainder of the current line of a readable file as a string                                                                                                          |\n",
    "| `f.readlines()`      | Return all remaining lines of a readable file as a list of strings                                                                                                           |\n",
    "| `f.seek(k)`          | Change the current position to be at the _`k`th byte_ of the file                                                                                                            |\n",
    "| `f.tell()`           | Return the current position, measured as byte-offset from the start                                                                                                          |\n",
    "| `f.write(str)`       | Write given string at current position of the writable file                                                                                                                  |\n",
    "| `f.writelines(seq)`  | Write each strings of the given sequence at the current position of the writable file<br>This does not insert any newlines other than those that are embedded in the strings |\n",
    "| `print(..., file=f)` | Redirect output of `print()` function to the file                                                                                                                            |\n"
   ]
  },
  {
   "cell_type": "markdown",
   "metadata": {},
   "source": [
    "#### <a id='toc7_3_1_'></a>Read From Files [&#8593;](#toc0_)\n"
   ]
  },
  {
   "attachments": {},
   "cell_type": "markdown",
   "metadata": {},
   "source": [
    "-   **Using the `read()` method**\n",
    "\n",
    "| Method          | Description                                                                                      |\n",
    "| :-------------- | :----------------------------------------------------------------------------------------------- |\n",
    "| `f.read(k)`     | Returns a string representing the next _`k`-bytes_ of the file, starting at the current position |\n",
    "| `f.read()`      | Read the remaining of the file, starting at the current position                                 |\n",
    "| `f.readline()`  | Read the contents of the file one line at a time                                                 |\n",
    "| `f.readlines()` | Return a list of each of the line in the file                                                    |\n",
    "\n",
    "-   **We can also read a file using a `for` loop syntax**\n",
    "\n",
    "```py\n",
    "for line in f:\n",
    "    print(line)\n",
    "```\n"
   ]
  },
  {
   "cell_type": "markdown",
   "metadata": {},
   "source": [
    "#### <a id='toc7_3_2_'></a>Write To Files [&#8593;](#toc0_)\n"
   ]
  },
  {
   "attachments": {},
   "cell_type": "markdown",
   "metadata": {},
   "source": [
    "-   Typically created with access mode `w` or `a`\n",
    "-   **Can use `f.write(str)` or `f.writeline(str)`**\n",
    "-   `write()` does not explicitly add a newline\n",
    "-   `print()` output can also be redirected to a file\n"
   ]
  },
  {
   "cell_type": "markdown",
   "metadata": {},
   "source": [
    "## <a id='toc8_'></a>Exception Handling [&#8593;](#toc0_)\n"
   ]
  },
  {
   "attachments": {},
   "cell_type": "markdown",
   "metadata": {},
   "source": [
    "-   Unexpected events that occur during program execution\n",
    "    -   From logical errors or unanticipated situations\n",
    "-   **In Python, _Exceptions_ are objects**\n",
    "    -   Raised exceptions can be caught and handled\n",
    "    -   Uncaught exceptions will cause the interpreter to exit the program execution\n"
   ]
  },
  {
   "cell_type": "markdown",
   "metadata": {},
   "source": [
    "### <a id='toc8_1_'></a>Common Exception Types [&#8593;](#toc0_)\n"
   ]
  },
  {
   "attachments": {},
   "cell_type": "markdown",
   "metadata": {},
   "source": [
    "-   Python includes a rich hierarchy of exception classes\n",
    "-   The `Exception` class serves as a base class for most other error types\n"
   ]
  },
  {
   "attachments": {},
   "cell_type": "markdown",
   "metadata": {},
   "source": [
    "| Exception Class     | Description                                                 |\n",
    "| :------------------ | :---------------------------------------------------------- |\n",
    "| `Exception`         | Base class for most error types                             |\n",
    "| `AttributeError`    | Object has no said attribute/member                         |\n",
    "| `EOFError`          | \"End of File\" reached for input or file                     |\n",
    "| `IOError`           | Some error during I/O operation                             |\n",
    "| `IndexError`        | Sequence index is out of bounds or invalid                  |\n",
    "| `KeyError`          | Non-existing key in set or dictionary                       |\n",
    "| `KeyboardInterrupt` | When CTRL+C is pressed during console program execution     |\n",
    "| `NameError`         | Non-existing identifier is used                             |\n",
    "| `StopIteration`     | When `next(iterator)` does not find another element         |\n",
    "| `TypeError`         | Wrong parameter type is being used in a function            |\n",
    "| `ValueError`        | Parameter has invalid value in the context of the operation |\n",
    "| `ZeroDivisionError` | 0 is used as a divisor                                      |\n"
   ]
  },
  {
   "cell_type": "markdown",
   "metadata": {},
   "source": [
    "### <a id='toc8_2_'></a>Raising an Exception [&#8593;](#toc0_)\n"
   ]
  },
  {
   "attachments": {},
   "cell_type": "markdown",
   "metadata": {},
   "source": [
    "-   **An exception is raised using the `raise` statement with an appropriate exception class**\n",
    "-   An error message can be passed\n",
    "\n",
    "```py\n",
    "raise ValueError(\"x cannot be negative\")\n",
    "```\n",
    "\n",
    "-   If exception is not caught, the execution of the function immediately ceases\n",
    "-   The exception is propagated to the calling context (and possibly beyond)\n",
    "-   A potential fix for this is to check the parameters of a function before usage\n"
   ]
  },
  {
   "cell_type": "code",
   "execution_count": 29,
   "metadata": {},
   "outputs": [],
   "source": [
    "# IMPORT MODULES\n",
    "# --------------\n",
    "# from typing import TypeVar\n",
    "\n",
    "# CUSTOM TYPES\n",
    "# ------------\n",
    "# TNumeric = TypeVar(\"TNumeric\", int, float)\n",
    "\n",
    "\n",
    "def sqrt_func(x: TNumeric) -> None:\n",
    "    # x must be a number\n",
    "    if not isinstance(x, (int, float)):\n",
    "        raise TypeError(\"x must be numeric\")\n",
    "\n",
    "    # x must be non-negative\n",
    "    if x < 0:\n",
    "        raise ValueError(\"x cannot be negative\")\n",
    "\n",
    "    # do the real work here..."
   ]
  },
  {
   "attachments": {},
   "cell_type": "markdown",
   "metadata": {},
   "source": [
    "-   Checking the type of an object: `isinstance(obj, cls)`\n",
    "-   However, each check is an additional execution time\n",
    "    -   If checking everything, it would be counter-productive\n"
   ]
  },
  {
   "cell_type": "code",
   "execution_count": 30,
   "metadata": {},
   "outputs": [],
   "source": [
    "# IMPORT MODULES\n",
    "# --------------\n",
    "from collections.abc import Iterable\n",
    "\n",
    "# from typing import TypeVar\n",
    "\n",
    "# TYPE VARS\n",
    "# ---------\n",
    "# TNumeric = TypeVar(\"TNumeric\", int, float)\n",
    "\n",
    "\n",
    "def sum(values: Iterable[TNumeric]) -> TNumeric:\n",
    "    \"\"\"Example of the sum function with extreme checks\"\"\"\n",
    "\n",
    "    if not isinstance(values, Iterable):\n",
    "        raise TypeError(\"Parameter must be an iterable type\")\n",
    "\n",
    "    total: TNumeric = 0\n",
    "    for v in values:\n",
    "        if not isinstance(v, (int, float)):\n",
    "            raise TypeError(\"Elements must be numeric\")\n",
    "        total += v\n",
    "    return total"
   ]
  },
  {
   "attachments": {},
   "cell_type": "markdown",
   "metadata": {},
   "source": [
    "-   `collections.abc.Iterable`\n",
    "    -   Includes all of Python's iterable containers types that guarantee support for the for-loop syntax\n",
    "-   Within the body of the for-loop, each element is verified as numeric before being added to the total\n"
   ]
  },
  {
   "cell_type": "code",
   "execution_count": 31,
   "metadata": {},
   "outputs": [],
   "source": [
    "# IMPORT MODULES\n",
    "# --------------\n",
    "from typing import Any\n",
    "\n",
    "\n",
    "def sum2(values: Any) -> Any:\n",
    "    \"\"\"Example of the sum function without checks\"\"\"\n",
    "    total: Any = 0\n",
    "    for v in values:\n",
    "        total += v\n",
    "    return total"
   ]
  },
  {
   "attachments": {},
   "cell_type": "markdown",
   "metadata": {},
   "source": [
    "-   **Even without the explicit checks, appropriate exceptions are raised naturally by the code**\n",
    "    -   If there is an error, an exception will be thrown\n",
    "    -   In some situations, it is preferable to do minimal error checking\n"
   ]
  },
  {
   "cell_type": "markdown",
   "metadata": {},
   "source": [
    "### <a id='toc8_3_'></a>Catching an Exception [&#8593;](#toc0_)\n"
   ]
  },
  {
   "attachments": {},
   "cell_type": "markdown",
   "metadata": {},
   "source": [
    "-   In complex programs, there is always the possibility of errors, even with guaranties\n",
    "-   Philosophy 1:\n",
    "    -   _Entirely avoid the possibility of an exception being raised_\n",
    "    -   _Use proactive conditional tests_\n",
    "    -   _Safeguard everything_\n",
    "\n",
    "```py\n",
    "if y != 0:\n",
    "    ratio = x / y\n",
    "else:\n",
    "    # ... do something else ...\n",
    "```\n",
    "\n",
    "-   Philosophy 2:\n",
    "    -   _It is easier to ask for forgiveness than it is to get permission_\n",
    "    -   Spend extra execution time safeguarding against every possible exceptional case\n",
    "    -   As long as there is a mechanism for coping with a problem after it arises\n",
    "    -   **This mechanism is `try-except-finally`**\n",
    "\n",
    "```py\n",
    "try:\n",
    "    ratio = x / y\n",
    "except ZeroDivisionError:\n",
    "    # ... do something else ...\n",
    "```\n"
   ]
  },
  {
   "attachments": {},
   "cell_type": "markdown",
   "metadata": {},
   "source": [
    "-   The `try` block is the primary code to be executed\n",
    "    -   Generally a larger block of indented code\n",
    "-   The non-exceptional case runs efficiently\n",
    "    -   No extraneous checks for the exceptional condition\n",
    "    -   But handling the exceptional cases requires slightly more time\n",
    "-   `try-except` is best used when\n",
    "    -   There is reason to believe that the exceptional case is relatively unlikely\n",
    "    -   Or it is prohibitively expensive to evaluate a condition to avoid the exception\n"
   ]
  },
  {
   "attachments": {},
   "cell_type": "markdown",
   "metadata": {},
   "source": [
    "-   **Exception handling is particularly useful with user inputs and with manipulating files**\n",
    "    -   Opening files may raise an `IOError` for a variety of reasons\n",
    "    -   Easier to attempt the command and catch the resulting error than accurately predict whether the command will succeed\n"
   ]
  },
  {
   "cell_type": "code",
   "execution_count": 32,
   "metadata": {},
   "outputs": [
    {
     "name": "stdout",
     "output_type": "stream",
     "text": [
      "Unable to open the file:\n",
      "[Errno 2] No such file or directory: 'bad_file_example.txt'\n"
     ]
    }
   ],
   "source": [
    "# IMPORT MODULES\n",
    "# --------------\n",
    "from io import TextIOWrapper\n",
    "\n",
    "try:\n",
    "    fp: TextIOWrapper = open(\"bad_file_example.txt\")\n",
    "except IOError as e:\n",
    "    print(f\"Unable to open the file:\\n{e}\")"
   ]
  },
  {
   "attachments": {},
   "cell_type": "markdown",
   "metadata": {},
   "source": [
    "-   **A try-statement may handle more than one type of exception**\n",
    "    -   We can use a single except-statement\n",
    "    -   We can use a tuple: `(ValueError, EOFError)`\n",
    "-   **When an error is raised, the remainder of that body is immediately skipped**\n"
   ]
  },
  {
   "cell_type": "code",
   "execution_count": 33,
   "metadata": {},
   "outputs": [],
   "source": [
    "some_age: int = -1  # an initially invalid choice\n",
    "\n",
    "while some_age <= 0:\n",
    "    try:\n",
    "        some_age = int(input(\"Enter your age in years:\"))\n",
    "        if some_age <= 0:\n",
    "            print(\"Your age must be positive\")\n",
    "    # Handle multiple exceptions at once\n",
    "    except (ValueError, EOFError):\n",
    "        print(\"Invalid response\")"
   ]
  },
  {
   "attachments": {},
   "cell_type": "markdown",
   "metadata": {},
   "source": [
    "-   `pass` is a statement that does nothing\n",
    "    -   But it can serve syntactically as a body of a control structure\n",
    "    -   We quietly catch the exception\n"
   ]
  },
  {
   "attachments": {},
   "cell_type": "markdown",
   "metadata": {},
   "source": [
    "-   For different responses for different types of exceptions, we can use multiple `except` cases\n"
   ]
  },
  {
   "cell_type": "code",
   "execution_count": 34,
   "metadata": {},
   "outputs": [],
   "source": [
    "some_age = -1  # an initially invalid choice\n",
    "\n",
    "while some_age <= 0:\n",
    "    try:\n",
    "        some_age = int(input(\"Enter your age in years:\"))\n",
    "        if some_age <= 0:\n",
    "            print(\"Your age must be positive\")\n",
    "    except ValueError:\n",
    "        print(\"That is an invalid age specification\")\n",
    "    except EOFError:\n",
    "        print(\"There was an unexpected error reading input.\")\n",
    "        raise  # let's re-raise this exception"
   ]
  },
  {
   "attachments": {},
   "cell_type": "markdown",
   "metadata": {},
   "source": [
    "-   **Using `raise` with no argument re-raise the same exception that is currently being handled**\n",
    "-   `except` without specified expection class can be used as a _catch-all_\n",
    "    -   However, this technique should be used sparingly\n",
    "    -   It is difficult to suggest how to handle an error of an unknown type\n",
    "-   `finally` clause will always be executed in the standard or exceptional cases\n",
    "    -   Typically used for critical cleanup work such as closing an open file\n"
   ]
  },
  {
   "cell_type": "markdown",
   "metadata": {},
   "source": [
    "## <a id='toc9_'></a>Iterators and Generators [&#8593;](#toc0_)\n"
   ]
  },
  {
   "cell_type": "markdown",
   "metadata": {},
   "source": [
    "### <a id='toc9_1_'></a>Iterators [&#8593;](#toc0_)\n"
   ]
  },
  {
   "attachments": {},
   "cell_type": "markdown",
   "metadata": {},
   "source": [
    "-   There are many objects in Python that qualify as _Iterable_\n",
    "    -   `list`, `tuple`, `set`, `string`, `dictionary`, `file`, some user-defined types\n",
    "    -   User-Defined Types can also support iteration\n",
    "-   Python's iteration is based on:\n",
    "    -   **Iterator**\n",
    "        -   Object that manages the iteration through series of values\n",
    "        -   Send calls to the built-in function `next(iterator)`\n",
    "        -   Produces a subsequent element from the underlying series\n",
    "        -   `StopIteration` exception raised when there are no more element\n",
    "    -   **Iterable**\n",
    "        -   Object `obj` that produces an _Iterator_ via the syntax `iter(obj)`\n",
    "        -   **An _Iterator_ can be produced from an _Iterable_ object with `iter(obj)`**\n"
   ]
  },
  {
   "cell_type": "code",
   "execution_count": 35,
   "metadata": {},
   "outputs": [
    {
     "name": "stdout",
     "output_type": "stream",
     "text": [
      "1 2 3 4 5 "
     ]
    }
   ],
   "source": [
    "# IMPORT MODULES\n",
    "# --------------\n",
    "from typing import Iterator\n",
    "\n",
    "nums_ints: List[int] = [1, 2, 3, 4, 5]  # Iterable\n",
    "iter_nums: Iterator[int] = iter(nums_ints)  # Iterator\n",
    "\n",
    "print(next(iter_nums), end=\" \")  # => 1\n",
    "print(next(iter_nums), end=\" \")  # => 2\n",
    "print(next(iter_nums), end=\" \")  # => 3\n",
    "print(next(iter_nums), end=\" \")  # => 4\n",
    "print(next(iter_nums), end=\" \")  # => 5"
   ]
  },
  {
   "attachments": {},
   "cell_type": "markdown",
   "metadata": {},
   "source": [
    "-   `for` loop automates the call `next(iterator)` to get the next value of the iterator\n",
    "    -   Automatically creates an iterator from the iterable\n",
    "    -   Repeatedly calls `next(iterator)`\n",
    "    -   Stops execution when hitting `StopIteration`\n",
    "-   **It is possible to create multiple iterators from the same iterable object**\n",
    "    -   Each iterator maintain its own state of progress\n",
    "    -   Iterators typically maintain their state with _reference_ to the original collection\n",
    "    -   **If the contents of the original collection are modified after the iterator is constructed but before the iteration is complete, the iterator will use the updated contents**\n"
   ]
  },
  {
   "attachments": {},
   "cell_type": "markdown",
   "metadata": {},
   "source": [
    "-   Some functions and classes can produce implicit iterables\n",
    "    -   `range()`\n",
    "        -   Returns a range of object that is iterable\n",
    "        -   Generates the values one at a time\n",
    "        -   This _Lazy Evaluation_ saves on memory from storing a list of values\n",
    "        -   If the loop is interrupted, no time will have been spent computing unused values of the range\n",
    "    -   **_Lazy Evaluation_ is used in many Python libraries**\n",
    "        -   `dict.keys()`, `dict.values()`, `dict.items()`\n",
    "        -   Lists can be produced from these lazy evaluations by calling `list()` on the returned results\n",
    "        -   Tuples can be constructed in similar way with `tuple()`\n"
   ]
  },
  {
   "cell_type": "markdown",
   "metadata": {},
   "source": [
    "### <a id='toc9_2_'></a>Generators [&#8593;](#toc0_)\n"
   ]
  },
  {
   "attachments": {},
   "cell_type": "markdown",
   "metadata": {},
   "source": [
    "-   The most convenient way to create custom iterators\n",
    "-   Very similar to a function, but uses `yield` instead of `return`\n"
   ]
  },
  {
   "cell_type": "code",
   "execution_count": 36,
   "metadata": {},
   "outputs": [],
   "source": [
    "# IMPORT MODULES\n",
    "# --------------\n",
    "from typing import List\n",
    "\n",
    "\n",
    "def factors_func(n: int) -> List[int]:\n",
    "    \"\"\"A traditional function that computes factors.\n",
    "\n",
    "    Args:\n",
    "        - `n` (`int`): The integer that we want to compute the factors of.\n",
    "\n",
    "    Returns:\n",
    "        `List[int]`: The factors of the given number.\n",
    "    \"\"\"\n",
    "\n",
    "    # Store factors in a new list\n",
    "    factors: List[int] = []\n",
    "\n",
    "    for k in range(1, n + 1):\n",
    "        if n % k == 0:  # Divides evenly, thus k is a factor\n",
    "            # Add k to the list of factors\n",
    "            factors.append(k)\n",
    "\n",
    "    # Return the entire list\n",
    "    return factors"
   ]
  },
  {
   "cell_type": "code",
   "execution_count": 37,
   "metadata": {},
   "outputs": [
    {
     "name": "stdout",
     "output_type": "stream",
     "text": [
      "[1, 2, 4, 5, 10, 20, 25, 50, 100]\n"
     ]
    }
   ],
   "source": [
    "print(factors_func(100))"
   ]
  },
  {
   "cell_type": "code",
   "execution_count": 38,
   "metadata": {},
   "outputs": [],
   "source": [
    "# IMPORT MODULES\n",
    "# --------------\n",
    "from typing import Generator\n",
    "\n",
    "\n",
    "def factors_gen(n: int) -> Generator[int, None, None]:\n",
    "    \"\"\"A generator that computes factors\n",
    "\n",
    "    Args:\n",
    "        - `n` (`int`): The integer that we want to compute the factors of.\n",
    "\n",
    "    Yields:\n",
    "        `Generator[int, None, None]`: Generator of the factors of `n`\n",
    "    \"\"\"\n",
    "\n",
    "    for k in range(1, n + 1):\n",
    "        if n % k == 0:  # Divides evenly, thus k is a factor\n",
    "            # Yield this factor as next result\n",
    "            yield k"
   ]
  },
  {
   "cell_type": "code",
   "execution_count": 39,
   "metadata": {},
   "outputs": [
    {
     "name": "stdout",
     "output_type": "stream",
     "text": [
      "1 2 4 5 10 20 25 50 100 "
     ]
    }
   ],
   "source": [
    "for x in factors_gen(100):  # Creates an instance of the generator, which is an iterator\n",
    "    print(x, end=\" \")"
   ]
  },
  {
   "attachments": {},
   "cell_type": "markdown",
   "metadata": {},
   "source": [
    "-   **It is illegal to combine `yield` and `return` statements in the same implementation**\n",
    "    -   Except if `return` has no argument and is used to terminate early\n",
    "-   A value is _yielded_ at each iteration\n",
    "-   A `StopIteration` is automatically raised when the flow reaches the end of the procedure\n",
    "-   **A generator can have multiple `yield` statements in different constructs**\n",
    "    -   The generated series determined by the natural flow of control\n"
   ]
  },
  {
   "cell_type": "code",
   "execution_count": 40,
   "metadata": {},
   "outputs": [],
   "source": [
    "def factors_gen_2(n: int) -> Generator[int, None, None]:\n",
    "    \"\"\"A generator that computes factors\n",
    "\n",
    "    Args:\n",
    "        - `n` (`int`): The integer that we want to compute the factors of.\n",
    "\n",
    "    Yields:\n",
    "        `Generator[int, None, None]`: Generator of the factors of `n`\n",
    "    \"\"\"\n",
    "\n",
    "    # Declare and initialize variables\n",
    "    k: int = 1\n",
    "\n",
    "    while k * k < n:  # While k < sqrt(n)\n",
    "        if n % k == 0:\n",
    "            yield k\n",
    "            yield n // k\n",
    "        k += 1\n",
    "\n",
    "    if k * k == n:  # Special case if n is perfect square\n",
    "        yield k"
   ]
  },
  {
   "cell_type": "code",
   "execution_count": 41,
   "metadata": {},
   "outputs": [
    {
     "name": "stdout",
     "output_type": "stream",
     "text": [
      "1 100 2 50 4 25 5 20 10 "
     ]
    }
   ],
   "source": [
    "for x in factors_gen_2(100):\n",
    "    print(x, end=\" \")"
   ]
  },
  {
   "attachments": {},
   "cell_type": "markdown",
   "metadata": {},
   "source": [
    "-   Here, the factors are not generated in strictly increasing order\n",
    "-   The results are only computed if requested\n",
    "-   The entire series need not reside in memory at one time\n",
    "-   A generator can effectively produce an infinite series of values\n"
   ]
  },
  {
   "cell_type": "code",
   "execution_count": 42,
   "metadata": {},
   "outputs": [],
   "source": [
    "def fibonacci_gen() -> Generator[int, None, None]:\n",
    "    \"\"\"A generator of fibonaci sequence\n",
    "\n",
    "    Yields:\n",
    "        `Generator[int, None, None]`: The sequence of Fibonacci numbers\n",
    "    \"\"\"\n",
    "\n",
    "    # Declare and initialize variables\n",
    "    a: int = 0\n",
    "    b: int = 1\n",
    "\n",
    "    while True:  # keep going...\n",
    "        yield a  # report value, a, during this pass\n",
    "        future = a + b\n",
    "        a = b  # this will be next value reported\n",
    "        b = future  # and subsequently this"
   ]
  },
  {
   "cell_type": "code",
   "execution_count": 43,
   "metadata": {},
   "outputs": [
    {
     "name": "stdout",
     "output_type": "stream",
     "text": [
      "0 1 1 2 3 5 8 13 21 34 55 89 144 233 377 610 987 1597 "
     ]
    }
   ],
   "source": [
    "# This would be an infinite loop without an if condition\n",
    "for x in fibonacci_gen():\n",
    "    print(x, end=\" \")\n",
    "    # Use a condition to eventually break\n",
    "    if x > 1000:\n",
    "        break"
   ]
  },
  {
   "cell_type": "markdown",
   "metadata": {},
   "source": [
    "## <a id='toc10_'></a>Additional Python Conveniences [&#8593;](#toc0_)\n"
   ]
  },
  {
   "attachments": {},
   "cell_type": "markdown",
   "metadata": {},
   "source": [
    "-   These are Python conveniences for writing clean and concise code\n"
   ]
  },
  {
   "cell_type": "markdown",
   "metadata": {},
   "source": [
    "### <a id='toc10_1_'></a>Conditional Expressions [&#8593;](#toc0_)\n"
   ]
  },
  {
   "attachments": {},
   "cell_type": "markdown",
   "metadata": {},
   "source": [
    "```python\n",
    "expr1 if condition else expr2\n",
    "```\n"
   ]
  },
  {
   "attachments": {},
   "cell_type": "markdown",
   "metadata": {},
   "source": [
    "-   Equivalent to syntax `condition ? expr1 : expr2` in other languages\n",
    "-   The value from the expression can be returned from a function, assigned to a variable, used as function parameter...\n",
    "-   Helpful to shorten source code\n",
    "-   However, use only when it improves readability\n"
   ]
  },
  {
   "cell_type": "code",
   "execution_count": 44,
   "metadata": {},
   "outputs": [],
   "source": [
    "# Absolute Value Using If-Else\n",
    "def abs(n: TNumeric) -> TNumeric:\n",
    "    \"\"\"Return the absolute value of a given number\n",
    "\n",
    "    Args:\n",
    "        - `n` (`TNumeric`): The number that we want the absolute value of\n",
    "\n",
    "    Returns:\n",
    "        `TNumeric`: The value of the absolute value\n",
    "    \"\"\"\n",
    "\n",
    "    if n >= 0:\n",
    "        return n\n",
    "    else:\n",
    "        return -n"
   ]
  },
  {
   "cell_type": "code",
   "execution_count": 45,
   "metadata": {},
   "outputs": [
    {
     "name": "stdout",
     "output_type": "stream",
     "text": [
      "67\n"
     ]
    }
   ],
   "source": [
    "print(abs(-67))"
   ]
  },
  {
   "cell_type": "code",
   "execution_count": 46,
   "metadata": {},
   "outputs": [],
   "source": [
    "# Absolute Value Using Conditional Expression\n",
    "def abs_val(n: TNumeric) -> TNumeric:\n",
    "    \"\"\"Return the absolute value of a given number\n",
    "\n",
    "    Args:\n",
    "        - `n` (`TNumeric`): The number that we want the absolute value of\n",
    "\n",
    "    Returns:\n",
    "        `TNumeric`: The value of the absolute value\n",
    "    \"\"\"\n",
    "\n",
    "    return n if n >= 0 else -n"
   ]
  },
  {
   "cell_type": "code",
   "execution_count": 47,
   "metadata": {},
   "outputs": [
    {
     "name": "stdout",
     "output_type": "stream",
     "text": [
      "100\n"
     ]
    }
   ],
   "source": [
    "print(abs_val(-100))"
   ]
  },
  {
   "cell_type": "markdown",
   "metadata": {},
   "source": [
    "### <a id='toc10_2_'></a>Comprehension Expressions [&#8593;](#toc0_)\n"
   ]
  },
  {
   "attachments": {},
   "cell_type": "markdown",
   "metadata": {},
   "source": [
    "-   Useful to produce series of values based on another series of values\n"
   ]
  },
  {
   "cell_type": "markdown",
   "metadata": {},
   "source": [
    "#### <a id='toc10_2_1_'></a>List Comprehension [&#8593;](#toc0_)\n"
   ]
  },
  {
   "attachments": {},
   "cell_type": "markdown",
   "metadata": {},
   "source": [
    "```python\n",
    "result = [expr for val in iterable if condition]\n",
    "```\n"
   ]
  },
  {
   "attachments": {},
   "cell_type": "markdown",
   "metadata": {},
   "source": [
    "-   `expr` and `condition` may both depend on `val`\n",
    "-   `if`-clause is optional\n",
    "-   Equivalent to the following block\n"
   ]
  },
  {
   "attachments": {},
   "cell_type": "markdown",
   "metadata": {},
   "source": [
    "```python\n",
    "result = []\n",
    "for val in iterable:\n",
    "    if condition:\n",
    "        result.append(expr)\n",
    "```\n"
   ]
  },
  {
   "cell_type": "code",
   "execution_count": 48,
   "metadata": {},
   "outputs": [],
   "source": [
    "# IMPORT MODULES\n",
    "# --------------\n",
    "from typing import List\n",
    "\n",
    "\n",
    "# Squares using for-loop\n",
    "def squares(n: int) -> List[int]:\n",
    "    \"\"\"Return a list of `n` squared numbers starting from 1.\n",
    "\n",
    "    Args:\n",
    "        - `n` (`int`): The count of squares to return in the list\n",
    "\n",
    "    Returns:\n",
    "        `List[int]`: List containing the squares\n",
    "    \"\"\"\n",
    "\n",
    "    # Declare and initialize variables\n",
    "    squares: List[int] = []\n",
    "\n",
    "    for k in range(1, n + 1):\n",
    "        squares.append(k * k)\n",
    "\n",
    "    return squares"
   ]
  },
  {
   "cell_type": "code",
   "execution_count": 49,
   "metadata": {},
   "outputs": [
    {
     "name": "stdout",
     "output_type": "stream",
     "text": [
      "[1, 4, 9, 16, 25, 36, 49, 64, 81, 100]\n"
     ]
    }
   ],
   "source": [
    "print(squares(10))"
   ]
  },
  {
   "cell_type": "code",
   "execution_count": 50,
   "metadata": {},
   "outputs": [],
   "source": [
    "# IMPORT MODULES\n",
    "# --------------\n",
    "from typing import List\n",
    "\n",
    "\n",
    "# Squares using List Comprehension\n",
    "def squares_comp(n: int) -> List[int]:\n",
    "    \"\"\"Return a list of `n` squared numbers starting from 1.\n",
    "\n",
    "    Args:\n",
    "        - `n` (`int`): The count of squares to return in the list\n",
    "\n",
    "    Returns:\n",
    "        `List[int]`: List containing the squares\n",
    "    \"\"\"\n",
    "    return [k * k for k in range(1, n + 1)]"
   ]
  },
  {
   "cell_type": "code",
   "execution_count": 51,
   "metadata": {},
   "outputs": [
    {
     "name": "stdout",
     "output_type": "stream",
     "text": [
      "[1, 4, 9, 16, 25, 36, 49, 64, 81, 100]\n"
     ]
    }
   ],
   "source": [
    "print(squares_comp(10))"
   ]
  },
  {
   "cell_type": "code",
   "execution_count": 52,
   "metadata": {},
   "outputs": [],
   "source": [
    "# IMPORT MODULES\n",
    "# --------------\n",
    "from typing import List\n",
    "\n",
    "\n",
    "# List of factors for a given integer\n",
    "def factors_func_2(n: int) -> List[int]:\n",
    "    \"\"\"A traditional function that computes factors.\n",
    "\n",
    "    Args:\n",
    "        - `n` (`int`): The integer that we want to compute the factors of.\n",
    "\n",
    "    Returns:\n",
    "        `List[int]`: The factors of the given number.\n",
    "    \"\"\"\n",
    "\n",
    "    return [k for k in range(1, n + 1) if n % k == 0]"
   ]
  },
  {
   "cell_type": "code",
   "execution_count": 53,
   "metadata": {},
   "outputs": [
    {
     "name": "stdout",
     "output_type": "stream",
     "text": [
      "[1, 2, 4, 5, 10, 20, 25, 50, 100]\n"
     ]
    }
   ],
   "source": [
    "print(factors_func_2(100))"
   ]
  },
  {
   "cell_type": "markdown",
   "metadata": {},
   "source": [
    "#### <a id='toc10_2_2_'></a>Other Comprehensions [&#8593;](#toc0_)\n"
   ]
  },
  {
   "attachments": {},
   "cell_type": "markdown",
   "metadata": {},
   "source": [
    "-   List comprehension is the most prominent\n",
    "-   But other types of comprehensions also exist\n",
    "-   The syntax is pretty much the same\n",
    "    -   _List Comprehension_\n",
    "    -   _Set Comprehension_\n",
    "    -   _Generator Comprehension_\n",
    "        -   Particularly attractive when results do not need to be stored in memory\n",
    "    -   _Dictionary Comprehension_\n"
   ]
  },
  {
   "cell_type": "code",
   "execution_count": 54,
   "metadata": {},
   "outputs": [
    {
     "name": "stdout",
     "output_type": "stream",
     "text": [
      "[0, 1, 4, 9, 16, 25, 36, 49, 64, 81]\n"
     ]
    }
   ],
   "source": [
    "# List Comprehension using []\n",
    "print([k * k for k in range(10)])"
   ]
  },
  {
   "cell_type": "code",
   "execution_count": 55,
   "metadata": {},
   "outputs": [
    {
     "name": "stdout",
     "output_type": "stream",
     "text": [
      "{0, 1, 64, 4, 36, 9, 16, 49, 81, 25}\n"
     ]
    }
   ],
   "source": [
    "# Set comprehension using {}: There is no order expected\n",
    "print({k * k for k in range(10)})"
   ]
  },
  {
   "cell_type": "code",
   "execution_count": 56,
   "metadata": {},
   "outputs": [
    {
     "name": "stdout",
     "output_type": "stream",
     "text": [
      "0 1 4 9 16 25 36 49 64 81 "
     ]
    }
   ],
   "source": [
    "# Generator comprehension using ()\n",
    "gen_int: Generator[int, None, None] = (k * k for k in range(10))\n",
    "\n",
    "for x in gen_int:\n",
    "    print(x, end=\" \")"
   ]
  },
  {
   "cell_type": "code",
   "execution_count": 57,
   "metadata": {},
   "outputs": [
    {
     "name": "stdout",
     "output_type": "stream",
     "text": [
      "{0: 0, 1: 1, 2: 4, 3: 9, 4: 16, 5: 25, 6: 36, 7: 49, 8: 64, 9: 81}\n"
     ]
    }
   ],
   "source": [
    "# Dictionary comprehension\n",
    "print({k: k * k for k in range(10)})"
   ]
  },
  {
   "cell_type": "markdown",
   "metadata": {},
   "source": [
    "### <a id='toc10_3_'></a>Packing and Unpacking Expressions [&#8593;](#toc0_)\n"
   ]
  },
  {
   "attachments": {},
   "cell_type": "markdown",
   "metadata": {},
   "source": [
    "-   Involves the treatment of tuples and sequences\n",
    "-   _Automatic Tuple Packing_\n",
    "    -   A series of comma-separated-values as expression will be interpreted as a tuple\n",
    "    -   This is very useful when returning multiple values from a function\n"
   ]
  },
  {
   "cell_type": "code",
   "execution_count": 58,
   "metadata": {},
   "outputs": [],
   "source": [
    "# IMPORT MODULES\n",
    "# --------------\n",
    "from typing import Tuple\n",
    "\n",
    "\n",
    "def simple_return() -> Tuple[int, ...]:\n",
    "    \"\"\"Return a demo packed tuple.\n",
    "\n",
    "    Returns:\n",
    "        `Tuple[int]`: A tuple of integers\n",
    "    \"\"\"\n",
    "    return 1, 2, 3, 4"
   ]
  },
  {
   "attachments": {},
   "cell_type": "markdown",
   "metadata": {},
   "source": [
    "-   _Automatic Unpacking_\n",
    "    -   A packed tuple can be assigned to multiple variables\n",
    "    -   The values will be assigned in order\n",
    "-   **The assigned value can be any iterable**\n",
    "    -   **Number of variables on the left-hand side == Number of elements in the iteration**\n",
    "    -   The number of variables must be the same as the number of values to unpack\n",
    "    -   Else, `ValueError: too many values to unpack`\n",
    "    -   Mostly used for _Tuple Unpacking_ from function returns or tuple values in lists\n",
    "-   **NOTE: When using tuple unpacking, the `mypy` types must be declared in advance**\n"
   ]
  },
  {
   "cell_type": "code",
   "execution_count": 59,
   "metadata": {},
   "outputs": [
    {
     "name": "stdout",
     "output_type": "stream",
     "text": [
      "1 2 3 4\n"
     ]
    }
   ],
   "source": [
    "# Declaring the variables types in advance\n",
    "a: int\n",
    "b: int\n",
    "c: int\n",
    "d: int\n",
    "\n",
    "# Tuple-unpacking values from a function\n",
    "a, b, c, d = simple_return()\n",
    "# a = 1; b = 2; c = 3; d = 4\n",
    "\n",
    "print(a, b, c, d)"
   ]
  },
  {
   "cell_type": "code",
   "execution_count": 60,
   "metadata": {},
   "outputs": [
    {
     "name": "stdout",
     "output_type": "stream",
     "text": [
      "18 4\n"
     ]
    }
   ],
   "source": [
    "a, b = divmod(94, 5)\n",
    "print(a, b)"
   ]
  },
  {
   "cell_type": "code",
   "execution_count": 61,
   "metadata": {},
   "outputs": [
    {
     "name": "stdout",
     "output_type": "stream",
     "text": [
      "fname John\n",
      "lname Appleseed\n",
      "age 30\n"
     ]
    }
   ],
   "source": [
    "from typing import Any\n",
    "\n",
    "person: dict[str, Any] = {\"fname\": \"John\", \"lname\": \"Appleseed\", \"age\": 30}\n",
    "\n",
    "# Tuple-unpacking values from a dictionary\n",
    "for k, v in person.items():\n",
    "    print(k, v)"
   ]
  },
  {
   "cell_type": "markdown",
   "metadata": {},
   "source": [
    "#### <a id='toc10_3_1_'></a>Simultaneous Assignments [&#8593;](#toc0_)\n"
   ]
  },
  {
   "attachments": {},
   "cell_type": "markdown",
   "metadata": {},
   "source": [
    "-   Combining automatic packing and unpacking forms _Simultaneous Assignements_\n",
    "-   Explicitly assign a series of values to a series of identifiers\n"
   ]
  },
  {
   "cell_type": "code",
   "execution_count": 62,
   "metadata": {},
   "outputs": [
    {
     "name": "stdout",
     "output_type": "stream",
     "text": [
      "6 2 5\n"
     ]
    }
   ],
   "source": [
    "# Declaring the variable types in advance\n",
    "x0: int\n",
    "y0: int\n",
    "z0: int\n",
    "\n",
    "# Simultaneous assignment\n",
    "x0, y0, z0 = 6, 2, 5\n",
    "\n",
    "print(x0, y0, z0)"
   ]
  },
  {
   "attachments": {},
   "cell_type": "markdown",
   "metadata": {},
   "source": [
    "-   Right-side is packed into a tuple\n",
    "-   Tuple is automatically unpacked into the identifiers\n",
    "-   Right-side is evaluated first, then the left-side\n",
    "-   This allows value-swapping efficiently\n"
   ]
  },
  {
   "cell_type": "code",
   "execution_count": 63,
   "metadata": {},
   "outputs": [
    {
     "name": "stdout",
     "output_type": "stream",
     "text": [
      "Before: 6 2\n",
      "After: 2 6\n"
     ]
    }
   ],
   "source": [
    "print(\"Before:\", x0, y0)\n",
    "x0, y0 = y0, x0\n",
    "print(\"After:\", x0, y0)"
   ]
  },
  {
   "attachments": {},
   "cell_type": "markdown",
   "metadata": {},
   "source": [
    "-   For variable swapping:\n",
    "    -   Without _Simultaneous Assignment_, we would have to make use of a temporary variable\n",
    "    -   With _Simultaneous Assignment_, the unnamed tuple implicitly serves as the temporary variable\n"
   ]
  },
  {
   "cell_type": "code",
   "execution_count": 64,
   "metadata": {},
   "outputs": [
    {
     "name": "stdout",
     "output_type": "stream",
     "text": [
      "Before: 2 6\n",
      "After: 6 2\n"
     ]
    }
   ],
   "source": [
    "# Declare variable\n",
    "temp: int\n",
    "\n",
    "print(\"Before:\", x0, y0)\n",
    "\n",
    "# Value swapping is equivalent to the following snippet\n",
    "temp = y0\n",
    "y0 = x0\n",
    "x0 = temp\n",
    "print(\"After:\", x0, y0)"
   ]
  },
  {
   "attachments": {},
   "cell_type": "markdown",
   "metadata": {},
   "source": [
    "-   Simultaneous assignment can greatly simplify codes\n",
    "-   We could review the above `fibonacci` procedure above as follows\n"
   ]
  },
  {
   "cell_type": "code",
   "execution_count": 65,
   "metadata": {},
   "outputs": [],
   "source": [
    "def fibonacci_gen_2() -> Generator[int, None, None]:\n",
    "    \"\"\"A generator of fibonaci sequence\n",
    "\n",
    "    Yields:\n",
    "        `Generator[int, None, None]`: The sequence of Fibonacci numbers\n",
    "    \"\"\"\n",
    "    # Declare variables\n",
    "    a: int\n",
    "    b: int\n",
    "\n",
    "    # Initialize variable\n",
    "    a, b = 0, 1\n",
    "\n",
    "    while True:  # keep going...\n",
    "        yield a  # report value, a, during this pass\n",
    "        a, b = b, a + b"
   ]
  },
  {
   "cell_type": "code",
   "execution_count": 66,
   "metadata": {},
   "outputs": [
    {
     "name": "stdout",
     "output_type": "stream",
     "text": [
      "0 1 1 2 3 5 8 13 21 34 55 89 144 233 377 610 987 "
     ]
    }
   ],
   "source": [
    "# This would be an infinite loop without an if condition\n",
    "for x in fibonacci_gen_2():\n",
    "    # Use a condition to eventually break\n",
    "    if x > 1000:\n",
    "        break\n",
    "    print(x, end=\" \")"
   ]
  },
  {
   "cell_type": "markdown",
   "metadata": {},
   "source": [
    "## <a id='toc11_'></a>Scopes and Namespaces [&#8593;](#toc0_)\n"
   ]
  },
  {
   "attachments": {},
   "cell_type": "markdown",
   "metadata": {},
   "source": [
    "-   _Name Resolution_\n",
    "    -   Process of determining the value associated with an identifier\n",
    "    -   **Names must have been defined before usage**\n",
    "    -   If a variable name does not exist, a `NameError` is raised\n",
    "-   A variable's value assignment is made within a specific scope\n",
    "    -   _Global_ - Top-level assignments\n",
    "    -   _Local_ - Assignments made within a function\n",
    "-   **Namespace**\n",
    "    -   Abstraction that manages identifiers within a given scope\n",
    "    -   Implemented with Python Dictionary\n",
    "    -   Maps each identifying string to its associated value\n",
    "    -   **`dir()` reports the names of identifiers in a given namespace**\n",
    "        -   By default, report on the most enclosing namespace\n",
    "    -   **`vars()` returns the full dictionary of identifiers in the namespace**\n",
    "        -   By default, reports on the most enclosing namespace\n"
   ]
  },
  {
   "cell_type": "code",
   "execution_count": 67,
   "metadata": {},
   "outputs": [
    {
     "name": "stdout",
     "output_type": "stream",
     "text": [
      "x = 3\n",
      "y = 4\n",
      "dir() = ['x', 'y']\n",
      "vars() = {'x': 3, 'y': 4}\n"
     ]
    }
   ],
   "source": [
    "def simple_test_func() -> None:\n",
    "    x: int = 3\n",
    "    y: int = 4\n",
    "\n",
    "    print(f\"{x = }\")\n",
    "    print(f\"{y = }\")\n",
    "\n",
    "    # Print a list of all local variables\n",
    "    print(f\"{dir() = }\")\n",
    "\n",
    "    # Print a key:value mapping of all local variables\n",
    "    print(f\"{vars() = }\")\n",
    "\n",
    "\n",
    "simple_test_func()"
   ]
  },
  {
   "attachments": {},
   "cell_type": "markdown",
   "metadata": {},
   "source": [
    "-   Python's name resolution starts from the most locally enclosing namespace\n",
    "    -   If not found, then move outward up to the global namespace\n",
    "    -   Following the _LEGB_ rule: _Local_, _External_, _Global_, _Builtins_\n",
    "    -   If not found, then `NameError`\n",
    "-   Each object has its own namespace to store its attributes\n",
    "-   Each class has a namespace as well\n"
   ]
  },
  {
   "cell_type": "markdown",
   "metadata": {},
   "source": [
    "### <a id='toc11_1_'></a>First-Class Objects [&#8593;](#toc0_)\n"
   ]
  },
  {
   "attachments": {},
   "cell_type": "markdown",
   "metadata": {},
   "source": [
    "-   Instances of a type that can be\n",
    "    -   Assigned to an identifier\n",
    "    -   Passed as a parameter\n",
    "    -   Returned by a function\n",
    "-   In Python\n",
    "    -   All primitives\n",
    "    -   All classes\n",
    "    -   All functions\n",
    "    -   All modules\n",
    "-   In Python, functions can also be passed around as parameters\n",
    "    -   Just think of function bodies as values\n",
    "-   Variable, Function, and Class declarations introduce the identifier into the namespace\n"
   ]
  },
  {
   "cell_type": "markdown",
   "metadata": {},
   "source": [
    "## <a id='toc12_'></a>Modules and Imports [&#8593;](#toc0_)\n"
   ]
  },
  {
   "attachments": {},
   "cell_type": "markdown",
   "metadata": {},
   "source": [
    "-   Depending on Python version, there are about 130-150 built-in functions\n",
    "    -   Most of the pure Python functions are listed [here](https://docs.python.org/3.12/library/functions.html)\n",
    "-   Beyond built-in functions, Python has thousands of additional libraries called _Modules_\n",
    "    -   Modules can be _imported_ from within a program\n",
    "    -   `import` statement loads definitions from a module into the current namespace\n",
    "    -   Some modules also contain definitions for constants\n",
    "-   **Modules are also first-class objects**\n"
   ]
  },
  {
   "cell_type": "code",
   "execution_count": 68,
   "metadata": {},
   "outputs": [
    {
     "name": "stdout",
     "output_type": "stream",
     "text": [
      "PI = 3.141592653589793\n",
      "E = 2.718281828459045\n",
      "sqrt(8) = 2.8284271247461903\n"
     ]
    }
   ],
   "source": [
    "# IMPORT MODULES\n",
    "# --------------\n",
    "import math\n",
    "\n",
    "print(f\"PI = {math.pi}\")\n",
    "print(f\"E = {math.e}\")\n",
    "print(f\"sqrt(8) = {math.sqrt(8)}\")"
   ]
  },
  {
   "attachments": {},
   "cell_type": "markdown",
   "metadata": {},
   "source": [
    "-   Import specific functionalities from a module\n",
    "\n",
    "```python\n",
    "from math import ( pi, sqrt )\n",
    "```\n",
    "\n",
    "-   Import everything from a module (should be used sparingly as it can create _Name Collisions_)\n",
    "\n",
    "```python\n",
    "from math import *\n",
    "```\n",
    "\n",
    "-   Import the whole module with an alias\n",
    "\n",
    "```python\n",
    "import math as mt\n",
    "```\n",
    "\n",
    "-   Import the whole module as-is\n",
    "\n",
    "```python\n",
    "import math\n",
    "```\n"
   ]
  },
  {
   "cell_type": "markdown",
   "metadata": {},
   "source": [
    "### <a id='toc12_1_'></a>Creating a New Module [&#8593;](#toc0_)\n"
   ]
  },
  {
   "attachments": {},
   "cell_type": "markdown",
   "metadata": {},
   "source": [
    "-   **A `.py` file is a module**\n",
    "-   Definitions in a `.py` file can be imported into another `.py` file in the same directory\n",
    "-   **Top-level commands in the module are executed when the module is first imported**\n",
    "    -   To be explicit, we could specify what is executed if the module is called as execution\n",
    "    -   Executing commands should be placed in a body of a conditional statement of the following form\n",
    "    -   Such commands is executed if the interpreter is started with a command `python`\n",
    "    -   But not when the utility module is imported into another context\n",
    "    -   This technique is often used for _Unit Tests_\n",
    "\n",
    "```python\n",
    "if __name__ == \"__main__\":\n",
    "    # Add execution codes here\n",
    "```\n"
   ]
  },
  {
   "cell_type": "markdown",
   "metadata": {},
   "source": [
    "### <a id='toc12_2_'></a>Existing Modules [&#8593;](#toc0_)\n"
   ]
  },
  {
   "attachments": {},
   "cell_type": "markdown",
   "metadata": {},
   "source": [
    "-   For a complete list of all modules in the standard library, check the [_Python Standard Library_ Documentation](https://docs.python.org/3/library/index.html)\n",
    "-   The following modules are relevant to the study of Data Structures and Algorithms\n",
    "\n",
    "| Module Name                                                                                                           | Description                                                                     |\n",
    "| :-------------------------------------------------------------------------------------------------------------------- | :------------------------------------------------------------------------------ |\n",
    "| [`array`](https://docs.python.org/3/library/array.html)                                                               | Compact array storage for primitives types                                      |\n",
    "| [`collections`](https://docs.python.org/3/library/collections.html)                                                   | Additional data structures and abstract classes involving collection of objects |\n",
    "| [`collections.abc`](https://docs.python.org/3/library/collections.abc.html)                                           | Abstract Base Classes for `collections`                                         |\n",
    "| [`copy`](https://docs.python.org/3/library/copy.html)                                                                 | General function for making copies of objects                                   |\n",
    "| [`heapq`](https://docs.python.org/3/library/heapq.html)                                                               | Heap-based priority queue functions                                             |\n",
    "| [`math`](https://docs.python.org/3/library/math.html)                                                                 | Common mathematical constants and functions                                     |\n",
    "| [`os`](https://docs.python.org/3/library/os.html)                                                                     | General support for interactions with the operating system                      |\n",
    "| [`random`](https://docs.python.org/3/library/random.html)/[`secrets`](https://docs.python.org/3/library/secrets.html) | Random number generation                                                        |\n",
    "| [`re`](https://docs.python.org/3/library/re.html)                                                                     | Support for processing regular expressions                                      |\n",
    "| [`sys`](https://docs.python.org/3/library/sys.html)                                                                   | Additional level of interaction with the Python interpreter                     |\n",
    "| [`time`](https://docs.python.org/3/library/time.html)                                                                 | Support for measuring time, or delaying a program                               |\n"
   ]
  },
  {
   "cell_type": "markdown",
   "metadata": {},
   "source": [
    "#### <a id='toc12_2_1_'></a>Pseudo Random Number Generation [&#8593;](#toc0_)\n"
   ]
  },
  {
   "attachments": {},
   "cell_type": "markdown",
   "metadata": {},
   "source": [
    "-   Numbers that are statistically random but not necessarily truly random\n",
    "    -   Uses a deterministic formula to generate the next number in a sequence \n",
    "    -   Based upon one or more past numbers that it has generated\n",
    "    -   $next = (a \\times current + b) \\mod n$ with $a$, $b$, and $n$ are appropriately chosen integers\n",
    "    -   Python has a function for that: Uses the `random` module\n",
    "-   **Python uses a more advanced _Mersenne twister_ approach for the `random` module**\n",
    "    -   Sequences generated by these techniques can be proven to be statistically uniform\n",
    "    -   Good enough for most applications requiring random numbers\n",
    "    -   **However, it should not be used for computer security settings**\n",
    "-   The next number in a pseudo-random generator is determined by the previous number(s)\n",
    "    -   Always need an initial place to start: _Seed_\n",
    "    -   _The sequence of numbers generated for a given seed will always be the same_\n",
    "    -   Or use a different seed for each run (e.g. current timestamp in millisecond, user input...)\n",
    "-   Pseudo Random Number Generators instances in Python are created with `random.Random()`\n",
    "    -   We can have multiple instances in a program (independance)\n",
    "    -   Calls to one generator do not affect the sequence of numbers produced by another\n",
    "    -   **All methods by the `Random` class are also standalone functions of the `random` module**\n",
    "-   **NOTE: The pseudo-random generators of this module should not be used for security purposes. For security or cryptographic uses, use the `secrets` module instead.**\n"
   ]
  },
  {
   "attachments": {},
   "cell_type": "markdown",
   "metadata": {},
   "source": [
    "| Method/Function                | Description                                                                               |\n",
    "| :----------------------------- | :---------------------------------------------------------------------------------------- |\n",
    "| `seed(hashable)`               | Initializes the Pseudo Random Number Generator based upon the hash value of the parameter |\n",
    "| `random()`                     | Returns a pseudo-random floating-point value in the interval `[0.0, 1.0)`                 |\n",
    "| `randint(a,b)`                 | Returns a pseudo-random integer in the closed interval `[a, b]`                           |\n",
    "| `randrange(start, stop, step)` | Returns a pseudo-random integer in the standard Python range indicated by the parameters  |\n",
    "| `choice(seq)`                  | Returns an element of the given sequence chosen pseudo-randomly                           |\n",
    "| `shuffle(seq)`                 | Reorders the elements of the given sequence pseudo-randomly                               |\n"
   ]
  }
 ],
 "metadata": {
  "kernelspec": {
   "display_name": "venv",
   "language": "python",
   "name": "python3"
  },
  "language_info": {
   "codemirror_mode": {
    "name": "ipython",
    "version": 3
   },
   "file_extension": ".py",
   "mimetype": "text/x-python",
   "name": "python",
   "nbconvert_exporter": "python",
   "pygments_lexer": "ipython3",
   "version": "3.12.3"
  },
  "vscode": {
   "interpreter": {
    "hash": "e8c8a60035c01a53b84086cf95ad18eb674168330f9954b562dcb4123b7e9222"
   }
  }
 },
 "nbformat": 4,
 "nbformat_minor": 2
}
